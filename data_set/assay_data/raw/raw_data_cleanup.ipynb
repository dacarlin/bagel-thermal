{
 "cells": [
  {
   "cell_type": "code",
   "execution_count": 1,
   "metadata": {
    "collapsed": false
   },
   "outputs": [
    {
     "name": "stdout",
     "output_type": "stream",
     "text": [
      "Index(['well', 'rate', 'mutant', 'protein_yield', 'dilution', 'note'], dtype='object')\n",
      "Index(['well', 'rate', 'mutant'], dtype='object')\n"
     ]
    }
   ],
   "source": [
    "import pandas \n",
    "\n",
    "kinetics = pandas.read_csv( 'kinetics.csv' )\n",
    "thermal = pandas.read_csv( 'thermal.csv' ) \n",
    "\n",
    "print( kinetics.columns )\n",
    "print( thermal.columns ) "
   ]
  },
  {
   "cell_type": "code",
   "execution_count": 2,
   "metadata": {
    "collapsed": false
   },
   "outputs": [
    {
     "name": "stdout",
     "output_type": "stream",
     "text": [
      "     well      rate   mutant  temp\n",
      "2143   G4  0.000288    W325A  32.9\n",
      "3152   G3  0.000026  H119N_D  32.9\n",
      "2616   A9  0.000024    W409Y  50.0\n"
     ]
    }
   ],
   "source": [
    "# for thermal \n",
    "# convert well indexes into temperatures based on map \n",
    "\n",
    "temp_key = pandas.read_csv( 'temperature_key.csv', index_col='Well' )\n",
    "thermal['temp'] = thermal.well.str[0].map( temp_key.Celsius.to_dict() ) \n",
    "\n",
    "print( thermal.sample( 3 ) )"
   ]
  },
  {
   "cell_type": "code",
   "execution_count": 3,
   "metadata": {
    "collapsed": false
   },
   "outputs": [
    {
     "name": "stdout",
     "output_type": "stream",
     "text": [
      "    well      rate mutant  protein_yield  dilution  note       kobs\n",
      "169  B10  0.018800  N220G           2.18      0.01   NaN  78.166606\n",
      "437   F7  0.000029  W399R           2.13      0.10   NaN   0.012468\n",
      "259   D9  0.000015  E164G           0.21      0.10   NaN   0.063016\n"
     ]
    }
   ],
   "source": [
    "# for kinetics, convert the rate into units (1/min) \n",
    "# hard-coded values:\n",
    "#  0.0002 is the conversion from OD to M\n",
    "#  0.25 is because we dilute the protein 4-fold upon initiation \n",
    "#  113330 is the extinction coef of BglB, used to convert mg/mL to M\n",
    "\n",
    "kinetics[ 'kobs' ] = kinetics['rate'] * 0.0002 / ( kinetics[ 'protein_yield' ] * kinetics[ 'dilution' ] * 0.25 / 113300 )\n",
    "\n",
    "print( kinetics.sample( 3 ) ) "
   ]
  },
  {
   "cell_type": "code",
   "execution_count": 4,
   "metadata": {
    "collapsed": false
   },
   "outputs": [],
   "source": [
    "# also for kinetics, convert well indexes into substrate concentrations\n",
    "\n",
    "def my_s( x ):\n",
    "    my_ss = dict( zip( 'ABCDEFGH', [ .075, .01875, .0046875, .001171875, .0002929688, .0000732422, .0000183105, 0 ] ) )\n",
    "    return my_ss[ x[0] ] \n",
    "\n",
    "kinetics[ 's' ] = kinetics.well.map( my_s ) "
   ]
  },
  {
   "cell_type": "code",
   "execution_count": 5,
   "metadata": {
    "collapsed": true
   },
   "outputs": [],
   "source": [
    "# anything we need to manually drop? \n",
    "\n",
    "to_drop = [ 'WT', 'WT1' ] \n",
    "\n",
    "for df in [ kinetics, thermal ]:\n",
    "    for item in to_drop:\n",
    "        if item in df.index:\n",
    "            df.drop( item, inplace=True ) "
   ]
  },
  {
   "cell_type": "code",
   "execution_count": 6,
   "metadata": {
    "collapsed": true
   },
   "outputs": [],
   "source": [
    "# now export \"cleaned\" data \n",
    "\n",
    "kinetics.to_csv( '../clean/kinetics.csv' ) \n",
    "thermal.to_csv( '../clean/thermal.csv' ) "
   ]
  }
 ],
 "metadata": {
  "anaconda-cloud": {},
  "kernelspec": {
   "display_name": "Python [conda root]",
   "language": "python",
   "name": "conda-root-py"
  },
  "language_info": {
   "codemirror_mode": {
    "name": "ipython",
    "version": 3
   },
   "file_extension": ".py",
   "mimetype": "text/x-python",
   "name": "python",
   "nbconvert_exporter": "python",
   "pygments_lexer": "ipython3",
   "version": "3.5.2"
  }
 },
 "nbformat": 4,
 "nbformat_minor": 0
}
