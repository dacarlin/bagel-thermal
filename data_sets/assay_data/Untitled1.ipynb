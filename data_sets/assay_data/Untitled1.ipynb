{
 "cells": [
  {
   "cell_type": "code",
   "execution_count": 9,
   "metadata": {
    "collapsed": true
   },
   "outputs": [],
   "source": [
    "import numpy as np "
   ]
  },
  {
   "cell_type": "code",
   "execution_count": 10,
   "metadata": {
    "collapsed": true
   },
   "outputs": [],
   "source": [
    "import pandas\n",
    "import matplotlib.pyplot as plt \n",
    "%matplotlib inline "
   ]
  },
  {
   "cell_type": "code",
   "execution_count": 11,
   "metadata": {
    "collapsed": false
   },
   "outputs": [],
   "source": [
    "df = pandas.read_csv( 'clean/thermal.csv' )\n",
    "N220 = df[ ( df.mutant.str[0:4] == 'N220' ) ]"
   ]
  },
  {
   "cell_type": "code",
   "execution_count": 12,
   "metadata": {
    "collapsed": false
   },
   "outputs": [],
   "source": [
    "df = pandas.read_csv( '../data_set.csv', index_col=0 )\n",
    "N220 = df[ ( df.index.str[0:4] == 'N220' ) ]"
   ]
  },
  {
   "cell_type": "code",
   "execution_count": 33,
   "metadata": {
    "collapsed": false
   },
   "outputs": [
    {
     "data": {
      "text/plain": [
       "(0, 10)"
      ]
     },
     "execution_count": 33,
     "metadata": {},
     "output_type": "execute_result"
    },
    {
     "data": {
      "image/png": "[encoded data removed]",
      "text/plain": [
       "<matplotlib.figure.Figure at 0x115f975f8>"
      ]
     },
     "metadata": {},
     "output_type": "display_data"
    }
   ],
   "source": [
    "x_vals = np.linspace( 0, .75, 50 ) \n",
    "def f( x, kcat, km ):\n",
    "    return x*kcat/(x+km) \n",
    "\n",
    "plt.figure( figsize=(5,5) ) \n",
    "plt.xlabel( 'Substrate concentration (M)' ) \n",
    "for idx, row in N220.iterrows():    \n",
    "    plt.plot( x_vals, f(x_vals, row.kcat, row.km ) )\n",
    "    #plt.text( .85, f(x_vals.max(), row.kcat, row.km), idx )\n",
    "plt.xlim( ( 0, 0.1 ) )\n",
    "plt.ylim( ( 0, 10 ) ) "
   ]
  },
  {
   "cell_type": "code",
   "execution_count": null,
   "metadata": {
    "collapsed": true
   },
   "outputs": [],
   "source": [
    "df  \n",
    "for idx, data in df.groupby( 'mutant' ):\n",
    "    normalized_rates = data.rate / data.rate.max()\n",
    "    plt.scatter( data.temp, normalized_rates, color='k' )\n",
    "    x_vals = np.linspace( data.temp.min(), data.temp.max(), 50 )\n",
    "    my_params = good_thermal_fits.loc[ idx ]\n",
    "    plt.plot( x_vals, r( x_vals, my_params.tm, my_params.k ), color='red' )\n",
    "    plt.legend( ['T$_m$ = {} ± {} ˚C'.format( my_params.tm.round(1), my_params.tm_std_err.round(1) )], loc=1 )\n",
    "    plt.xlim( ( 28, 52 ) )\n",
    "    plt.xticks( ( 30, 35, 40, 45, 50 ) ) \n",
    "    plt.xlabel( 'Incubation temperature (˚C)' )\n",
    "    plt.yticks( ( 0, 0.25, .5, .75, 1 ) )\n",
    "    plt.ylabel( 'Normalized product formation rate' ) \n",
    "    print( idx ) \n",
    "    #plt.title( idx ) \n",
    "    if '_' in idx:\n",
    "        plt.title( idx.split( '_' )[0] )\n",
    "    else:\n",
    "        plt.title( idx )\n",
    "    plt.show()"
   ]
  }
 ],
 "metadata": {
  "kernelspec": {
   "display_name": "Python [conda root]",
   "language": "python",
   "name": "conda-root-py"
  },
  "language_info": {
   "codemirror_mode": {
    "name": "ipython",
    "version": 3
   },
   "file_extension": ".py",
   "mimetype": "text/x-python",
   "name": "python",
   "nbconvert_exporter": "python",
   "pygments_lexer": "ipython3",
   "version": "3.5.2"
  }
 },
 "nbformat": 4,
 "nbformat_minor": 1
}
