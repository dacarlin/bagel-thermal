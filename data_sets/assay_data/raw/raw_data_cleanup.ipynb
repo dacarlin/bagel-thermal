{
 "cells": [
  {
   "cell_type": "code",
   "execution_count": 3,
   "metadata": {
    "collapsed": false
   },
   "outputs": [
    {
     "name": "stdout",
     "output_type": "stream",
     "text": [
      "Index(['well', 'rate', 'mutant', 'protein_yield', 'dilution', 'note'], dtype='object')\n",
      "Index(['well', 'rate', 'mutant'], dtype='object')\n"
     ]
    }
   ],
   "source": [
    "import pandas \n",
    "\n",
    "kinetics = pandas.read_csv( 'kinetics.csv' )\n",
    "thermal = pandas.read_csv( 'thermal.csv' ) \n",
    "\n",
    "print( kinetics.columns )\n",
    "print( thermal.columns ) "
   ]
  },
  {
   "cell_type": "code",
   "execution_count": 4,
   "metadata": {
    "collapsed": false
   },
   "outputs": [
    {
     "name": "stdout",
     "output_type": "stream",
     "text": [
      "     well      rate mutant  temp\n",
      "1947   C1  0.000048  T178R  44.3\n",
      "928    A6  0.000112  K344A  50.0\n",
      "1373   C1  0.000028  N293Q  44.3\n"
     ]
    }
   ],
   "source": [
    "# for thermal \n",
    "# convert well indexes into temperatures based on map \n",
    "\n",
    "temp_key = pandas.read_csv( 'temperature_key.csv', index_col='Well' )\n",
    "thermal['temp'] = thermal.well.str[0].map( temp_key.Celsius.to_dict() ) \n",
    "\n",
    "print( thermal.sample( 3 ) )"
   ]
  },
  {
   "cell_type": "code",
   "execution_count": 5,
   "metadata": {
    "collapsed": false
   },
   "outputs": [
    {
     "name": "stdout",
     "output_type": "stream",
     "text": [
      "    well      rate mutant  protein_yield  dilution  note      kobs\n",
      "268  E10 -0.000012  E164R           0.16       0.1   NaN -0.069113\n",
      "26    C4  0.004870  N293C           1.87       0.1   NaN  2.360518\n",
      "231   H5 -0.000007   S16N           0.16       0.1   NaN -0.038352\n"
     ]
    }
   ],
   "source": [
    "# for kinetics, convert the rate into units (1/min) \n",
    "# hard-coded values:\n",
    "#  0.0002 is the conversion from OD to M\n",
    "#  0.25 is because we dilute the protein 4-fold upon initiation \n",
    "#  113330 is the extinction coef of BglB, used to convert mg/mL to M\n",
    "\n",
    "kinetics[ 'kobs' ] = kinetics['rate'] * 0.0002 / ( kinetics[ 'protein_yield' ] * kinetics[ 'dilution' ] * 0.25 / 113300 )\n",
    "\n",
    "print( kinetics.sample( 3 ) ) "
   ]
  },
  {
   "cell_type": "code",
   "execution_count": 6,
   "metadata": {
    "collapsed": false
   },
   "outputs": [],
   "source": [
    "# also for kinetics, convert well indexes into substrate concentrations\n",
    "\n",
    "def my_s( x ):\n",
    "    my_ss = dict( zip( 'ABCDEFGH', [ .75, .1875, .046875, .01171875, .002929688, .000732422, .000183105, 0 ] ) )\n",
    "    return my_ss[ x[0] ] \n",
    "\n",
    "kinetics[ 's' ] = kinetics.well.map( my_s ) "
   ]
  },
  {
   "cell_type": "code",
   "execution_count": 7,
   "metadata": {
    "collapsed": false
   },
   "outputs": [
    {
     "data": {
      "text/plain": [
       "0.124992370625"
      ]
     },
     "execution_count": 7,
     "metadata": {},
     "output_type": "execute_result"
    }
   ],
   "source": [
    "import numpy as np \n",
    "np.mean( [ .75, .1875, .046875, .01171875, .002929688, .000732422, .000183105, 0 ] )"
   ]
  },
  {
   "cell_type": "code",
   "execution_count": 8,
   "metadata": {
    "collapsed": true
   },
   "outputs": [],
   "source": [
    "# anything we need to manually drop? \n",
    "\n",
    "to_drop = [ 'WT', 'WT1' ] \n",
    "\n",
    "for df in [ kinetics, thermal ]:\n",
    "    for item in to_drop:\n",
    "        if item in df.index:\n",
    "            df.drop( item, inplace=True ) "
   ]
  },
  {
   "cell_type": "code",
   "execution_count": 9,
   "metadata": {
    "collapsed": true
   },
   "outputs": [],
   "source": [
    "# now export \"cleaned\" data \n",
    "\n",
    "kinetics.to_csv( '../clean/kinetics.csv' ) \n",
    "thermal.to_csv( '../clean/thermal.csv' ) "
   ]
  }
 ],
 "metadata": {
  "anaconda-cloud": {},
  "kernelspec": {
   "display_name": "Python [conda root]",
   "language": "python",
   "name": "conda-root-py"
  },
  "language_info": {
   "codemirror_mode": {
    "name": "ipython",
    "version": 3
   },
   "file_extension": ".py",
   "mimetype": "text/x-python",
   "name": "python",
   "nbconvert_exporter": "python",
   "pygments_lexer": "ipython3",
   "version": "3.5.2"
  }
 },
 "nbformat": 4,
 "nbformat_minor": 0
}
