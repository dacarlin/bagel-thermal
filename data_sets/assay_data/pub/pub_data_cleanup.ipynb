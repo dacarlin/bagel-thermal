{
 "cells": [
  {
   "cell_type": "code",
   "execution_count": 11,
   "metadata": {
    "collapsed": false
   },
   "outputs": [
    {
     "name": "stdout",
     "output_type": "stream",
     "text": [
      "Index(['well', 'rate', 'mutant', 'protein_yield', 'dilution', 'note'], dtype='object')\n",
      "Index(['well', 'rate', 'mutant'], dtype='object')\n"
     ]
    }
   ],
   "source": [
    "import pandas \n",
    "\n",
    "kinetics = pandas.read_csv( 'kinetics.csv' )\n",
    "thermal = pandas.read_csv( 'thermal.csv' ) \n",
    "\n",
    "print( kinetics.columns )\n",
    "print( thermal.columns ) "
   ]
  },
  {
   "cell_type": "code",
   "execution_count": 12,
   "metadata": {
    "collapsed": false
   },
   "outputs": [
    {
     "name": "stdout",
     "output_type": "stream",
     "text": [
      "    well     rate mutant   temp\n",
      "890  G10  0.25100  M358T  32.90\n",
      "537   F8 -0.00023  H119N  35.75\n",
      "130   C8  0.00027  E154D  44.30\n"
     ]
    }
   ],
   "source": [
    "# for thermal \n",
    "# convert well indexes into temperatures based on map \n",
    "\n",
    "temp_key = pandas.read_csv( '../raw/temperature_key.csv', index_col='Well' )\n",
    "thermal['temp'] = thermal.well.str[0].map( temp_key.Celsius.to_dict() ) \n",
    "\n",
    "print( thermal.sample( 3 ) )"
   ]
  },
  {
   "cell_type": "code",
   "execution_count": 13,
   "metadata": {
    "collapsed": false
   },
   "outputs": [
    {
     "name": "stdout",
     "output_type": "stream",
     "text": [
      "    well    rate mutant  protein_yield  dilution  note        kobs\n",
      "98    C1  0.0968  L362M           1.99      0.01   NaN  440.902111\n",
      "100   E1  0.0122  L362M           1.99      0.01   NaN   55.568241\n",
      "185  B12  0.0185  N220G           2.18      0.01   NaN   76.919266\n"
     ]
    }
   ],
   "source": [
    "# for kinetics, convert the rate into units (1/min) \n",
    "# hard-coded values:\n",
    "#  0.0002 is the conversion from OD to M\n",
    "#  0.25 is because we dilute the protein 4-fold upon initiation \n",
    "#  113330 is the extinction coef of BglB, used to convert mg/mL to M\n",
    "\n",
    "kinetics[ 'kobs' ] = kinetics['rate'] * 0.0002 / ( kinetics[ 'protein_yield' ] * kinetics[ 'dilution' ] * 0.25 / 113300 )\n",
    "\n",
    "print( kinetics.sample( 3 ) ) "
   ]
  },
  {
   "cell_type": "code",
   "execution_count": 14,
   "metadata": {
    "collapsed": false
   },
   "outputs": [],
   "source": [
    "# also for kinetics, convert well indexes into substrate concentrations\n",
    "\n",
    "def my_s( x ):\n",
    "    my_ss = dict( zip( 'ABCDEFGH', [ .75, .1875, .046875, .01171875, .002929688, .000732422, .000183105, 0 ] ) )\n",
    "    return my_ss[ x[0] ] \n",
    "\n",
    "kinetics[ 's' ] = kinetics.well.map( my_s ) "
   ]
  },
  {
   "cell_type": "code",
   "execution_count": 15,
   "metadata": {
    "collapsed": false
   },
   "outputs": [
    {
     "data": {
      "text/plain": [
       "0.124992370625"
      ]
     },
     "execution_count": 15,
     "metadata": {},
     "output_type": "execute_result"
    }
   ],
   "source": [
    "import numpy as np \n",
    "np.mean( [ .75, .1875, .046875, .01171875, .002929688, .000732422, .000183105, 0 ] )"
   ]
  },
  {
   "cell_type": "code",
   "execution_count": 16,
   "metadata": {
    "collapsed": true
   },
   "outputs": [],
   "source": [
    "# anything we need to manually drop? \n",
    "\n",
    "to_drop = [ 'WT', 'WT1' ] \n",
    "\n",
    "for df in [ kinetics, thermal ]:\n",
    "    for item in to_drop:\n",
    "        if item in df.index:\n",
    "            df.drop( item, inplace=True ) "
   ]
  },
  {
   "cell_type": "code",
   "execution_count": 17,
   "metadata": {
    "collapsed": true
   },
   "outputs": [],
   "source": [
    "# now export \"cleaned\" data \n",
    "\n",
    "kinetics.to_csv( '../pub/kinetics.csv' ) \n",
    "thermal.to_csv( '../pub/thermal.csv' ) "
   ]
  },
  {
   "cell_type": "code",
   "execution_count": null,
   "metadata": {
    "collapsed": true
   },
   "outputs": [],
   "source": []
  }
 ],
 "metadata": {
  "anaconda-cloud": {},
  "kernelspec": {
   "display_name": "Python [conda root]",
   "language": "python",
   "name": "conda-root-py"
  },
  "language_info": {
   "codemirror_mode": {
    "name": "ipython",
    "version": 3
   },
   "file_extension": ".py",
   "mimetype": "text/x-python",
   "name": "python",
   "nbconvert_exporter": "python",
   "pygments_lexer": "ipython3",
   "version": "3.5.2"
  }
 },
 "nbformat": 4,
 "nbformat_minor": 0
}
