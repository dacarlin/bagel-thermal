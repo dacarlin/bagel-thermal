{
 "cells": [
  {
   "cell_type": "code",
   "execution_count": 3,
   "metadata": {
    "collapsed": false
   },
   "outputs": [
    {
     "name": "stdout",
     "output_type": "stream",
     "text": [
      "Index(['well', 'rate', 'mutant', 'protein_yield', 'dilution', 'note'], dtype='object')\n",
      "Index(['well', 'rate', 'mutant'], dtype='object')\n"
     ]
    }
   ],
   "source": [
    "import pandas \n",
    "\n",
    "kinetics = pandas.read_csv( 'kinetics.csv' )\n",
    "thermal = pandas.read_csv( 'thermal.csv' ) \n",
    "\n",
    "print( kinetics.columns )\n",
    "print( thermal.columns ) "
   ]
  },
  {
   "cell_type": "code",
   "execution_count": 4,
   "metadata": {
    "collapsed": false
   },
   "outputs": [
    {
     "name": "stdout",
     "output_type": "stream",
     "text": [
      "     well      rate mutant   temp\n",
      "1186   C2 -0.000041  M323K  44.30\n",
      "1929   B5  0.000044   S16N  47.15\n",
      "296    A5  0.000046  E180L  50.00\n"
     ]
    }
   ],
   "source": [
    "# for thermal \n",
    "# convert well indexes into temperatures based on map \n",
    "\n",
    "temp_key = pandas.read_csv( 'temperature_key.csv', index_col='Well' )\n",
    "thermal['temp'] = thermal.well.str[0].map( temp_key.Celsius.to_dict() ) \n",
    "\n",
    "print( thermal.sample( 3 ) )"
   ]
  },
  {
   "cell_type": "code",
   "execution_count": 5,
   "metadata": {
    "collapsed": false
   },
   "outputs": [
    {
     "name": "stdout",
     "output_type": "stream",
     "text": [
      "    well      rate mutant  protein_yield  dilution  note       kobs\n",
      "129   B5  0.000042  W325R          0.169      0.10   NaN   0.225259\n",
      "5     F1  0.005850  W409Y          2.010      0.01   NaN  26.380299\n",
      "25    B4  0.010900  N293C          1.870      0.10   NaN   5.283294\n"
     ]
    }
   ],
   "source": [
    "# for kinetics, convert the rate into units (1/min) \n",
    "# hard-coded values:\n",
    "#  0.0002 is the conversion from OD to M\n",
    "#  0.25 is because we dilute the protein 4-fold upon initiation \n",
    "#  113330 is the extinction coef of BglB, used to convert mg/mL to M\n",
    "\n",
    "kinetics[ 'kobs' ] = kinetics['rate'] * 0.0002 / ( kinetics[ 'protein_yield' ] * kinetics[ 'dilution' ] * 0.25 / 113300 )\n",
    "\n",
    "print( kinetics.sample( 3 ) ) "
   ]
  },
  {
   "cell_type": "code",
   "execution_count": 6,
   "metadata": {
    "collapsed": false
   },
   "outputs": [],
   "source": [
    "# also for kinetics, convert well indexes into substrate concentrations\n",
    "\n",
    "def my_s( x ):\n",
    "    my_ss = dict( zip( 'ABCDEFGH', [ .75, .1875, .046875, .01171875, .002929688, .000732422, .000183105, 0 ] ) )\n",
    "    return my_ss[ x[0] ] \n",
    "\n",
    "kinetics[ 's' ] = kinetics.well.map( my_s ) "
   ]
  },
  {
   "cell_type": "code",
   "execution_count": 10,
   "metadata": {
    "collapsed": false
   },
   "outputs": [
    {
     "data": {
      "text/plain": [
       "0.124992370625"
      ]
     },
     "execution_count": 10,
     "metadata": {},
     "output_type": "execute_result"
    }
   ],
   "source": [
    "import numpy as np \n",
    "np.mean( [ .75, .1875, .046875, .01171875, .002929688, .000732422, .000183105, 0 ] )"
   ]
  },
  {
   "cell_type": "code",
   "execution_count": 7,
   "metadata": {
    "collapsed": true
   },
   "outputs": [],
   "source": [
    "# anything we need to manually drop? \n",
    "\n",
    "to_drop = [ 'WT', 'WT1' ] \n",
    "\n",
    "for df in [ kinetics, thermal ]:\n",
    "    for item in to_drop:\n",
    "        if item in df.index:\n",
    "            df.drop( item, inplace=True ) "
   ]
  },
  {
   "cell_type": "code",
   "execution_count": 8,
   "metadata": {
    "collapsed": true
   },
   "outputs": [],
   "source": [
    "# now export \"cleaned\" data \n",
    "\n",
    "kinetics.to_csv( '../clean/kinetics.csv' ) \n",
    "thermal.to_csv( '../clean/thermal.csv' ) "
   ]
  },
  {
   "cell_type": "code",
   "execution_count": null,
   "metadata": {
    "collapsed": true
   },
   "outputs": [],
   "source": []
  }
 ],
 "metadata": {
  "anaconda-cloud": {},
  "kernelspec": {
   "display_name": "Python [conda root]",
   "language": "python",
   "name": "conda-root-py"
  },
  "language_info": {
   "codemirror_mode": {
    "name": "ipython",
    "version": 3
   },
   "file_extension": ".py",
   "mimetype": "text/x-python",
   "name": "python",
   "nbconvert_exporter": "python",
   "pygments_lexer": "ipython3",
   "version": "3.5.2"
  }
 },
 "nbformat": 4,
 "nbformat_minor": 0
}
