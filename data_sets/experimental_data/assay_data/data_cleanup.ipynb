{
 "cells": [
  {
   "cell_type": "markdown",
   "metadata": {},
   "source": [
    "## Data input and cleanup \n",
    "\n",
    "Data were collected into a table with the columns `well`, `rate`, and `mutant` using Google Docs and exported to CSV, which is the input file here. "
   ]
  },
  {
   "cell_type": "code",
   "execution_count": 1,
   "metadata": {
    "collapsed": true
   },
   "outputs": [],
   "source": [
    "%matplotlib inline\n",
    "import matplotlib.pyplot as plt \n",
    "import pandas\n",
    "from sklearn.linear_model import LinearRegression\n",
    "from scipy.optimize import curve_fit \n",
    "from numpy import log, exp, linspace, sqrt, diag, array, nan\n",
    "from numpy import concatenate "
   ]
  },
  {
   "cell_type": "code",
   "execution_count": 4,
   "metadata": {
    "collapsed": false,
    "scrolled": false
   },
   "outputs": [
    {
     "name": "stdout",
     "output_type": "stream",
     "text": [
      "Input has 2975 rates. 2975 will be used, 0 will be dropped because of mutant name, 0 because negative). Samples set([]) were dropped because the given native residue does not match the BglB sequence and is not off by three\n"
     ]
    }
   ],
   "source": [
    "df = pandas.read_csv( 'raw_data.csv', index_col='mutant' )\n",
    "raw_len = len( df )\n",
    "\n",
    "df.drop( ['WT', 'WT1'], inplace=True )\n",
    "df.dropna( inplace=True ) \n",
    "\n",
    "with open( '../../reference/allowed_mutants.txt' ) as fn:\n",
    "    mutants = [ i.split('.')[0].upper() for i in fn.readlines() if len( i ) > 1 ]\n",
    "    \n",
    "def is_good( name ):\n",
    "    return name in mutants \n",
    "\n",
    "not_allowed = []\n",
    "l = []\n",
    "for name in df.index:\n",
    "    if is_good( name ) or name == 'BglB':\n",
    "        l.append( name )\n",
    "    else:\n",
    "        new = name[0] + str( int( name[1:-1] ) - 3 ) + name[-1]\n",
    "        #print 'suspected off by three', name,  \n",
    "        if is_good( new ):\n",
    "            l.append( new )\n",
    "            #print 'fixed' \n",
    "        else:\n",
    "            l.append( 'drop_me' )\n",
    "            not_allowed.append( name )\n",
    "            #print ', cannot fix' \n",
    "            \n",
    "df.index = df['mutant_old'] = l\n",
    "df.drop( ['drop_me'], inplace=True )\n",
    "\n",
    "# temperature keys as CSV files in data/\n",
    "temp_key = pandas.read_csv( '../../reference/temperature_key.csv' )\n",
    "temp_key.index = temp_key.Well\n",
    "df['temp'] = df.well.str[0].map( temp_key.Celsius.to_dict() ) \n",
    "df.dropna( inplace=True )\n",
    "pos_and_neg = len( df )\n",
    "\n",
    "# diagnostics \n",
    "print 'Input has {} rates. {} will be used, {} will be dropped because of mutant name, {} because negative).'.format( raw_len, len( df ), raw_len - pos_and_neg , pos_and_neg - len( df ) ), \n",
    "print 'Samples {} were dropped because the given native residue does not match the BglB sequence and is not off by three'.format( set( not_allowed ) )\n",
    "\n",
    "df.to_csv( 'assay_data.csv' ) "
   ]
  },
  {
   "cell_type": "code",
   "execution_count": null,
   "metadata": {
    "collapsed": true
   },
   "outputs": [],
   "source": []
  }
 ],
 "metadata": {
  "kernelspec": {
   "display_name": "Python 2",
   "language": "python",
   "name": "python2"
  },
  "language_info": {
   "codemirror_mode": {
    "name": "ipython",
    "version": 2
   },
   "file_extension": ".py",
   "mimetype": "text/x-python",
   "name": "python",
   "nbconvert_exporter": "python",
   "pygments_lexer": "ipython2",
   "version": "2.7.11"
  }
 },
 "nbformat": 4,
 "nbformat_minor": 0
}
