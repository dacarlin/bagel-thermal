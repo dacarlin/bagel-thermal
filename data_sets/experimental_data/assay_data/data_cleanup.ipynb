{
 "cells": [
  {
   "cell_type": "markdown",
   "metadata": {},
   "source": [
    "## Data input and cleanup \n",
    "\n",
    "Data were collected into a table with the columns `well`, `rate`, and `mutant` using Google Docs and exported to CSV, which is the input file here. "
   ]
  },
  {
   "cell_type": "code",
   "execution_count": 88,
   "metadata": {
    "collapsed": true
   },
   "outputs": [],
   "source": [
    "%matplotlib inline\n",
    "import matplotlib.pyplot as plt \n",
    "import pandas\n",
    "from sklearn.linear_model import LinearRegression\n",
    "from scipy.optimize import curve_fit \n",
    "from numpy import log, exp, linspace, sqrt, diag, array, nan\n",
    "from numpy import concatenate "
   ]
  },
  {
   "cell_type": "code",
   "execution_count": 78,
   "metadata": {
    "collapsed": false,
    "scrolled": false
   },
   "outputs": [
    {
     "name": "stdout",
     "output_type": "stream",
     "text": [
      "Input has 3048 rates. 3000 will be used, 48 will be dropped because of mutant name, 0 because negative). Samples set(['Q384R']) were dropped because the given native residue does not match the BglB sequence and is not off by three\n"
     ]
    }
   ],
   "source": [
    "df = pandas.read_csv( 'raw_data.csv', index_col='mutant' )\n",
    "raw_len = len( df )\n",
    "\n",
    "df.drop( ['WT', 'WT1'], inplace=True )\n",
    "df.dropna( inplace=True ) \n",
    "\n",
    "with open( '../../reference/allowed_mutants.txt' ) as fn:\n",
    "    mutants = [ i.split('.')[0].upper() for i in fn.readlines() if len( i ) > 1 ]\n",
    "    \n",
    "def is_good( name ):\n",
    "    return name in mutants \n",
    "\n",
    "not_allowed = []\n",
    "l = []\n",
    "for name in df.index:\n",
    "    if is_good( name ):\n",
    "        l.append( name )\n",
    "    else:\n",
    "        new = name[0] + str( int( name[1:-1] ) - 3 ) + name[-1]\n",
    "        #print 'suspected off by three', \n",
    "        if is_good( new ):\n",
    "            l.append( new )\n",
    "            #print 'fixed' \n",
    "        else:\n",
    "            l.append( 'drop_me' )\n",
    "            not_allowed.append( name )\n",
    "            #print ', cannot fix' \n",
    "            \n",
    "df.index = df['mutant'] = l\n",
    "df.drop( ['drop_me'], inplace=True )\n",
    "\n",
    "# temperature keys as CSV files in data/\n",
    "temp_key = pandas.read_csv( '../../reference/temperature_key.csv' )\n",
    "temp_key.index = temp_key.Well\n",
    "df['temp'] = df.well.str[0].map( temp_key.Celsius.to_dict() ) \n",
    "df.dropna( inplace=True )\n",
    "pos_and_neg = len( df )\n",
    "\n",
    "# diagnostics \n",
    "print 'Input has {} rates. {} will be used, {} will be dropped because of mutant name, {} because negative).'.format( raw_len, len( df ), raw_len - pos_and_neg , pos_and_neg - len( df ) ), \n",
    "print 'Samples {} were dropped because the given native residue does not match the BglB sequence and is not off by three'.format( set( not_allowed ) )\n",
    "\n",
    "df.to_csv( 'assay_data.csv' ) "
   ]
  },
  {
   "cell_type": "code",
   "execution_count": 79,
   "metadata": {
    "collapsed": false,
    "scrolled": false
   },
   "outputs": [],
   "source": [
    "# define logistic equation \n",
    "def f(x, x0, k): \n",
    "    return 1/(1+exp(-k*(x-x0)))\n",
    "\n",
    "# util function to fit a mutant \n",
    "def fit( df ):\n",
    "    empty = array( [ nan ] * 4 ) \n",
    "    name = df.mutant.unique()[0]\n",
    "    df.rate = df.rate / df.rate.max()\n",
    "    \n",
    "    # linear fit gets us sensible starting params for the logistic fit \n",
    "    reg = LinearRegression()\n",
    "    reg.fit( df.temp.reshape(-1, 1), df.rate )\n",
    "    slope = reg.coef_[0]\n",
    "    \n",
    "    # try fitting to logistic eqn using approximate params from linear fit\n",
    "    try:\n",
    "        p0 = ( df.temp.mean(), slope )\n",
    "        popt, pcov = curve_fit( f, df.temp, df.rate, p0=p0 )\n",
    "        perr = sqrt( diag( pcov ) ) \n",
    "        \n",
    "        # error checking \n",
    "        my_index = ['tm', 'k', 'err_tm', 'err_k' ]\n",
    "        my_params = concatenate( [ popt, perr ] ) \n",
    "        if 20 < popt[0] < 60 and popt[1] < 0 and perr[0] < 1: # biological assay limits, and make sure k is the right sign\n",
    "            return pandas.Series( my_params, index=my_index ) \n",
    "        else:\n",
    "            return pandas.Series( empty, index=my_index )\n",
    "    except Exception as e:\n",
    "        print name, e \n",
    "        return pandas.Series( empty, index=my_index )\n",
    "    # done with error checking "
   ]
  },
  {
   "cell_type": "code",
   "execution_count": 80,
   "metadata": {
    "collapsed": false
   },
   "outputs": [
    {
     "name": "stdout",
     "output_type": "stream",
     "text": [
      "Tm estimated for 68 of 117 samples\n"
     ]
    }
   ],
   "source": [
    "# apply the function to the data set \n",
    "grouped = df.groupby( by='mutant' )\n",
    "est = grouped.apply( fit )\n",
    "\n",
    "print 'Tm estimated for {} of {} samples'.format( len( est.dropna() ), len( grouped ) )"
   ]
  },
  {
   "cell_type": "code",
   "execution_count": 81,
   "metadata": {
    "collapsed": false
   },
   "outputs": [
    {
     "name": "stdout",
     "output_type": "stream",
     "text": [
      "          tm    k  err_tm  err_k\n",
      "mutant                          \n",
      "A192S   39.1 -0.9     0.3    0.3\n",
      "A356A   39.9 -1.1     0.1    0.1\n",
      "A357A   39.1 -0.3     0.5    0.1\n",
      "A408A   40.0 -1.3     0.1    0.1\n",
      "C167A   39.7 -1.4     0.5    0.6\n",
      "C167Q   38.5 -0.5     0.2    0.0\n",
      "D403A    NaN  NaN     NaN    NaN\n",
      "E154D   38.7 -0.7     0.3    0.2\n",
      "E164A    NaN  NaN     NaN    NaN\n",
      "E164G    NaN  NaN     NaN    NaN\n",
      "E164R    NaN  NaN     NaN    NaN\n",
      "E177A   37.3 -0.5     0.2    0.1\n",
      "E177K   36.6 -0.7     0.3    0.1\n",
      "E177L   39.2 -0.5     0.5    0.1\n",
      "E222A   36.7 -0.7     0.1    0.0\n",
      "E222H   34.7 -0.6     0.1    0.1\n",
      "E222K   38.5 -0.5     0.5    0.1\n",
      "E222Q   39.4 -0.8     0.4    0.2\n",
      "E222R   39.0 -0.8     0.2    0.1\n",
      "E222Y   36.9 -0.8     0.5    0.3\n",
      "E353A    NaN  NaN     NaN    NaN\n",
      "E406A   39.9 -1.5     0.7    0.7\n",
      "E406D   40.5 -1.0     0.3    0.2\n",
      "E426S   39.5 -1.4     0.1    0.2\n",
      "F415A    NaN  NaN     NaN    NaN\n",
      "F415N    NaN  NaN     NaN    NaN\n",
      "F72H    38.6 -0.4     0.4    0.1\n",
      "G355A    NaN  NaN     NaN    NaN\n",
      "H101R   40.0 -0.9     0.1    0.1\n",
      "H119A   40.2 -1.0     0.2    0.1\n",
      "...      ...  ...     ...    ...\n",
      "T218A   40.0 -1.1     0.1    0.1\n",
      "T296A    NaN  NaN     NaN    NaN\n",
      "T352A   38.0 -0.7     0.3    0.2\n",
      "V52G    39.2 -1.0     0.1    0.1\n",
      "W120A    NaN  NaN     NaN    NaN\n",
      "W120F   41.5 -0.5     0.4    0.1\n",
      "W120H   39.9 -0.6     0.2    0.1\n",
      "W325A   39.9 -0.6     0.5    0.1\n",
      "W325C   39.2 -0.9     0.2    0.1\n",
      "W325G    NaN  NaN     NaN    NaN\n",
      "W325H    NaN  NaN     NaN    NaN\n",
      "W325L    NaN  NaN     NaN    NaN\n",
      "W325R   39.9 -0.7     0.2    0.1\n",
      "W34A     NaN  NaN     NaN    NaN\n",
      "W399A    NaN  NaN     NaN    NaN\n",
      "W399C    NaN  NaN     NaN    NaN\n",
      "W399G    NaN  NaN     NaN    NaN\n",
      "W399R    NaN  NaN     NaN    NaN\n",
      "W399S    NaN  NaN     NaN    NaN\n",
      "W407A    NaN  NaN     NaN    NaN\n",
      "W407G    NaN  NaN     NaN    NaN\n",
      "W407Q    NaN  NaN     NaN    NaN\n",
      "W407R    NaN  NaN     NaN    NaN\n",
      "W409Y   36.6 -0.4     0.1    0.0\n",
      "Y166P    NaN  NaN     NaN    NaN\n",
      "Y18A    37.2 -0.3     0.3    0.0\n",
      "Y294A   40.0 -0.8     0.3    0.1\n",
      "Y294F    NaN  NaN     NaN    NaN\n",
      "Y295A    NaN  NaN     NaN    NaN\n",
      "Y295G    NaN  NaN     NaN    NaN\n",
      "\n",
      "[117 rows x 4 columns]\n"
     ]
    }
   ],
   "source": [
    "print est.round( 1 )"
   ]
  },
  {
   "cell_type": "code",
   "execution_count": 89,
   "metadata": {
    "collapsed": true
   },
   "outputs": [],
   "source": [
    "# I looked at all the plots \n",
    "\n",
    "zero_list = [ \n",
    "    'E353A', 'H315E', 'M261D', 'P329N', \n",
    "    'Q313R', 'R76A', 'S16A', 'S16N', \n",
    "    'W325H', 'W325L', 'W407G', 'Y294F', \n",
    "]\n",
    "\n",
    "for zero in zero_list:\n",
    "    fits.loc[ zero ] = empty  "
   ]
  },
  {
   "cell_type": "code",
   "execution_count": 90,
   "metadata": {
    "collapsed": false
   },
   "outputs": [],
   "source": [
    "for index, dat in grouped:\n",
    "    \n",
    "    dat = dat[ ( dat.rate > 0 ) ] \n",
    "    rate = dat.rate / dat.rate.max() \n",
    "    my_params = est.loc[ index ]\n",
    "\n",
    "    if my_params.tm != nan:\n",
    "            \n",
    "        plt.figure( figsize=(4,3) )\n",
    "        plt.scatter( dat.temp, rate, color='k', lw=0, marker='.', label=index )\n",
    "        x = linspace( dat.temp.min(), dat.temp.max(), 50 )\n",
    "        plt.plot( x, f( x, *my_params[0:2] ), color='purple', label='est. params' )\n",
    "        #plt.plot( x, f( x, 39.6, -.7 ), color='green', label='BglB' )\n",
    "        plt.xlabel( 'T (C)' )\n",
    "        plt.ylabel( 'Normalized rate')\n",
    "        plt.xticks( [ 30, 40, 50 ] )\n",
    "        plt.yticks( [ 0, 0.25, .5, 0.75, 1 ] )\n",
    "        plt.legend( loc='lower left' )\n",
    "        plt.tight_layout()\n",
    "        plt.savefig( 'plots/%s.pdf' % index, format='pdf' )\n",
    "        plt.close()"
   ]
  },
  {
   "cell_type": "code",
   "execution_count": 48,
   "metadata": {
    "collapsed": true
   },
   "outputs": [],
   "source": [
    "# add metadata\n",
    "fits['native'] = fits.index.str[0]\n",
    "fits['designed'] = fits.index.str[-1]\n",
    "fits['position'] = fits.index.str[1:-1].astype( int )"
   ]
  },
  {
   "cell_type": "code",
   "execution_count": 49,
   "metadata": {
    "collapsed": false
   },
   "outputs": [],
   "source": [
    "# production and purification data \n",
    "pp = pandas.read_csv( 'raw/production.csv', index_col='mutant' )\n",
    "#print pp.index.value_counts()\n",
    "\n",
    "# this is a sanity-checking routine for \"off-by-threes\"\n",
    "# let's just rename all the tubes\n",
    "pp_not_allowed = []\n",
    "l = []\n",
    "pp.drop( [ 'WT', 'nan' ], axis=0, inplace=True ) \n",
    "\n",
    "from numpy import nan \n",
    "\n",
    "for name in pp.index: \n",
    "    if type( name ) == float:\n",
    "        l.append( 'drop_me' ) \n",
    "    elif is_good( name ):\n",
    "        l.append( name )\n",
    "    else:\n",
    "        new = name[0] + str( int( name[1:-1] ) - 3 ) + name[-1]\n",
    "        if is_good( new ):\n",
    "            l.append( new )\n",
    "        else:\n",
    "            l.append( 'drop_me' )\n",
    "            not_allowed.append( name )\n",
    "\n",
    "pp.index = l\n",
    "joined = pp.join( fits )"
   ]
  },
  {
   "cell_type": "code",
   "execution_count": 50,
   "metadata": {
    "collapsed": false
   },
   "outputs": [],
   "source": [
    "plos = pandas.read_csv( '/Users/alex/Documents/bagel-data/clean_data/clean_for_pandas.csv', index_col='name' ) \n",
    "plos_join = joined.join( plos, rsuffix='PLOS' ) \n",
    "plos_join.to_csv( 'raw/join.csv' ) "
   ]
  }
 ],
 "metadata": {
  "kernelspec": {
   "display_name": "Python 2",
   "language": "python",
   "name": "python2"
  },
  "language_info": {
   "codemirror_mode": {
    "name": "ipython",
    "version": 2
   },
   "file_extension": ".py",
   "mimetype": "text/x-python",
   "name": "python",
   "nbconvert_exporter": "python",
   "pygments_lexer": "ipython2",
   "version": "2.7.11"
  }
 },
 "nbformat": 4,
 "nbformat_minor": 0
}
