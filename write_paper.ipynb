{
 "cells": [
  {
   "cell_type": "markdown",
   "metadata": {},
   "source": [
    "# `write_paper`\n",
    "\n",
    "An incredibly rough draft of Python scripts to generate scientific literature "
   ]
  },
  {
   "cell_type": "code",
   "execution_count": 2,
   "metadata": {
    "collapsed": true
   },
   "outputs": [],
   "source": [
    "import pandas"
   ]
  },
  {
   "cell_type": "code",
   "execution_count": 3,
   "metadata": {
    "collapsed": true
   },
   "outputs": [],
   "source": [
    "df = pandas.read_csv( 'data_set/master_sheet.csv', index_col=0, na_values=['<10'] ) "
   ]
  },
  {
   "cell_type": "code",
   "execution_count": 4,
   "metadata": {
    "collapsed": false
   },
   "outputs": [
    {
     "name": "stdout",
     "output_type": "stream",
     "text": [
      "Out of all 129 mutants that were produced, purified, and assayed for kinetic parameters and functional melting temperature, 92 (71%) were determined via SDS-PAGE to express as soluble monomeric protein in *Escherichia coli* BLR. The remaining 37 mutants were found to not express after at least two independent production attempts.\n"
     ]
    }
   ],
   "source": [
    "n_mutants = len( df )\n",
    "n_expressed = df.expression.sum()\n",
    "print( 'Out of all {} mutants that were produced, purified, and assayed for kinetic parameters and functional melting temperature, {} ({:0.0f}%) were determined via SDS-PAGE to express as soluble monomeric protein in *Escherichia coli* BLR. The remaining {} mutants were found to not express after at least two independent production attempts.'.format( n_mutants, n_expressed, 100*(n_expressed/n_mutants), n_mutants-n_expressed ) )"
   ]
  },
  {
   "cell_type": "code",
   "execution_count": 5,
   "metadata": {
    "collapsed": false
   },
   "outputs": [
    {
     "name": "stdout",
     "output_type": "stream",
     "text": [
      "\n",
      "The parameter km was measured for 76 mutants. The lowest km observed was found to be 0.4 mM, while the highest km observed was 89.18 mM (a range of 88.78 mM). The average km was found to be 11.12±13.44 mM, compared to the native value of 5.00±0.20 mM. The mutation in this data found to have the lowest km was N220Y. The mutation found to have the highest km was W120H.\n",
      "\n",
      "The parameter kcat was measured for 76 mutants. The lowest kcat observed was found to be 0.2 min-1, while the highest kcat observed was 11011.0 min-1 (a range of 11010.80 min-1). The average kcat was found to be 539.44±1263.38 min-1, compared to the native value of 880.00±10.00 min-1. The mutation in this data found to have the lowest kcat was W399R. The mutation found to have the highest kcat was R240A.\n",
      "\n",
      "The parameter kcatkm was measured for 79 mutants. The lowest kcatkm observed was found to be 11.0 M-1min-1, while the highest kcatkm observed was 1570000.0 M-1min-1 (a range of 1569989.00 M-1min-1). The average kcatkm was found to be 92361.15±191573.54 M-1min-1, compared to the native value of 174000.00±8000.00 M-1min-1. The mutation in this data found to have the lowest kcatkm was W325R. The mutation found to have the highest kcatkm was N220Y.\n",
      "\n",
      "The parameter tm was measured for 79 mutants. The lowest tm observed was found to be 34.91 ˚C, while the highest tm observed was 45.99 ˚C (a range of 11.08 ˚C). The average tm was found to be 39.46±1.65 ˚C, compared to the native value of 39.93±0.09 ˚C. The mutation in this data found to have the lowest tm was E222H. The mutation found to have the highest tm was E164A.\n"
     ]
    }
   ],
   "source": [
    "for cst_short_name, cst_long_name, cst_unit in [ \n",
    "    ('km', 'km', 'mM' ),  \n",
    "    ('kcat', 'kcat', 'min-1' ), \n",
    "    ('kcatkm', 'kcatkm', 'M-1min-1' ), \n",
    "    ('tm', 'tm', '˚C' )]:\n",
    "    print( '\\nThe parameter {1} was measured for {3} mutants. The lowest {1} observed was found to be {4} {2}, while the highest {1} observed was {5} {2} (a range of {6:2.2f} {2}). The average {1} was found to be {7:2.2f}±{8:2.2f} {2}, compared to the native value of {9:2.2f}±{10:2.2f} {2}. The mutation in this data found to have the lowest {1} was {11}. The mutation found to have the highest {1} was {12}.'.format( \n",
    "        \n",
    "        #0,1,2\n",
    "        cst_short_name, cst_long_name, cst_unit, \n",
    "            \n",
    "        #3,4,5,,6\n",
    "        len(df[(df[cst_short_name]>0)]), df[cst_short_name].min(), df[cst_short_name].max(), \n",
    "        df[cst_short_name].max()-df[cst_short_name].min(),\n",
    "            \n",
    "        #7,8\n",
    "        df[cst_short_name].mean(), df[cst_short_name].std(), \n",
    "            \n",
    "        #9,10\n",
    "        df.loc['BglB'][cst_short_name], df.loc['BglB']['err_{}'.format(cst_short_name)], \n",
    "        \n",
    "        #11,12\n",
    "        df[ ( df[ cst_short_name ] == df[ cst_short_name ].min() ) ].index[0], \n",
    "        df[ ( df[ cst_short_name ] == df[ cst_short_name ].max() ) ].index[0], \n",
    "    ) )"
   ]
  },
  {
   "cell_type": "code",
   "execution_count": 6,
   "metadata": {
    "collapsed": false
   },
   "outputs": [
    {
     "name": "stdout",
     "output_type": "stream",
     "text": [
      "43 26 10\n"
     ]
    }
   ],
   "source": [
    "within = lower = higher = 0\n",
    "for tm in df.tm:\n",
    "    if abs( 39.9 - tm ) < 1:\n",
    "        within += 1 \n",
    "    elif tm > ( 39.9 + 1 ):\n",
    "        higher += 1\n",
    "    elif tm > 0 and tm < 38.9:\n",
    "        lower += 1\n",
    "        \n",
    "print( within, lower, higher ) "
   ]
  },
  {
   "cell_type": "code",
   "execution_count": 8,
   "metadata": {
    "collapsed": false
   },
   "outputs": [
    {
     "name": "stderr",
     "output_type": "stream",
     "text": [
      "/usr/local/bin/anaconda3/lib/python3.5/site-packages/numpy/lib/function_base.py:3834: RuntimeWarning: Invalid value encountered in percentile\n",
      "  RuntimeWarning)\n"
     ]
    },
    {
     "data": {
      "text/html": [
       "<div>\n",
       "<table border=\"1\" class=\"dataframe\">\n",
       "  <thead>\n",
       "    <tr style=\"text-align: right;\">\n",
       "      <th></th>\n",
       "      <th>sequence_pos</th>\n",
       "      <th>expression</th>\n",
       "      <th>tm</th>\n",
       "      <th>k</th>\n",
       "      <th>err_tm</th>\n",
       "      <th>err_k</th>\n",
       "      <th>kcat</th>\n",
       "      <th>err_kcat</th>\n",
       "      <th>km</th>\n",
       "      <th>err_km</th>\n",
       "      <th>kcatkm</th>\n",
       "      <th>err_kcatkm</th>\n",
       "      <th>ki</th>\n",
       "      <th>ki_percent_err</th>\n",
       "      <th>ki_err</th>\n",
       "      <th>gel_number</th>\n",
       "    </tr>\n",
       "  </thead>\n",
       "  <tbody>\n",
       "    <tr>\n",
       "      <th>count</th>\n",
       "      <td>128.000000</td>\n",
       "      <td>129.000000</td>\n",
       "      <td>79.000000</td>\n",
       "      <td>79.000000</td>\n",
       "      <td>79.000000</td>\n",
       "      <td>79.000000</td>\n",
       "      <td>76.000000</td>\n",
       "      <td>76.000000</td>\n",
       "      <td>76.000000</td>\n",
       "      <td>76.000000</td>\n",
       "      <td>7.900000e+01</td>\n",
       "      <td>78.000000</td>\n",
       "      <td>8.000000</td>\n",
       "      <td>8.000000</td>\n",
       "      <td>8.000000</td>\n",
       "      <td>128.000000</td>\n",
       "    </tr>\n",
       "    <tr>\n",
       "      <th>mean</th>\n",
       "      <td>241.531250</td>\n",
       "      <td>0.713178</td>\n",
       "      <td>39.463291</td>\n",
       "      <td>-0.838354</td>\n",
       "      <td>0.268734</td>\n",
       "      <td>0.156456</td>\n",
       "      <td>539.436842</td>\n",
       "      <td>13.068553</td>\n",
       "      <td>11.117895</td>\n",
       "      <td>1.000526</td>\n",
       "      <td>9.236115e+04</td>\n",
       "      <td>5464.252564</td>\n",
       "      <td>227.772500</td>\n",
       "      <td>35.595000</td>\n",
       "      <td>111.186250</td>\n",
       "      <td>10.390625</td>\n",
       "    </tr>\n",
       "    <tr>\n",
       "      <th>std</th>\n",
       "      <td>122.181737</td>\n",
       "      <td>0.454041</td>\n",
       "      <td>1.645206</td>\n",
       "      <td>0.374917</td>\n",
       "      <td>0.156683</td>\n",
       "      <td>0.156140</td>\n",
       "      <td>1263.384644</td>\n",
       "      <td>31.362360</td>\n",
       "      <td>13.437381</td>\n",
       "      <td>1.186895</td>\n",
       "      <td>1.915735e+05</td>\n",
       "      <td>9229.112911</td>\n",
       "      <td>167.270111</td>\n",
       "      <td>22.658287</td>\n",
       "      <td>165.916493</td>\n",
       "      <td>5.749679</td>\n",
       "    </tr>\n",
       "    <tr>\n",
       "      <th>min</th>\n",
       "      <td>12.000000</td>\n",
       "      <td>0.000000</td>\n",
       "      <td>34.910000</td>\n",
       "      <td>-1.730000</td>\n",
       "      <td>0.040000</td>\n",
       "      <td>0.020000</td>\n",
       "      <td>0.200000</td>\n",
       "      <td>0.010000</td>\n",
       "      <td>0.400000</td>\n",
       "      <td>0.020000</td>\n",
       "      <td>1.100000e+01</td>\n",
       "      <td>1.000000</td>\n",
       "      <td>95.240000</td>\n",
       "      <td>13.700000</td>\n",
       "      <td>13.050000</td>\n",
       "      <td>1.000000</td>\n",
       "    </tr>\n",
       "    <tr>\n",
       "      <th>25%</th>\n",
       "      <td>NaN</td>\n",
       "      <td>0.000000</td>\n",
       "      <td>NaN</td>\n",
       "      <td>NaN</td>\n",
       "      <td>NaN</td>\n",
       "      <td>NaN</td>\n",
       "      <td>NaN</td>\n",
       "      <td>NaN</td>\n",
       "      <td>NaN</td>\n",
       "      <td>NaN</td>\n",
       "      <td>NaN</td>\n",
       "      <td>NaN</td>\n",
       "      <td>NaN</td>\n",
       "      <td>NaN</td>\n",
       "      <td>NaN</td>\n",
       "      <td>NaN</td>\n",
       "    </tr>\n",
       "    <tr>\n",
       "      <th>50%</th>\n",
       "      <td>NaN</td>\n",
       "      <td>1.000000</td>\n",
       "      <td>NaN</td>\n",
       "      <td>NaN</td>\n",
       "      <td>NaN</td>\n",
       "      <td>NaN</td>\n",
       "      <td>NaN</td>\n",
       "      <td>NaN</td>\n",
       "      <td>NaN</td>\n",
       "      <td>NaN</td>\n",
       "      <td>NaN</td>\n",
       "      <td>NaN</td>\n",
       "      <td>NaN</td>\n",
       "      <td>NaN</td>\n",
       "      <td>NaN</td>\n",
       "      <td>NaN</td>\n",
       "    </tr>\n",
       "    <tr>\n",
       "      <th>75%</th>\n",
       "      <td>NaN</td>\n",
       "      <td>1.000000</td>\n",
       "      <td>NaN</td>\n",
       "      <td>NaN</td>\n",
       "      <td>NaN</td>\n",
       "      <td>NaN</td>\n",
       "      <td>NaN</td>\n",
       "      <td>NaN</td>\n",
       "      <td>NaN</td>\n",
       "      <td>NaN</td>\n",
       "      <td>NaN</td>\n",
       "      <td>NaN</td>\n",
       "      <td>NaN</td>\n",
       "      <td>NaN</td>\n",
       "      <td>NaN</td>\n",
       "      <td>NaN</td>\n",
       "    </tr>\n",
       "    <tr>\n",
       "      <th>max</th>\n",
       "      <td>423.000000</td>\n",
       "      <td>1.000000</td>\n",
       "      <td>45.990000</td>\n",
       "      <td>-0.260000</td>\n",
       "      <td>0.790000</td>\n",
       "      <td>0.860000</td>\n",
       "      <td>11011.000000</td>\n",
       "      <td>258.000000</td>\n",
       "      <td>89.180000</td>\n",
       "      <td>5.890000</td>\n",
       "      <td>1.570000e+06</td>\n",
       "      <td>57175.000000</td>\n",
       "      <td>590.710000</td>\n",
       "      <td>86.560000</td>\n",
       "      <td>511.320000</td>\n",
       "      <td>21.000000</td>\n",
       "    </tr>\n",
       "  </tbody>\n",
       "</table>\n",
       "</div>"
      ],
      "text/plain": [
       "       sequence_pos  expression         tm          k     err_tm      err_k  \\\n",
       "count    128.000000  129.000000  79.000000  79.000000  79.000000  79.000000   \n",
       "mean     241.531250    0.713178  39.463291  -0.838354   0.268734   0.156456   \n",
       "std      122.181737    0.454041   1.645206   0.374917   0.156683   0.156140   \n",
       "min       12.000000    0.000000  34.910000  -1.730000   0.040000   0.020000   \n",
       "25%             NaN    0.000000        NaN        NaN        NaN        NaN   \n",
       "50%             NaN    1.000000        NaN        NaN        NaN        NaN   \n",
       "75%             NaN    1.000000        NaN        NaN        NaN        NaN   \n",
       "max      423.000000    1.000000  45.990000  -0.260000   0.790000   0.860000   \n",
       "\n",
       "               kcat    err_kcat         km     err_km        kcatkm  \\\n",
       "count     76.000000   76.000000  76.000000  76.000000  7.900000e+01   \n",
       "mean     539.436842   13.068553  11.117895   1.000526  9.236115e+04   \n",
       "std     1263.384644   31.362360  13.437381   1.186895  1.915735e+05   \n",
       "min        0.200000    0.010000   0.400000   0.020000  1.100000e+01   \n",
       "25%             NaN         NaN        NaN        NaN           NaN   \n",
       "50%             NaN         NaN        NaN        NaN           NaN   \n",
       "75%             NaN         NaN        NaN        NaN           NaN   \n",
       "max    11011.000000  258.000000  89.180000   5.890000  1.570000e+06   \n",
       "\n",
       "         err_kcatkm          ki  ki_percent_err      ki_err  gel_number  \n",
       "count     78.000000    8.000000        8.000000    8.000000  128.000000  \n",
       "mean    5464.252564  227.772500       35.595000  111.186250   10.390625  \n",
       "std     9229.112911  167.270111       22.658287  165.916493    5.749679  \n",
       "min        1.000000   95.240000       13.700000   13.050000    1.000000  \n",
       "25%             NaN         NaN             NaN         NaN         NaN  \n",
       "50%             NaN         NaN             NaN         NaN         NaN  \n",
       "75%             NaN         NaN             NaN         NaN         NaN  \n",
       "max    57175.000000  590.710000       86.560000  511.320000   21.000000  "
      ]
     },
     "execution_count": 8,
     "metadata": {},
     "output_type": "execute_result"
    }
   ],
   "source": [
    "df.describe()"
   ]
  },
  {
   "cell_type": "code",
   "execution_count": 9,
   "metadata": {
    "collapsed": false
   },
   "outputs": [
    {
     "data": {
      "text/html": [
       "<div>\n",
       "<table border=\"1\" class=\"dataframe\">\n",
       "  <thead>\n",
       "    <tr style=\"text-align: right;\">\n",
       "      <th></th>\n",
       "      <th>sequence_pos</th>\n",
       "      <th>expression</th>\n",
       "      <th>tm</th>\n",
       "      <th>k</th>\n",
       "      <th>err_tm</th>\n",
       "      <th>err_k</th>\n",
       "      <th>kcat</th>\n",
       "      <th>err_kcat</th>\n",
       "      <th>km</th>\n",
       "      <th>err_km</th>\n",
       "      <th>kcatkm</th>\n",
       "      <th>err_kcatkm</th>\n",
       "      <th>ki</th>\n",
       "      <th>ki_percent_err</th>\n",
       "      <th>ki_err</th>\n",
       "      <th>gel_number</th>\n",
       "    </tr>\n",
       "    <tr>\n",
       "      <th>mutant</th>\n",
       "      <th></th>\n",
       "      <th></th>\n",
       "      <th></th>\n",
       "      <th></th>\n",
       "      <th></th>\n",
       "      <th></th>\n",
       "      <th></th>\n",
       "      <th></th>\n",
       "      <th></th>\n",
       "      <th></th>\n",
       "      <th></th>\n",
       "      <th></th>\n",
       "      <th></th>\n",
       "      <th></th>\n",
       "      <th></th>\n",
       "      <th></th>\n",
       "    </tr>\n",
       "  </thead>\n",
       "  <tbody>\n",
       "    <tr>\n",
       "      <th>E222H</th>\n",
       "      <td>222.0</td>\n",
       "      <td>1</td>\n",
       "      <td>34.91</td>\n",
       "      <td>-0.7</td>\n",
       "      <td>0.15</td>\n",
       "      <td>0.07</td>\n",
       "      <td>160.0</td>\n",
       "      <td>3.0</td>\n",
       "      <td>8.54</td>\n",
       "      <td>0.53</td>\n",
       "      <td>18695.0</td>\n",
       "      <td>1212.0</td>\n",
       "      <td>NaN</td>\n",
       "      <td>NaN</td>\n",
       "      <td>NaN</td>\n",
       "      <td>2.0</td>\n",
       "    </tr>\n",
       "  </tbody>\n",
       "</table>\n",
       "</div>"
      ],
      "text/plain": [
       "        sequence_pos  expression     tm    k  err_tm  err_k   kcat  err_kcat  \\\n",
       "mutant                                                                         \n",
       "E222H          222.0           1  34.91 -0.7    0.15   0.07  160.0       3.0   \n",
       "\n",
       "          km  err_km   kcatkm  err_kcatkm  ki  ki_percent_err  ki_err  \\\n",
       "mutant                                                                  \n",
       "E222H   8.54    0.53  18695.0      1212.0 NaN             NaN     NaN   \n",
       "\n",
       "        gel_number  \n",
       "mutant              \n",
       "E222H          2.0  "
      ]
     },
     "execution_count": 9,
     "metadata": {},
     "output_type": "execute_result"
    }
   ],
   "source": [
    "df.sort_values( 'tm' ).head( 1 ) "
   ]
  },
  {
   "cell_type": "code",
   "execution_count": null,
   "metadata": {
    "collapsed": true
   },
   "outputs": [],
   "source": [
    "text_str = 'Of 78 mutants for which Tm was determined, 41 mutants (53%) have a Tm that falls within 1 ˚C of the wild type Tm. Of the remaining 37 Tm values, 26 exhibited a lower melting temperature and 11 displayed a higher melting temperature. The highest Tm observed in this data set is for the mutation E164A, which increased the Tm to 45.99 ˚C (+6.09 ˚C), while the lowest Tm observed was for mutant H178A, which had a Tm of 34.25 ˚C (–5.6 ˚C).'\n"
   ]
  }
 ],
 "metadata": {
  "anaconda-cloud": {},
  "kernelspec": {
   "display_name": "Python [conda root]",
   "language": "python",
   "name": "conda-root-py"
  },
  "language_info": {
   "codemirror_mode": {
    "name": "ipython",
    "version": 3
   },
   "file_extension": ".py",
   "mimetype": "text/x-python",
   "name": "python",
   "nbconvert_exporter": "python",
   "pygments_lexer": "ipython3",
   "version": "3.5.2"
  }
 },
 "nbformat": 4,
 "nbformat_minor": 1
}
