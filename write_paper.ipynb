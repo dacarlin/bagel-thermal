{
 "cells": [
  {
   "cell_type": "markdown",
   "metadata": {},
   "source": [
    "# `write_paper`\n",
    "\n",
    "An incredibly rough draft of Python scripts to generate scientific literature "
   ]
  },
  {
   "cell_type": "code",
   "execution_count": 1,
   "metadata": {
    "collapsed": true
   },
   "outputs": [],
   "source": [
    "import pandas"
   ]
  },
  {
   "cell_type": "code",
   "execution_count": 2,
   "metadata": {
    "collapsed": true
   },
   "outputs": [],
   "source": [
    "df = pandas.read_csv( 'data_set/master_sheet.csv', index_col=0, na_values=['<10'] ) "
   ]
  },
  {
   "cell_type": "code",
   "execution_count": 3,
   "metadata": {
    "collapsed": false
   },
   "outputs": [
    {
     "name": "stdout",
     "output_type": "stream",
     "text": [
      "Out of all 129 mutants that were produced, purified, and assayed for kinetic parameters and functional melting temperature, 92 (71%) were determined via SDS-PAGE to express as soluble monomeric protein in *Escherichia coli* BLR. The remaining 37 mutants were found to not express after at least two independent production attempts.\n"
     ]
    }
   ],
   "source": [
    "n_mutants = len( df )\n",
    "n_expressed = df.expression.sum()\n",
    "print( 'Out of all {} mutants that were produced, purified, and assayed for kinetic parameters and functional melting temperature, {} ({:0.0f}%) were determined via SDS-PAGE to express as soluble monomeric protein in *Escherichia coli* BLR. The remaining {} mutants were found to not express after at least two independent production attempts.'.format( n_mutants, n_expressed, 100*(n_expressed/n_mutants), n_mutants-n_expressed ) )"
   ]
  },
  {
   "cell_type": "code",
   "execution_count": 4,
   "metadata": {
    "collapsed": false
   },
   "outputs": [
    {
     "name": "stdout",
     "output_type": "stream",
     "text": [
      "\n",
      "The parameter km was measured for 76 mutants. The lowest km observed was found to be 0.4 mM, while the highest km observed was 89.18 mM (a range of 88.78 mM). The average km was found to be 11.12±13.44 mM, compared to the native value of 5.00±0.20 mM. The mutation in this data found to have the lowest km was N220Y. The mutation found to have the highest km was W120H.\n",
      "\n",
      "The parameter kcat was measured for 76 mutants. The lowest kcat observed was found to be 0.2 min-1, while the highest kcat observed was 11011.0 min-1 (a range of 11010.80 min-1). The average kcat was found to be 539.44±1263.38 min-1, compared to the native value of 880.00±10.00 min-1. The mutation in this data found to have the lowest kcat was W399R. The mutation found to have the highest kcat was R240A.\n",
      "\n",
      "The parameter kcatkm was measured for 79 mutants. The lowest kcatkm observed was found to be 11.0 M-1min-1, while the highest kcatkm observed was 1570000.0 M-1min-1 (a range of 1569989.00 M-1min-1). The average kcatkm was found to be 92361.15±191573.54 M-1min-1, compared to the native value of 174000.00±8000.00 M-1min-1. The mutation in this data found to have the lowest kcatkm was W325R. The mutation found to have the highest kcatkm was N220Y.\n",
      "\n",
      "The parameter tm was measured for 79 mutants. The lowest tm observed was found to be 34.91 ˚C, while the highest tm observed was 45.99 ˚C (a range of 11.08 ˚C). The average tm was found to be 39.48±1.63 ˚C, compared to the native value of 39.93±0.09 ˚C. The mutation in this data found to have the lowest tm was E222H. The mutation found to have the highest tm was E164A.\n"
     ]
    }
   ],
   "source": [
    "for cst_short_name, cst_long_name, cst_unit in [ \n",
    "    ('km', 'km', 'mM' ),  \n",
    "    ('kcat', 'kcat', 'min-1' ), \n",
    "    ('kcatkm', 'kcatkm', 'M-1min-1' ), \n",
    "    ('tm', 'tm', '˚C' )]:\n",
    "    print( '\\nThe parameter {1} was measured for {3} mutants. The lowest {1} observed was found to be {4} {2}, while the highest {1} observed was {5} {2} (a range of {6:2.2f} {2}). The average {1} was found to be {7:2.2f}±{8:2.2f} {2}, compared to the native value of {9:2.2f}±{10:2.2f} {2}. The mutation in this data found to have the lowest {1} was {11}. The mutation found to have the highest {1} was {12}.'.format( \n",
    "        \n",
    "        #0,1,2\n",
    "        cst_short_name, cst_long_name, cst_unit, \n",
    "            \n",
    "        #3,4,5,,6\n",
    "        len(df[(df[cst_short_name]>0)]), df[cst_short_name].min(), df[cst_short_name].max(), \n",
    "        df[cst_short_name].max()-df[cst_short_name].min(),\n",
    "            \n",
    "        #7,8\n",
    "        df[cst_short_name].mean(), df[cst_short_name].std(), \n",
    "            \n",
    "        #9,10\n",
    "        df.loc['BglB'][cst_short_name], df.loc['BglB']['err_{}'.format(cst_short_name)], \n",
    "        \n",
    "        #11,12\n",
    "        df[ ( df[ cst_short_name ] == df[ cst_short_name ].min() ) ].index[0], \n",
    "        df[ ( df[ cst_short_name ] == df[ cst_short_name ].max() ) ].index[0], \n",
    "    ) )"
   ]
  }
 ],
 "metadata": {
  "anaconda-cloud": {},
  "kernelspec": {
   "display_name": "Python [conda root]",
   "language": "python",
   "name": "conda-root-py"
  },
  "language_info": {
   "codemirror_mode": {
    "name": "ipython",
    "version": 3
   },
   "file_extension": ".py",
   "mimetype": "text/x-python",
   "name": "python",
   "nbconvert_exporter": "python",
   "pygments_lexer": "ipython3",
   "version": "3.5.2"
  }
 },
 "nbformat": 4,
 "nbformat_minor": 1
}
