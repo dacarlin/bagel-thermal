{
 "cells": [
  {
   "cell_type": "markdown",
   "metadata": {},
   "source": [
    "Considering we have ~60 Tm measurements, it's not really enough to do machine learning anyway. However, if we make 100 models of each mutant, we have effecitively 100 times more data. Let's try it. "
   ]
  },
  {
   "cell_type": "code",
   "execution_count": 71,
   "metadata": {
    "collapsed": false
   },
   "outputs": [
    {
     "name": "stdout",
     "output_type": "stream",
     "text": [
      "(61, 60)\n",
      "(61,)\n"
     ]
    }
   ],
   "source": [
    "import pandas \n",
    "\n",
    "feature_set = pandas.read_csv( '/Users/alex/Documents/bagel-benchmark/data_sets/calculated/enzyme_design_talaris_2014.csv', index_col=0 )\n",
    "data_set = pandas.read_csv( 'data_sets/thermo_paper_data_set.csv', index_col=0 )\n",
    "\n",
    "my_data = data_set[ [ 'tm' ] ] \n",
    "my_features = feature_set.drop( 'description', axis=1 ).copy()\n",
    "my_features = my_features.groupby( 'name' ).apply( lambda x: x.mean() ) \n",
    "#my_features = my_features.set_index( 'name' ).copy()\n",
    "my_joined = my_data.join( my_features ).dropna()\n",
    "\n",
    "y = my_joined.tm\n",
    "X = my_joined.drop( 'tm' ).copy() \n",
    "\n",
    "print X.shape\n",
    "print y.shape"
   ]
  },
  {
   "cell_type": "code",
   "execution_count": 80,
   "metadata": {
    "collapsed": false
   },
   "outputs": [
    {
     "data": {
      "text/plain": [
       "SR_5_fa_rep             -0.269947\n",
       "tot_total_charge        -0.259443\n",
       "SR_2_burunsat_pm        -0.230642\n",
       "SR_2_hbond_pm           -0.206172\n",
       "SR_2_fa_rep             -0.194053\n",
       "SR_2_pstat_pm           -0.190822\n",
       "SR_4_pstat_pm           -0.184832\n",
       "tot_total_pos_charges   -0.178178\n",
       "all_cst                 -0.137218\n",
       "SR_2_nlpstat_pm         -0.135882\n",
       "SR_1_pstat_pm           -0.127601\n",
       "SR_3_pstat_pm           -0.127601\n",
       "SR_4_burunsat_pm        -0.118083\n",
       "tot_hbond_pm            -0.105519\n",
       "SR_4_nlpstat_pm         -0.097668\n",
       "tot_burunsat_pm         -0.084361\n",
       "SR_3_burunsat_pm        -0.077152\n",
       "SR_1_burunsat_pm        -0.077152\n",
       "SR_1_nlpstat_pm         -0.068310\n",
       "SR_3_nlpstat_pm         -0.068310\n",
       "SR_4_fa_rep             -0.058818\n",
       "tot_pstat_pm            -0.057370\n",
       "SR_5_dsasa_1_2          -0.038474\n",
       "hbond_sc                -0.036529\n",
       "SR_5_all_cst            -0.035383\n",
       "SR_5_hbond_sc           -0.030687\n",
       "tot_nlpstat_pm          -0.007467\n",
       "SR_5_total_score        -0.006558\n",
       "SR_5_interf_E_1_2       -0.006479\n",
       "SR_3_fa_rep              0.021746\n",
       "SR_1_fa_rep              0.021746\n",
       "fa_rep                   0.023369\n",
       "SR_2_total_score         0.035166\n",
       "total_score              0.036503\n",
       "SR_2_all_cst             0.039687\n",
       "SR_5_burunsat_pm         0.051997\n",
       "SR_5_hbond_pm            0.052690\n",
       "tot_nlsurfaceE_pm        0.054746\n",
       "SR_3_total_score         0.096612\n",
       "SR_1_total_score         0.096612\n",
       "tot_NLconts_pm           0.097471\n",
       "SR_4_total_score         0.140187\n",
       "SR_4_hbond_sc            0.173803\n",
       "SR_3_all_cst             0.202077\n",
       "SR_1_all_cst             0.202077\n",
       "SR_4_hbond_pm            0.210218\n",
       "tot_total_neg_charges    0.211683\n",
       "SR_2_hbond_sc            0.218132\n",
       "tm                       1.000000\n",
       "tot_seq_recovery              NaN\n",
       "SR_1                          NaN\n",
       "SR_1_hbond_sc                 NaN\n",
       "SR_1_hbond_pm                 NaN\n",
       "SR_2                          NaN\n",
       "SR_3                          NaN\n",
       "SR_3_hbond_sc                 NaN\n",
       "SR_3_hbond_pm                 NaN\n",
       "SR_4                          NaN\n",
       "SR_4_all_cst                  NaN\n",
       "SR_5                          NaN\n",
       "Name: tm, dtype: float64"
      ]
     },
     "execution_count": 80,
     "metadata": {},
     "output_type": "execute_result"
    }
   ],
   "source": [
    "my_joined.corr()[ 'tm' ].copy().sort_values()"
   ]
  },
  {
   "cell_type": "code",
   "execution_count": 72,
   "metadata": {
    "collapsed": false
   },
   "outputs": [
    {
     "name": "stdout",
     "output_type": "stream",
     "text": [
      "0.999992669716 mean score\n"
     ]
    }
   ],
   "source": [
    "from sklearn import cross_validation, linear_model, pipeline, preprocessing, grid_search\n",
    "\n",
    "pln = pipeline.Pipeline([\n",
    "    ( 'scaler', preprocessing.StandardScaler() ),\n",
    "    ( 'en', linear_model.ElasticNetCV() ), \n",
    "])\n",
    "\n",
    "param_grid = {\n",
    "    #'en__l1_ratio': [ .1, .5, .7, .9, .93, .99 ] \n",
    "}\n",
    "\n",
    "grids = grid_search.GridSearchCV( pln, param_grid, cv=10 ) \n",
    "preds = cross_validation.cross_val_predict( grids, X, y ) \n",
    "scores = cross_validation.cross_val_score( grids, X, y ) \n",
    "print scores.mean(), 'mean score' "
   ]
  },
  {
   "cell_type": "code",
   "execution_count": 73,
   "metadata": {
    "collapsed": false
   },
   "outputs": [
    {
     "data": {
      "text/plain": [
       "<matplotlib.collections.PathCollection at 0x11373b6d0>"
      ]
     },
     "execution_count": 73,
     "metadata": {},
     "output_type": "execute_result"
    },
    {
     "data": {
      "image/png": "[encoded data removed]",
      "text/plain": [
       "<matplotlib.figure.Figure at 0x114508650>"
      ]
     },
     "metadata": {},
     "output_type": "display_data"
    }
   ],
   "source": [
    "%matplotlib inline\n",
    "import matplotlib.pyplot as plt \n",
    "\n",
    "plt.figure( figsize=( 5,5 ) ) \n",
    "plt.xlabel( 'predicted' )\n",
    "plt.ylabel( 'actual' ) \n",
    "plt.scatter( preds, y, lw=0, color='k' ) "
   ]
  },
  {
   "cell_type": "code",
   "execution_count": null,
   "metadata": {
    "collapsed": true
   },
   "outputs": [],
   "source": []
  }
 ],
 "metadata": {
  "kernelspec": {
   "display_name": "Python 2",
   "language": "python",
   "name": "python2"
  },
  "language_info": {
   "codemirror_mode": {
    "name": "ipython",
    "version": 2
   },
   "file_extension": ".py",
   "mimetype": "text/x-python",
   "name": "python",
   "nbconvert_exporter": "python",
   "pygments_lexer": "ipython2",
   "version": "2.7.11"
  }
 },
 "nbformat": 4,
 "nbformat_minor": 0
}
