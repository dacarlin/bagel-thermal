{
 "cells": [
  {
   "cell_type": "code",
   "execution_count": 1,
   "metadata": {
    "collapsed": true
   },
   "outputs": [],
   "source": [
    "import pandas"
   ]
  },
  {
   "cell_type": "code",
   "execution_count": 15,
   "metadata": {
    "collapsed": false
   },
   "outputs": [],
   "source": [
    "# clean data \n",
    "\n",
    "feature_set = pandas.read_csv( 'rosetta_runs/ddg_monomer/results.txt', sep='\\s+', header=None )\n",
    "feature_set.drop( [ 1, 20 ], axis=1, inplace=True ) \n",
    "feature_set[0] = feature_set[0].str.translate( None, 'wtout_/.' ) \n",
    "feature_set.set_index( 0, inplace=True ) \n",
    "\n",
    "feature_set.to_csv( 'data_sets/ddg_monomer.csv' ) "
   ]
  },
  {
   "cell_type": "code",
   "execution_count": null,
   "metadata": {
    "collapsed": true
   },
   "outputs": [],
   "source": []
  }
 ],
 "metadata": {
  "kernelspec": {
   "display_name": "Python 2",
   "language": "python",
   "name": "python2"
  },
  "language_info": {
   "codemirror_mode": {
    "name": "ipython",
    "version": 2
   },
   "file_extension": ".py",
   "mimetype": "text/x-python",
   "name": "python",
   "nbconvert_exporter": "python",
   "pygments_lexer": "ipython2",
   "version": "2.7.11"
  }
 },
 "nbformat": 4,
 "nbformat_minor": 0
}
