{
 "cells": [
  {
   "cell_type": "code",
   "execution_count": 2,
   "metadata": {
    "collapsed": false
   },
   "outputs": [],
   "source": [
    "%matplotlib inline \n",
    "\n",
    "import pandas \n",
    "import matplotlib.pyplot as plt\n",
    "\n",
    "df = pandas.read_csv( '../data_sets/experimental_data/thermo_paper_data_set.csv', index_col=0 )\n",
    "\n",
    "# normalize values to wild type \n",
    "wt = df.loc[ 'BglB' ] "
   ]
  },
  {
   "cell_type": "code",
   "execution_count": 12,
   "metadata": {
    "collapsed": false
   },
   "outputs": [
    {
     "data": {
      "text/plain": [
       "<matplotlib.text.Text at 0x114918210>"
      ]
     },
     "execution_count": 12,
     "metadata": {},
     "output_type": "execute_result"
    },
    {
     "data": {
      "image/png": "[encoded data removed]",
      "text/plain": [
       "<matplotlib.figure.Figure at 0x113487290>"
      ]
     },
     "metadata": {},
     "output_type": "display_data"
    }
   ],
   "source": [
    "import numpy as np \n",
    "\n",
    "plt.figure( figsize=( 12, 3 ) )\n",
    "\n",
    "plt.subplot( 1, 3, 1 ) \n",
    "plt.scatter( np.log10( df.kcat ), df.tm, c='k' ) \n",
    "plt.xlabel( 'log $k_{cat}$' )\n",
    "plt.ylabel( '$T_m$' )\n",
    "#plt.title( '$T_m$' )\n",
    "\n",
    "plt.subplot( 1, 3, 2 ) \n",
    "plt.scatter( np.log10( df.km ), df.tm, color='k' ) \n",
    "plt.xlabel( 'log $K_M$' )\n",
    "#plt.title( 'log $K_M$' )\n",
    "\n",
    "plt.subplot( 1, 3, 3 ) \n",
    "plt.scatter( np.log10( df.kcatkm ), df.tm, c='k' ) \n",
    "plt.xlabel( 'log $k_{cat}/K_M$' )\n",
    "#plt.title( 'log $k_{cat}/K_M$' ) "
   ]
  },
  {
   "cell_type": "code",
   "execution_count": null,
   "metadata": {
    "collapsed": true
   },
   "outputs": [],
   "source": []
  },
  {
   "cell_type": "code",
   "execution_count": null,
   "metadata": {
    "collapsed": true
   },
   "outputs": [],
   "source": []
  }
 ],
 "metadata": {
  "kernelspec": {
   "display_name": "Python 2",
   "language": "python",
   "name": "python2"
  },
  "language_info": {
   "codemirror_mode": {
    "name": "ipython",
    "version": 2
   },
   "file_extension": ".py",
   "mimetype": "text/x-python",
   "name": "python",
   "nbconvert_exporter": "python",
   "pygments_lexer": "ipython2",
   "version": "2.7.11"
  }
 },
 "nbformat": 4,
 "nbformat_minor": 0
}
