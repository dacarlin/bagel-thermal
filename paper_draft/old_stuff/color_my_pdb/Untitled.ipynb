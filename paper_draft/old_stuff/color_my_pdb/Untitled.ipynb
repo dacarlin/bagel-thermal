{
 "cells": [
  {
   "cell_type": "code",
   "execution_count": 10,
   "metadata": {
    "collapsed": false,
    "scrolled": false
   },
   "outputs": [
    {
     "data": {
      "text/plain": [
       "24"
      ]
     },
     "execution_count": 10,
     "metadata": {},
     "output_type": "execute_result"
    }
   ],
   "source": [
    "import pandas \n",
    "from matplotlib import cm \n",
    "\n",
    "df = pandas.read_csv( '../../data_sets/experimental_data/thermo_paper_data_set.csv', index_col=0 )\n",
    "ala_with_tm = df[( df.index.str[-1] == 'A' ) & ( df.tm > 1 ) ]\n",
    "len( ala_with_tm )"
   ]
  },
  {
   "cell_type": "code",
   "execution_count": 33,
   "metadata": {
    "collapsed": false,
    "scrolled": false
   },
   "outputs": [
    {
     "name": "stdout",
     "output_type": "stream",
     "text": [
      "load bglb.pdb\n",
      "color blue, resi 18\n",
      "color blue, resi 15\n",
      "color white, resi 218\n",
      "color blue, resi 352\n",
      "color white, resi 406\n",
      "color blue, resi 220\n",
      "color blue, resi 222\n",
      "color red, resi 325\n",
      "color white, resi 14\n",
      "color red, resi 17\n",
      "color red, resi 119\n",
      "color red, resi 163\n",
      "color red, resi 354\n",
      "color red, resi 404\n",
      "color white, resi 167\n",
      "color blue, resi 171\n",
      "color blue, resi 323\n",
      "color white, resi 341\n",
      "color blue, resi 178\n",
      "color white, resi 240\n",
      "color blue, resi 177\n",
      "color blue, resi 331\n",
      "color white, resi 294\n",
      "color white, resi 400\n"
     ]
    }
   ],
   "source": [
    "print 'load bglb.pdb'\n",
    "for idx, row in ala_with_tm.iterrows():\n",
    "    \n",
    "    if row.tm >= 40.1:\n",
    "        my_color = 'red'\n",
    "    elif row.tm >= 39.1:\n",
    "        my_color = 'white'\n",
    "    else:\n",
    "        my_color = 'blue' \n",
    "    \n",
    "    print 'color {1}, resi {0}'.format( int( row.sequence_pos ), my_color ) "
   ]
  },
  {
   "cell_type": "code",
   "execution_count": null,
   "metadata": {
    "collapsed": true
   },
   "outputs": [],
   "source": []
  }
 ],
 "metadata": {
  "kernelspec": {
   "display_name": "Python 2",
   "language": "python",
   "name": "python2"
  },
  "language_info": {
   "codemirror_mode": {
    "name": "ipython",
    "version": 2
   },
   "file_extension": ".py",
   "mimetype": "text/x-python",
   "name": "python",
   "nbconvert_exporter": "python",
   "pygments_lexer": "ipython2",
   "version": "2.7.11"
  }
 },
 "nbformat": 4,
 "nbformat_minor": 0
}
