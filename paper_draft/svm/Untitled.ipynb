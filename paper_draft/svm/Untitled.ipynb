{
 "cells": [
  {
   "cell_type": "code",
   "execution_count": 25,
   "metadata": {
    "collapsed": true
   },
   "outputs": [],
   "source": [
    "%matplotlib inline \n",
    "\n",
    "import matplotlib.pyplot as plt \n",
    "import pandas \n",
    "from sklearn import preprocessing, svm, metrics, pipeline, cross_validation, decomposition, grid_search"
   ]
  },
  {
   "cell_type": "markdown",
   "metadata": {},
   "source": [
    "## SVM for expression using enzyme design features "
   ]
  },
  {
   "cell_type": "code",
   "execution_count": 26,
   "metadata": {
    "collapsed": false,
    "scrolled": false
   },
   "outputs": [],
   "source": [
    "# # features \n",
    "\n",
    "# ! mkdir feature_sets\n",
    "\n",
    "# feature_set = [ str( i ) for i in [ \n",
    "#     u'total_score', u'fa_rep', u'hbond_sc', u'tot_pstat_pm', u'tot_nlpstat_pm', u'tot_burunsat_pm', u'tot_hbond_pm', u'tot_NLconts_pm', u'tot_nlsurfaceE_pm', \n",
    "#     u'SR_1_total_score', u'SR_1_fa_rep', u'SR_1_hbond_sc', u'SR_1_hbond_pm', u'SR_1_burunsat_pm', u'SR_1_pstat_pm', u'SR_1_nlpstat_pm', \n",
    "#     u'SR_2_total_score', u'SR_2_fa_rep', u'SR_2_hbond_sc', u'SR_2_hbond_pm', u'SR_2_burunsat_pm', u'SR_2_pstat_pm', u'SR_2_nlpstat_pm', \n",
    "#     u'SR_3_total_score', u'SR_3_fa_rep', u'SR_3_hbond_sc', u'SR_3_hbond_pm', u'SR_3_burunsat_pm', u'SR_3_pstat_pm', u'SR_3_nlpstat_pm', \n",
    "#     u'SR_4_total_score', u'SR_4_fa_rep', u'SR_4_hbond_sc', u'SR_4_hbond_pm', u'SR_4_burunsat_pm', u'SR_4_pstat_pm', u'SR_4_nlpstat_pm', \n",
    "#     u'SR_5_total_score', u'SR_5_fa_rep', u'SR_5_hbond_sc', u'SR_5_interf_E_1_2', u'SR_5_dsasa_1_2', u'SR_5_hbond_pm', u'SR_5_burunsat_pm'   \n",
    "# ] ]\n",
    "\n",
    "\n",
    "# for eature in feature_set:\n",
    "#     f = pandas.read_csv( '/Users/alex/Documents/bagel-benchmark/data_sets/calculated/enzyme_design_talaris_2014.csv', usecols=feature_set+['name'] )\n",
    "#     f.groupby( 'name' ).apply( lambda x: x.sort_values( eature ).head( 10 ).mean() ).to_csv( 'feature_sets/{}.csv'.format( eature ) )"
   ]
  },
  {
   "cell_type": "code",
   "execution_count": 27,
   "metadata": {
    "collapsed": false
   },
   "outputs": [],
   "source": [
    "# experimental values \n",
    "\n",
    "E = pandas.read_csv( '../data_set.csv', index_col='mutant', usecols=['mutant','expression'] ) \n",
    "F = pandas.read_csv( 'feature_sets/total_score.csv', index_col='name' )\n",
    "\n",
    "J = F.join( E ).dropna()"
   ]
  },
  {
   "cell_type": "code",
   "execution_count": 28,
   "metadata": {
    "collapsed": false
   },
   "outputs": [
    {
     "name": "stdout",
     "output_type": "stream",
     "text": [
      "(107, 44)\n",
      "(107,)\n"
     ]
    }
   ],
   "source": [
    "# machine learning setup \n",
    "\n",
    "X = J.drop( 'expression', axis=1 ) \n",
    "y = J[ 'expression' ] \n",
    "\n",
    "print X.shape\n",
    "print y.shape"
   ]
  },
  {
   "cell_type": "code",
   "execution_count": null,
   "metadata": {
    "collapsed": false,
    "scrolled": true
   },
   "outputs": [],
   "source": []
  },
  {
   "cell_type": "code",
   "execution_count": null,
   "metadata": {
    "collapsed": false
   },
   "outputs": [],
   "source": [
    "pln = pipeline.Pipeline([\n",
    "    ( 'scaler', preprocessing.StandardScaler() ), \n",
    "    ( 'pca', decomposition.PCA() ), \n",
    "    ( 'svm', svm.SVC() ), \n",
    "])\n",
    "\n",
    "param_grid = {\n",
    "    'svm__kernel': [ 'rbf', 'linear' ], \n",
    "    'svm__C': [ 0.003, 0.03, 0.3, 3, 30, 300, 3000 ],\n",
    "    'svm__gamma': [ 0.003, 0.03, 0.3, 3, 30, 300, 3000 ],\n",
    "    'svm__class_weight': [ 'balanced', None ], \n",
    "    'pca__n_components': [ 2, 4, 8 ], \n",
    "    'pca__whiten': [ True, False ], \n",
    "}\n",
    "\n",
    "skf = cross_validation.StratifiedKFold( y, n_folds=6 )\n",
    "gs = grid_search.GridSearchCV( pln, param_grid, cv=skf )\n",
    "gs.fit( X, y ) "
   ]
  },
  {
   "cell_type": "code",
   "execution_count": null,
   "metadata": {
    "collapsed": false
   },
   "outputs": [],
   "source": [
    "print gs.best_estimator_\n",
    "print gs.best_estimator_.predict( X ) \n",
    "print gs.best_estimator_.score( X, y ) "
   ]
  },
  {
   "cell_type": "code",
   "execution_count": null,
   "metadata": {
    "collapsed": true
   },
   "outputs": [],
   "source": [
    "# now for the blind data \n",
    "\n",
    "E = pandas.read_csv( '../blind_data.csv', index_col='name' ) \n",
    "F = pandas.read_csv( 'feature_sets/total_score.csv', index_col='name' )\n",
    "\n",
    "blind = F.join( E ).dropna()\n",
    "\n",
    "X_test = blind.drop( 'expression', axis=1 )\n",
    "y_test = blind.expression"
   ]
  },
  {
   "cell_type": "code",
   "execution_count": null,
   "metadata": {
    "collapsed": false
   },
   "outputs": [],
   "source": [
    "gs.predict( X_test ) "
   ]
  },
  {
   "cell_type": "code",
   "execution_count": null,
   "metadata": {
    "collapsed": false
   },
   "outputs": [],
   "source": [
    "tpr, fpr, thresh = metrics.roc_curve( y_test, gs.decision_function( X_test ) )\n",
    "\n",
    "plt.figure( figsize=( 4,4 ) ) \n",
    "plt.plot( tpr, fpr, label='blind test set', c='orange' ) \n",
    "plt.legend(loc='lower right')\n",
    "plt.xlabel( 'False positive rate' )\n",
    "plt.ylabel( 'True positive rate' ) \n",
    "\n",
    "print 'score={}'.format( gs.score( X_test, y_test ) ) "
   ]
  },
  {
   "cell_type": "markdown",
   "metadata": {},
   "source": [
    "-----------"
   ]
  },
  {
   "cell_type": "markdown",
   "metadata": {},
   "source": [
    "## Predicting Tm "
   ]
  },
  {
   "cell_type": "code",
   "execution_count": 25,
   "metadata": {
    "collapsed": true
   },
   "outputs": [],
   "source": [
    "df = pandas.read_csv( '../data_set.csv', index_col='mutant' ) \n",
    "features = pandas.read_csv( '/Users/alex/Documents/bagel-benchmark/data_sets/calculated/enzyme_design_talaris_2014.csv', index_col='name' )\n",
    "\n",
    "J = df.join( features )\n",
    "J[ 'mutant_name' ] = J.index \n",
    "G = J.groupby( 'mutant_name' ).apply( lambda x: x.sort_values( 'total_score' ).head( 10 ).mean() ) \n",
    "\n",
    "feature_set = [\n",
    "    u'tm',\n",
    "    u'total_score', u'fa_rep', u'hbond_sc', u'tot_pstat_pm', u'tot_nlpstat_pm', u'tot_burunsat_pm', u'tot_hbond_pm', u'tot_NLconts_pm', u'tot_nlsurfaceE_pm', \n",
    "    u'SR_1_total_score', u'SR_1_fa_rep', u'SR_1_hbond_sc', u'SR_1_hbond_pm', u'SR_1_burunsat_pm', u'SR_1_pstat_pm', u'SR_1_nlpstat_pm', \n",
    "    u'SR_2_total_score', u'SR_2_fa_rep', u'SR_2_hbond_sc', u'SR_2_hbond_pm', u'SR_2_burunsat_pm', u'SR_2_pstat_pm', u'SR_2_nlpstat_pm', \n",
    "    u'SR_3_total_score', u'SR_3_fa_rep', u'SR_3_hbond_sc', u'SR_3_hbond_pm', u'SR_3_burunsat_pm', u'SR_3_pstat_pm', u'SR_3_nlpstat_pm', \n",
    "    u'SR_4_total_score', u'SR_4_fa_rep', u'SR_4_hbond_sc', u'SR_4_hbond_pm', u'SR_4_burunsat_pm', u'SR_4_pstat_pm', u'SR_4_nlpstat_pm', \n",
    "    u'SR_5_total_score', u'SR_5_fa_rep', u'SR_5_hbond_sc', u'SR_5_interf_E_1_2', u'SR_5_dsasa_1_2', u'SR_5_hbond_pm', u'SR_5_burunsat_pm'   \n",
    "]"
   ]
  }
 ],
 "metadata": {
  "kernelspec": {
   "display_name": "Python 2",
   "language": "python",
   "name": "python2"
  },
  "language_info": {
   "codemirror_mode": {
    "name": "ipython",
    "version": 2
   },
   "file_extension": ".py",
   "mimetype": "text/x-python",
   "name": "python",
   "nbconvert_exporter": "python",
   "pygments_lexer": "ipython2",
   "version": "2.7.11"
  }
 },
 "nbformat": 4,
 "nbformat_minor": 0
}
