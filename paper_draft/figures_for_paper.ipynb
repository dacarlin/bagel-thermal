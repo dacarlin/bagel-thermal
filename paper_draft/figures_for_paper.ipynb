{
 "cells": [
  {
   "cell_type": "markdown",
   "metadata": {},
   "source": [
    "## Figures BglB thermal stability paper \n",
    "\n",
    "### Contents\n",
    "\n",
    "Summary statistics and those that don't fit neatly into categories below: \n",
    "\n",
    "+ unique positions list \n",
    "+ PyMOL commands for making a figure showing all the positions mutated \n",
    "+ list of mutants that don't express \n",
    "\n",
    "Conservation: \n",
    "\n",
    "+ percent conservation for each residue from alignment of BglB to Pfam GH1 (1,554 sequences)\n",
    "+ plot of conservation across BglB sequence \n",
    "+ sequence logo \n",
    "\n",
    "Visualization of expression, Tm, kcat, KM, and kcat/KM for all 128 mutants \n",
    "\n",
    "+ diverging color heat map \n",
    "+ compact, minimalistic bar plots "
   ]
  },
  {
   "cell_type": "code",
   "execution_count": null,
   "metadata": {
    "collapsed": true
   },
   "outputs": [],
   "source": []
  },
  {
   "cell_type": "code",
   "execution_count": 1,
   "metadata": {
    "collapsed": false
   },
   "outputs": [],
   "source": [
    "%matplotlib inline\n",
    "import matplotlib.pyplot as plt \n",
    "import pandas\n",
    "from numpy import log10, log2, inf, nan, arange, linspace "
   ]
  },
  {
   "cell_type": "code",
   "execution_count": 2,
   "metadata": {
    "collapsed": true
   },
   "outputs": [],
   "source": [
    "df = pandas.read_csv( '../data_sets/experimental_data/thermo_paper_data_set.csv', index_col=0 )"
   ]
  },
  {
   "cell_type": "markdown",
   "metadata": {},
   "source": [
    "### Summary statistics and those that don't fit neatly into categories below\n",
    "\n",
    "Number of sequence positions mutated:"
   ]
  },
  {
   "cell_type": "code",
   "execution_count": 3,
   "metadata": {
    "collapsed": false
   },
   "outputs": [
    {
     "data": {
      "text/plain": [
       "68"
      ]
     },
     "execution_count": 3,
     "metadata": {},
     "output_type": "execute_result"
    }
   ],
   "source": [
    "len( df.sequence_pos.unique() ) "
   ]
  },
  {
   "cell_type": "markdown",
   "metadata": {},
   "source": [
    "How could you quickly select them in PyMOL? You could use: "
   ]
  },
  {
   "cell_type": "code",
   "execution_count": 4,
   "metadata": {
    "collapsed": false
   },
   "outputs": [
    {
     "name": "stdout",
     "output_type": "stream",
     "text": [
      "select all_mutants, resi 12+14+15+16+16+17+17+18+19+19+19+19+32+34+52+72+76+91+101+119+119+119+120+120+120+121+154+163+163+163+163+163+164+164+164+166+167+167+171+171+175+177+177+177+178+178+192+218+220+220+220+220+220+221+222+222+222+222+222+222+236+240+240+240+240+244+244+249+261+293+293+293+293+293+294+294+294+295+295+296+296+298+300+313+315+315+323+323+325+325+325+325+325+325+329+331+341+343+352+353+354+355+358+362+373+379+379+399+399+399+399+399+400+403+404+404+406+406+407+407+407+407+407+407+409+415+415+423\n"
     ]
    }
   ],
   "source": [
    "s = '+'.join( [ i for i in df.sequence_pos.dropna().astype( int ).astype( str ) ] ) \n",
    "print 'select all_mutants, resi', s "
   ]
  },
  {
   "cell_type": "markdown",
   "metadata": {},
   "source": [
    "List of mutants that do not express:"
   ]
  },
  {
   "cell_type": "code",
   "execution_count": 5,
   "metadata": {
    "collapsed": false
   },
   "outputs": [
    {
     "data": {
      "text/plain": [
       "Index([u'G12N', u'S16N', u'Q19P', u'S32L', u'W34A', u'F72H', u'R76A', u'H119E',\n",
       "       u'W120A', u'D121F', u'N163K', u'N163E', u'E164G', u'E164R', u'H178R',\n",
       "       u'A236E', u'R240E', u'A249E', u'M261D', u'N293D', u'N293K', u'Y294L',\n",
       "       u'T296E', u'H315N', u'M323K', u'W325G', u'P329N', u'F343S', u'G355A',\n",
       "       u'H379T', u'D403A', u'W407Y', u'W407A', u'W407Q', u'W407R', u'W407G',\n",
       "       u'W407K'],\n",
       "      dtype='object', name=u'mutant')"
      ]
     },
     "execution_count": 5,
     "metadata": {},
     "output_type": "execute_result"
    }
   ],
   "source": [
    "df[( df.expression == 0 )].index"
   ]
  },
  {
   "cell_type": "markdown",
   "metadata": {},
   "source": [
    "### Conservation along BglB sequence \n",
    "\n",
    "Alignment of 1554 Pfam sequences that we trimmed by hand to have catalytic residues as in previous paper \n",
    "\n"
   ]
  },
  {
   "cell_type": "code",
   "execution_count": 6,
   "metadata": {
    "collapsed": false
   },
   "outputs": [
    {
     "name": "stdout",
     "output_type": "stream",
     "text": [
      "445\n"
     ]
    }
   ],
   "source": [
    "dat = pandas.read_csv( 'alignment/logo-data-bagel-aligned.txt', sep='\\s+' ) \n",
    "dat['sequence_pos'] = dat.index + 1 \n",
    "print len( dat ) "
   ]
  },
  {
   "cell_type": "code",
   "execution_count": 7,
   "metadata": {
    "collapsed": true
   },
   "outputs": [],
   "source": [
    "aas = [ u'A', u'C', u'D', u'E', u'F', u'G', u'H', u'I', u'K', u'L', u'M', u'N', u'P', u'Q', u'R', u'S', u'T', u'V', u'W', u'Y' ]"
   ]
  },
  {
   "cell_type": "code",
   "execution_count": null,
   "metadata": {
    "collapsed": true
   },
   "outputs": [],
   "source": []
  },
  {
   "cell_type": "code",
   "execution_count": null,
   "metadata": {
    "collapsed": true
   },
   "outputs": [],
   "source": []
  },
  {
   "cell_type": "code",
   "execution_count": 8,
   "metadata": {
    "collapsed": false,
    "scrolled": true
   },
   "outputs": [],
   "source": [
    "clean_dat = dat[ aas ].copy()\n",
    "clean_dat.index = dat.amino_acid \n",
    "\n",
    "percents = []\n",
    "for idx, row in clean_dat.iterrows():\n",
    "    percents.append( row[ idx.upper() ].astype( float ) / row.sum()  )\n",
    "    \n",
    "clean_dat['percents'] = percents\n",
    "clean_dat['sequence_pos'] = range( 1, 446 ) \n",
    "clean_dat[ 'entropy' ] = dat.Entropy"
   ]
  },
  {
   "cell_type": "code",
   "execution_count": 9,
   "metadata": {
    "collapsed": false
   },
   "outputs": [
    {
     "name": "stdout",
     "output_type": "stream",
     "text": [
      "445\n"
     ]
    },
    {
     "data": {
      "text/html": [
       "<div>\n",
       "<table border=\"1\" class=\"dataframe\">\n",
       "  <thead>\n",
       "    <tr style=\"text-align: right;\">\n",
       "      <th></th>\n",
       "      <th>A</th>\n",
       "      <th>C</th>\n",
       "      <th>D</th>\n",
       "      <th>E</th>\n",
       "      <th>F</th>\n",
       "      <th>G</th>\n",
       "      <th>H</th>\n",
       "      <th>I</th>\n",
       "      <th>K</th>\n",
       "      <th>L</th>\n",
       "      <th>...</th>\n",
       "      <th>Q</th>\n",
       "      <th>R</th>\n",
       "      <th>S</th>\n",
       "      <th>T</th>\n",
       "      <th>V</th>\n",
       "      <th>W</th>\n",
       "      <th>Y</th>\n",
       "      <th>percents</th>\n",
       "      <th>sequence_pos</th>\n",
       "      <th>entropy</th>\n",
       "    </tr>\n",
       "    <tr>\n",
       "      <th>amino_acid</th>\n",
       "      <th></th>\n",
       "      <th></th>\n",
       "      <th></th>\n",
       "      <th></th>\n",
       "      <th></th>\n",
       "      <th></th>\n",
       "      <th></th>\n",
       "      <th></th>\n",
       "      <th></th>\n",
       "      <th></th>\n",
       "      <th></th>\n",
       "      <th></th>\n",
       "      <th></th>\n",
       "      <th></th>\n",
       "      <th></th>\n",
       "      <th></th>\n",
       "      <th></th>\n",
       "      <th></th>\n",
       "      <th></th>\n",
       "      <th></th>\n",
       "      <th></th>\n",
       "    </tr>\n",
       "  </thead>\n",
       "  <tbody>\n",
       "    <tr>\n",
       "      <th>t</th>\n",
       "      <td>39</td>\n",
       "      <td>3</td>\n",
       "      <td>4</td>\n",
       "      <td>3</td>\n",
       "      <td>2</td>\n",
       "      <td>16</td>\n",
       "      <td>3</td>\n",
       "      <td>4</td>\n",
       "      <td>4</td>\n",
       "      <td>7</td>\n",
       "      <td>...</td>\n",
       "      <td>0</td>\n",
       "      <td>1</td>\n",
       "      <td>67</td>\n",
       "      <td>341</td>\n",
       "      <td>3</td>\n",
       "      <td>0</td>\n",
       "      <td>1</td>\n",
       "      <td>0.653257</td>\n",
       "      <td>321</td>\n",
       "      <td>NaN</td>\n",
       "    </tr>\n",
       "    <tr>\n",
       "      <th>t</th>\n",
       "      <td>62</td>\n",
       "      <td>0</td>\n",
       "      <td>467</td>\n",
       "      <td>95</td>\n",
       "      <td>13</td>\n",
       "      <td>41</td>\n",
       "      <td>31</td>\n",
       "      <td>21</td>\n",
       "      <td>26</td>\n",
       "      <td>40</td>\n",
       "      <td>...</td>\n",
       "      <td>88</td>\n",
       "      <td>18</td>\n",
       "      <td>79</td>\n",
       "      <td>178</td>\n",
       "      <td>49</td>\n",
       "      <td>6</td>\n",
       "      <td>22</td>\n",
       "      <td>0.122169</td>\n",
       "      <td>370</td>\n",
       "      <td>NaN</td>\n",
       "    </tr>\n",
       "    <tr>\n",
       "      <th>s</th>\n",
       "      <td>76</td>\n",
       "      <td>0</td>\n",
       "      <td>23</td>\n",
       "      <td>32</td>\n",
       "      <td>37</td>\n",
       "      <td>47</td>\n",
       "      <td>18</td>\n",
       "      <td>10</td>\n",
       "      <td>17</td>\n",
       "      <td>22</td>\n",
       "      <td>...</td>\n",
       "      <td>8</td>\n",
       "      <td>18</td>\n",
       "      <td>42</td>\n",
       "      <td>21</td>\n",
       "      <td>12</td>\n",
       "      <td>24</td>\n",
       "      <td>28</td>\n",
       "      <td>0.081871</td>\n",
       "      <td>307</td>\n",
       "      <td>NaN</td>\n",
       "    </tr>\n",
       "    <tr>\n",
       "      <th>g</th>\n",
       "      <td>6</td>\n",
       "      <td>2</td>\n",
       "      <td>0</td>\n",
       "      <td>0</td>\n",
       "      <td>0</td>\n",
       "      <td>1558</td>\n",
       "      <td>3</td>\n",
       "      <td>0</td>\n",
       "      <td>0</td>\n",
       "      <td>0</td>\n",
       "      <td>...</td>\n",
       "      <td>0</td>\n",
       "      <td>0</td>\n",
       "      <td>3</td>\n",
       "      <td>1</td>\n",
       "      <td>0</td>\n",
       "      <td>0</td>\n",
       "      <td>0</td>\n",
       "      <td>0.983586</td>\n",
       "      <td>355</td>\n",
       "      <td>NaN</td>\n",
       "    </tr>\n",
       "    <tr>\n",
       "      <th>r</th>\n",
       "      <td>90</td>\n",
       "      <td>10</td>\n",
       "      <td>6</td>\n",
       "      <td>9</td>\n",
       "      <td>0</td>\n",
       "      <td>76</td>\n",
       "      <td>0</td>\n",
       "      <td>5</td>\n",
       "      <td>4</td>\n",
       "      <td>0</td>\n",
       "      <td>...</td>\n",
       "      <td>3</td>\n",
       "      <td>261</td>\n",
       "      <td>597</td>\n",
       "      <td>265</td>\n",
       "      <td>8</td>\n",
       "      <td>0</td>\n",
       "      <td>0</td>\n",
       "      <td>0.165399</td>\n",
       "      <td>297</td>\n",
       "      <td>NaN</td>\n",
       "    </tr>\n",
       "  </tbody>\n",
       "</table>\n",
       "<p>5 rows × 23 columns</p>\n",
       "</div>"
      ],
      "text/plain": [
       "             A   C    D   E   F     G   H   I   K   L   ...      Q    R    S  \\\n",
       "amino_acid                                              ...                    \n",
       "t           39   3    4   3   2    16   3   4   4   7   ...      0    1   67   \n",
       "t           62   0  467  95  13    41  31  21  26  40   ...     88   18   79   \n",
       "s           76   0   23  32  37    47  18  10  17  22   ...      8   18   42   \n",
       "g            6   2    0   0   0  1558   3   0   0   0   ...      0    0    3   \n",
       "r           90  10    6   9   0    76   0   5   4   0   ...      3  261  597   \n",
       "\n",
       "              T   V   W   Y  percents  sequence_pos  entropy  \n",
       "amino_acid                                                    \n",
       "t           341   3   0   1  0.653257           321      NaN  \n",
       "t           178  49   6  22  0.122169           370      NaN  \n",
       "s            21  12  24  28  0.081871           307      NaN  \n",
       "g             1   0   0   0  0.983586           355      NaN  \n",
       "r           265   8   0   0  0.165399           297      NaN  \n",
       "\n",
       "[5 rows x 23 columns]"
      ]
     },
     "execution_count": 9,
     "metadata": {},
     "output_type": "execute_result"
    }
   ],
   "source": [
    "print len( clean_dat ) \n",
    "clean_dat.sample( 5 ) "
   ]
  },
  {
   "cell_type": "code",
   "execution_count": 10,
   "metadata": {
    "collapsed": false
   },
   "outputs": [
    {
     "data": {
      "image/png": "[encoded data removed]",
      "text/plain": [
       "<matplotlib.figure.Figure at 0x1070f4d90>"
      ]
     },
     "metadata": {},
     "output_type": "display_data"
    }
   ],
   "source": [
    "plt.figure( figsize=( 30, 3 ) ) \n",
    "#plt.scatter( dat.sequence_pos, ( dat.Entropy / dat.Entropy.max()) ,color='k', label='Entropy (normalized to 1)', marker='.' )\n",
    "plt.bar( dat.sequence_pos, ( dat.Entropy / dat.Entropy.max()) , lw=0, color=(0.03,.9,0,0.7), label='Entropy' )\n",
    "#plt.bar( clean_dat.sequence_pos, clean_dat.percents, lw=0, color=(0,0,1,0.1), label='Percent conserved' ) \n",
    "#plt.plot( clean_dat.sequence_pos, clean_dat.percents, color='g', label='Percent conserved' ) \n",
    "\n",
    "plt.xlim( 0, 446 ) \n",
    "plt.ylim( 0, 1.2 ) \n",
    "plt.xticks( [ 100, 200, 300, 400 ] ) \n",
    "#plt.xticks( [] ) \n",
    "plt.ylabel( 'Percent conservation' )\n",
    "plt.xlabel( 'Position on BglB sequence' ) \n",
    "plt.tick_params( length=0 ) \n",
    "plt.yticks( [] ) \n",
    "#plt.legend()\n",
    "plt.box(0)\n",
    "plt.show()"
   ]
  },
  {
   "cell_type": "code",
   "execution_count": 11,
   "metadata": {
    "collapsed": false
   },
   "outputs": [],
   "source": [
    "my_percent_conserved = clean_dat[ [ 'sequence_pos', 'percents' ] ]\n",
    "my_percent_conserved.index = my_percent_conserved.sequence_pos\n",
    "my_dict = dict( my_percent_conserved.percents ) "
   ]
  },
  {
   "cell_type": "markdown",
   "metadata": {},
   "source": [
    "### Depiction of expression, Tm, kcat, KM, and kcat/KM for 128 mutants \n",
    "\n",
    "Heat map style uses a diverging (red/blue) color map to compare the log values relative to wild type"
   ]
  },
  {
   "cell_type": "code",
   "execution_count": 12,
   "metadata": {
    "collapsed": false
   },
   "outputs": [
    {
     "name": "stdout",
     "output_type": "stream",
     "text": [
      "expression           1.0\n",
      "tm                   0.0\n",
      "kcat                 0.0\n",
      "km                   0.0\n",
      "kcatkm               0.0\n",
      "sequence_pos         NaN\n",
      "percent_conserved    NaN\n",
      "Name: BglB, dtype: float64\n"
     ]
    }
   ],
   "source": [
    "# heat map \n",
    "\n",
    "h_cols = [ 'expression', 'tm', 'kcat', 'km', 'kcatkm', 'sequence_pos' ] \n",
    "h = df[ h_cols ].copy()\n",
    "\n",
    "h.tm = h.tm - 39.93 \n",
    "h.kcat = log10( h.kcat / 880 ) \n",
    "h.km = log10( (1/h.km) / (1/5.) )\n",
    "h.kcatkm = log10( h.kcatkm / 174000 )  \n",
    "h.expression = h.expression # boolean \n",
    "h['percent_conserved'] = h.sequence_pos.map( my_dict )\n",
    "\n",
    "h.replace( [ -inf ], -5, inplace=True ) # damn son\n",
    "h.sample( 5 )\n",
    "\n",
    "# sanity check: what are the WT values after this procedure?  \n",
    "print h.loc[ 'BglB' ] "
   ]
  },
  {
   "cell_type": "code",
   "execution_count": 13,
   "metadata": {
    "collapsed": false
   },
   "outputs": [
    {
     "data": {
      "text/plain": [
       "<matplotlib.image.AxesImage at 0x10428a390>"
      ]
     },
     "execution_count": 13,
     "metadata": {},
     "output_type": "execute_result"
    },
    {
     "data": {
      "image/png": "[encoded data removed]",
      "text/plain": [
       "<matplotlib.figure.Figure at 0x1070f4a90>"
      ]
     },
     "metadata": {},
     "output_type": "display_data"
    }
   ],
   "source": [
    "import numpy as np \n",
    "damn_son = np.array( [ arange( -5, 4, 1 ), arange( -5, 4, 1 ), ] )\n",
    "plt.imshow( damn_son, cmap='viridis', interpolation='none' )"
   ]
  },
  {
   "cell_type": "code",
   "execution_count": 14,
   "metadata": {
    "collapsed": false
   },
   "outputs": [
    {
     "data": {
      "image/png": "[encoded data removed]",
      "text/plain": [
       "<matplotlib.figure.Figure at 0x113944790>"
      ]
     },
     "metadata": {},
     "output_type": "display_data"
    }
   ],
   "source": [
    "# color map \n",
    "\n",
    "from matplotlib import pyplot\n",
    "import matplotlib as mpl\n",
    "\n",
    "fig = pyplot.figure(figsize=(8, 3))\n",
    "ax3 = fig.add_axes([0.05, 0.15, 0.9, 0.15])\n",
    "\n",
    "cmap = mpl.colors.ListedColormap([\n",
    "    ( .11, .19, .36 ), # deep blue\n",
    "    ( .46, .57, .66 ), # medium blue\n",
    "    ( .71, .76, .80 ), # light blue \n",
    "    ( .92, .92, .92 ), # grey \n",
    "    ( .92, .88, .74 ), # light yellow\n",
    "    ( .88, .80, .51 ), # medium yellow \n",
    "    ( .81, .63, 0. ),  # deep yellow \n",
    "    ( .81, .63, 0. ),  # deep yellow \n",
    "    ( .81, .63, 0. ),  # deep yellow \n",
    "    ( .81, .63, 0. ),  # deep yellow \n",
    "])\n",
    "\n",
    "cmap.set_over((1., 0., 0.))\n",
    "cmap.set_under(( .11, .19, .36 ))\n",
    "\n",
    "#bounds = [-5.2, -3.9, -2.6, -.3, .3, .6, .9, 1.2 ]\n",
    "bounds = [-5.2, -3.9, -2.6, -.3, .3, .6, .9, 1.2, 2.6, 3.9, 5.2 ]\n",
    "norm = mpl.colors.BoundaryNorm(bounds, cmap.N)\n",
    "cb3 = mpl.colorbar.ColorbarBase(ax3, cmap=cmap, norm=norm, ticks=[-5, -4, -2, -3, -1, 0, 1], orientation='horizontal')\n",
    "pyplot.show()"
   ]
  },
  {
   "cell_type": "code",
   "execution_count": 15,
   "metadata": {
    "collapsed": false
   },
   "outputs": [
    {
     "name": "stderr",
     "output_type": "stream",
     "text": [
      "/usr/local/bin/anaconda/lib/python2.7/site-packages/numpy/lib/function_base.py:3834: RuntimeWarning: Invalid value encountered in percentile\n",
      "  RuntimeWarning)\n"
     ]
    },
    {
     "data": {
      "text/html": [
       "<div>\n",
       "<table border=\"1\" class=\"dataframe\">\n",
       "  <thead>\n",
       "    <tr style=\"text-align: right;\">\n",
       "      <th></th>\n",
       "      <th>expression</th>\n",
       "      <th>tm</th>\n",
       "      <th>kcat</th>\n",
       "      <th>km</th>\n",
       "      <th>kcatkm</th>\n",
       "      <th>sequence_pos</th>\n",
       "      <th>percent_conserved</th>\n",
       "    </tr>\n",
       "  </thead>\n",
       "  <tbody>\n",
       "    <tr>\n",
       "      <th>count</th>\n",
       "      <td>129.000000</td>\n",
       "      <td>69.000000</td>\n",
       "      <td>80.000000</td>\n",
       "      <td>80.000000</td>\n",
       "      <td>92.000000</td>\n",
       "      <td>128.000000</td>\n",
       "      <td>128.000000</td>\n",
       "    </tr>\n",
       "    <tr>\n",
       "      <th>mean</th>\n",
       "      <td>0.713178</td>\n",
       "      <td>-0.590725</td>\n",
       "      <td>-0.836934</td>\n",
       "      <td>-0.172412</td>\n",
       "      <td>-1.449682</td>\n",
       "      <td>241.531250</td>\n",
       "      <td>0.499220</td>\n",
       "    </tr>\n",
       "    <tr>\n",
       "      <th>std</th>\n",
       "      <td>0.454041</td>\n",
       "      <td>1.618392</td>\n",
       "      <td>0.948346</td>\n",
       "      <td>0.391784</td>\n",
       "      <td>1.515885</td>\n",
       "      <td>122.181737</td>\n",
       "      <td>0.355953</td>\n",
       "    </tr>\n",
       "    <tr>\n",
       "      <th>min</th>\n",
       "      <td>0.000000</td>\n",
       "      <td>-5.680000</td>\n",
       "      <td>-2.944483</td>\n",
       "      <td>-1.251297</td>\n",
       "      <td>-4.240549</td>\n",
       "      <td>12.000000</td>\n",
       "      <td>0.001263</td>\n",
       "    </tr>\n",
       "    <tr>\n",
       "      <th>25%</th>\n",
       "      <td>0.000000</td>\n",
       "      <td>NaN</td>\n",
       "      <td>NaN</td>\n",
       "      <td>NaN</td>\n",
       "      <td>NaN</td>\n",
       "      <td>NaN</td>\n",
       "      <td>NaN</td>\n",
       "    </tr>\n",
       "    <tr>\n",
       "      <th>50%</th>\n",
       "      <td>1.000000</td>\n",
       "      <td>NaN</td>\n",
       "      <td>NaN</td>\n",
       "      <td>NaN</td>\n",
       "      <td>NaN</td>\n",
       "      <td>NaN</td>\n",
       "      <td>NaN</td>\n",
       "    </tr>\n",
       "    <tr>\n",
       "      <th>75%</th>\n",
       "      <td>1.000000</td>\n",
       "      <td>NaN</td>\n",
       "      <td>NaN</td>\n",
       "      <td>NaN</td>\n",
       "      <td>NaN</td>\n",
       "      <td>NaN</td>\n",
       "      <td>NaN</td>\n",
       "    </tr>\n",
       "    <tr>\n",
       "      <th>max</th>\n",
       "      <td>1.000000</td>\n",
       "      <td>2.720000</td>\n",
       "      <td>1.097344</td>\n",
       "      <td>1.096910</td>\n",
       "      <td>0.955350</td>\n",
       "      <td>423.000000</td>\n",
       "      <td>1.000000</td>\n",
       "    </tr>\n",
       "  </tbody>\n",
       "</table>\n",
       "</div>"
      ],
      "text/plain": [
       "       expression         tm       kcat         km     kcatkm  sequence_pos  \\\n",
       "count  129.000000  69.000000  80.000000  80.000000  92.000000    128.000000   \n",
       "mean     0.713178  -0.590725  -0.836934  -0.172412  -1.449682    241.531250   \n",
       "std      0.454041   1.618392   0.948346   0.391784   1.515885    122.181737   \n",
       "min      0.000000  -5.680000  -2.944483  -1.251297  -4.240549     12.000000   \n",
       "25%      0.000000        NaN        NaN        NaN        NaN           NaN   \n",
       "50%      1.000000        NaN        NaN        NaN        NaN           NaN   \n",
       "75%      1.000000        NaN        NaN        NaN        NaN           NaN   \n",
       "max      1.000000   2.720000   1.097344   1.096910   0.955350    423.000000   \n",
       "\n",
       "       percent_conserved  \n",
       "count         128.000000  \n",
       "mean            0.499220  \n",
       "std             0.355953  \n",
       "min             0.001263  \n",
       "25%                  NaN  \n",
       "50%                  NaN  \n",
       "75%                  NaN  \n",
       "max             1.000000  "
      ]
     },
     "execution_count": 15,
     "metadata": {},
     "output_type": "execute_result"
    }
   ],
   "source": [
    "h.describe()"
   ]
  },
  {
   "cell_type": "code",
   "execution_count": 16,
   "metadata": {
    "collapsed": true
   },
   "outputs": [],
   "source": [
    "my_params = { \n",
    "    'tm': {\n",
    "        'cmap': 'viridis', 'vmin': -4, 'vmax': 4 , \n",
    "    }, \n",
    "    'expression': {\n",
    "        'cmap': 'Greys', 'vmin': -0.2, 'vmax': 1.2 , \n",
    "    }, \n",
    "    'kcat': {\n",
    "        'cmap': cmap, 'vmin': -4, 'vmax': 4 , \n",
    "    }, \n",
    "    'km': {\n",
    "        'cmap': cmap, 'vmin': -4, 'vmax': 4 , \n",
    "    }, \n",
    "    'kcatkm': {\n",
    "        'cmap': cmap, 'vmin': -4, 'vmax': 4 , \n",
    "    }, \n",
    "    'percent_conserved': {\n",
    "        'cmap': 'Greys', 'vmin': 0, 'vmax': 1, \n",
    "    }, \n",
    "}"
   ]
  },
  {
   "cell_type": "code",
   "execution_count": 17,
   "metadata": {
    "collapsed": false,
    "scrolled": false
   },
   "outputs": [
    {
     "data": {
      "image/png": "[encoded data removed]",
      "text/plain": [
       "<matplotlib.figure.Figure at 0x113a69050>"
      ]
     },
     "metadata": {},
     "output_type": "display_data"
    }
   ],
   "source": [
    "to_plot = enumerate( [ 'expression', 'tm', 'kcat', 'km', 'kcatkm', 'percent_conserved' ] )\n",
    "\n",
    "plt.figure( figsize=(20,90) ) \n",
    "plt.subplots_adjust( left=1., right=1.1 )\n",
    "\n",
    "for i, col in to_plot:\n",
    "    plt.subplot( 1, 7, i+1 ) \n",
    "    plt.imshow( h[ [ col ] ], interpolation='none', origin=0, **my_params[ col ] )\n",
    "    plt.xticks([]); plt.yticks([]) \n",
    "    plt.box( 0 ) \n",
    "\n",
    "    for i, r in enumerate( h.index ):\n",
    "        plt.plot( [ -.5, .5 ], [ i+0.5, i+0.5 ], c='w', lw=6 ) \n",
    "        \n",
    "# mutant labels         \n",
    "font = { 'fontsize': 15, 'fontname': 'Source Sans Pro', }\n",
    "for i, r in enumerate( h.index ):\n",
    "    plt.text( 1, i-0.3, r, fontdict=font )\n",
    "\n",
    "plt.subplots_adjust(wspace=0, hspace=0)\n",
    "\n",
    "#plt.show()\n",
    "plt.savefig( 'heatmap_out.png', dpi=200 ) "
   ]
  },
  {
   "cell_type": "code",
   "execution_count": 18,
   "metadata": {
    "collapsed": false
   },
   "outputs": [
    {
     "ename": "NameError",
     "evalue": "name 'XXXXXXXXXXXXXXXXXX' is not defined",
     "output_type": "error",
     "traceback": [
      "\u001b[0;31m---------------------------------------------------------------------------\u001b[0m",
      "\u001b[0;31mNameError\u001b[0m                                 Traceback (most recent call last)",
      "\u001b[0;32m<ipython-input-18-e80980c095ae>\u001b[0m in \u001b[0;36m<module>\u001b[0;34m()\u001b[0m\n\u001b[1;32m     32\u001b[0m \u001b[0mplt\u001b[0m\u001b[0;34m.\u001b[0m\u001b[0msavefig\u001b[0m\u001b[0;34m(\u001b[0m \u001b[0;34m'heatmap_out.png'\u001b[0m\u001b[0;34m,\u001b[0m \u001b[0mdpi\u001b[0m\u001b[0;34m=\u001b[0m\u001b[0;36m200\u001b[0m \u001b[0;34m)\u001b[0m\u001b[0;34m\u001b[0m\u001b[0m\n\u001b[1;32m     33\u001b[0m \u001b[0;34m\u001b[0m\u001b[0m\n\u001b[0;32m---> 34\u001b[0;31m \u001b[0mXXXXXXXXXXXXXXXXXX\u001b[0m\u001b[0;34m\u001b[0m\u001b[0m\n\u001b[0m\u001b[1;32m     35\u001b[0m \u001b[0;34m\u001b[0m\u001b[0m\n\u001b[1;32m     36\u001b[0m \u001b[0;34m\u001b[0m\u001b[0m\n",
      "\u001b[0;31mNameError\u001b[0m: name 'XXXXXXXXXXXXXXXXXX' is not defined"
     ]
    },
    {
     "data": {
      "image/png": "[encoded data removed]",
      "text/plain": [
       "<matplotlib.figure.Figure at 0x113a65f50>"
      ]
     },
     "metadata": {},
     "output_type": "display_data"
    }
   ],
   "source": [
    "# wrapped heat map (yay!) \n",
    "\n",
    "to_plot = enumerate( [ 'expression', 'tm', 'kcat', 'km', 'kcatkm', 'percent_conserved' ] )\n",
    "\n",
    "#plt.figure( figsize=(20,90) ) \n",
    "#plt.subplots_adjust( left=1., right=1.1 )\n",
    "\n",
    "\n",
    "\n",
    "to_plot = enumerate( [ 'expression', 'tm', 'kcat', 'km', 'kcatkm', 'percent_conserved' ] )\n",
    "\n",
    "plt.figure( figsize=(20,90) ) \n",
    "plt.subplots_adjust( left=1., right=1.1 )\n",
    "\n",
    "for i, col in to_plot:\n",
    "    plt.subplot( 1, 7, i+1 ) \n",
    "    plt.imshow( h[ [ col ] ], interpolation='none', origin=0, **my_params[ col ] )\n",
    "    plt.xticks([]); plt.yticks([]) \n",
    "    plt.box( 0 ) \n",
    "\n",
    "    for i, r in enumerate( h.index ):\n",
    "        plt.plot( [ -.5, .5 ], [ i+0.5, i+0.5 ], c='w', lw=6 ) \n",
    "        \n",
    "# mutant labels         \n",
    "font = { 'fontsize': 15, 'fontname': 'Source Sans Pro', }\n",
    "for i, r in enumerate( h.index ):\n",
    "    plt.text( 1, i-0.3, r, fontdict=font )\n",
    "\n",
    "plt.subplots_adjust(wspace=0, hspace=0)\n",
    "\n",
    "#plt.show()\n",
    "plt.savefig( 'heatmap_out.png', dpi=200 ) \n",
    "\n",
    "XXXXXXXXXXXXXXXXXX\n",
    "\n",
    "\n",
    "for i, col in to_plot:\n",
    "    plt.subplot( 1, 7, i+1 ) \n",
    "    plt.imshow( h[ [ col ] ], interpolation='none', origin=0, **my_params[ col ] )\n",
    "    plt.xticks([]); plt.yticks([]) \n",
    "    plt.box( 0 ) \n",
    "\n",
    "    for i, r in enumerate( h.index ):\n",
    "        plt.plot( [ -.5, .5 ], [ i+0.5, i+0.5 ], c='w', lw=6 ) \n",
    "        \n",
    "# mutant labels         \n",
    "font = { 'fontsize': 15, 'fontname': 'Source Sans Pro', }\n",
    "for i, r in enumerate( h.index ):\n",
    "    plt.text( 1, i-0.3, r, fontdict=font )\n",
    "\n",
    "plt.subplots_adjust(wspace=0, hspace=0)\n",
    "\n",
    "#plt.show()\n",
    "plt.savefig( 'heatmap_out.png', dpi=200 ) "
   ]
  },
  {
   "cell_type": "markdown",
   "metadata": {},
   "source": [
    "### Bar plot style \n",
    "\n",
    "using minimalistic bar plots, with a thick band indicating a 2-fold spread around native values. "
   ]
  },
  {
   "cell_type": "code",
   "execution_count": null,
   "metadata": {
    "collapsed": false
   },
   "outputs": [],
   "source": [
    "# bar plot style \n",
    "\n",
    "b_cols = [ 'kcat', 'err_kcat', 'km', 'err_km', 'kcatkm', 'err_kcatkm' ] \n",
    "j = df[ b_cols ].copy()\n",
    "j = log10( j ) + 1 "
   ]
  },
  {
   "cell_type": "code",
   "execution_count": null,
   "metadata": {
    "collapsed": false
   },
   "outputs": [],
   "source": [
    "j.loc['BglB']"
   ]
  },
  {
   "cell_type": "code",
   "execution_count": null,
   "metadata": {
    "collapsed": false,
    "scrolled": false
   },
   "outputs": [],
   "source": [
    "#http://faculty.washington.edu/stuve/log_error.pdf\n",
    "#describes how to log error bars \n",
    "\n",
    "plt.figure( figsize=(8,30) ) \n",
    "\n",
    "bar_cols = [ \n",
    "    ( 'kcat', 'err_kcat' ), \n",
    "    ( 'km', 'err_km' ), \n",
    "    ( 'kcatkm', 'err_kcatkm' ), \n",
    "]\n",
    "\n",
    "for i, ( col, err ) in enumerate( bar_cols ):\n",
    "    plt.subplot( 1, 5, i+1 )\n",
    "    x_vals = [ i for i in range( len( h ) ) ]\n",
    "    plt.barh( x_vals, j[col], color='k', height=0.4, edgecolor=None, \n",
    "        xerr=0.434*j[err]/j[col],\n",
    "        ecolor='gray', capsize=0, align='center' )\n",
    "    plt.tick_params( length=0 ) \n",
    "    plt.yticks([])\n",
    "\n",
    "    my_val = j.loc['BglB'][ col ]              \n",
    "    plt.fill_between( [my_val - 0.3, my_val + 0.3], 128.2, color=(0,1,0,0.17), linewidth=0 ) \n",
    "    \n",
    "    plt.xticks( [ 0, my_val.round() ] )\n",
    "    plt.box( 0 ) \n",
    "    \n",
    "    plt.plot( ( 0, 0 ), ( 0, 128.2 ), color='k' ) \n",
    "    plt.xlabel( col ) \n",
    "\n",
    "for i, r in enumerate( h.index ):\n",
    "    if df.loc[ r ][ 'expression' ] == 1:\n",
    "        font = { 'weight': 'bold', 'horizontalalignment': 'right' }\n",
    "        plt.text( -20, i-.2, r, fontdict=font )\n",
    "    else:\n",
    "        font = { 'horizontalalignment': 'right' }\n",
    "        plt.text( -20, i-.2, r, fontdict=font )      \n",
    "\n",
    "plt.tight_layout()\n",
    "plt.savefig( 'bar_plot_out.png', dpi=600 ) "
   ]
  },
  {
   "cell_type": "code",
   "execution_count": null,
   "metadata": {
    "collapsed": true
   },
   "outputs": [],
   "source": [
    "# kinetic constants versus tm "
   ]
  },
  {
   "cell_type": "code",
   "execution_count": null,
   "metadata": {
    "collapsed": false
   },
   "outputs": [],
   "source": [
    "plt.figure( figsize=( 18, 5 ) )\n",
    "\n",
    "plt.subplot( 1, 3, 1 ) \n",
    "plt.scatter( log10( df.kcat ), df.tm, c='r' ) \n",
    "plt.xlabel( 'log $k_{cat}$' )\n",
    "plt.ylabel( 'Experimenal$T_m$' )\n",
    "#plt.title( '$T_m$, PCC={:2.2f}'.format( my_r ) )\n",
    "\n",
    "plt.subplot( 1, 3, 2 ) \n",
    "plt.scatter( log10( df.km ), df.tm, color='g' ) \n",
    "plt.xlabel( 'log $K_M$' )\n",
    "#plt.title( 'log $K_M$' )\n",
    "\n",
    "plt.subplot( 1, 3, 3 ) \n",
    "plt.scatter( log10( df.kcatkm ), df.tm, c='b' ) \n",
    "plt.xlabel( 'log $k_{cat}/K_M$' )\n",
    "#plt.title( 'log $k_{cat}/K_M$' ) "
   ]
  },
  {
   "cell_type": "code",
   "execution_count": null,
   "metadata": {
    "collapsed": false
   },
   "outputs": [],
   "source": [
    "# kcat v km \n",
    "\n",
    "plt.figure( figsize=( 5, 5 ) )\n",
    "plt.scatter( log10( df.kcat ), log10( df.km ), c='purple' ) "
   ]
  },
  {
   "cell_type": "code",
   "execution_count": null,
   "metadata": {
    "collapsed": false,
    "scrolled": false
   },
   "outputs": [],
   "source": [
    "# Tufte-style way of doing this (better) \n",
    "\n",
    "constants = [ \n",
    "    ( 'kcat', 880, '$k_{cat}$' ),\n",
    "    ( 'km', 5.5, '$K_M$' ),\n",
    "    ( 'kcatkm', 17400, '$k_{cat}/K_M$' ),\n",
    "] \n",
    "\n",
    "plt.figure( figsize=( 17, 5 ) ) \n",
    "\n",
    "for idx, ( constant, native_value, fmt_str ) in enumerate( constants ):\n",
    "    \n",
    "    x = log10( df[ constant ] ) \n",
    "    y = df.tm\n",
    "    my_log_value = log10( native_value ) \n",
    "    \n",
    "    plt.subplot( 1, 3, idx+1 ) \n",
    "    plt.scatter( x, y, color='k', marker='.' ) \n",
    "    plt.xlabel( 'log measured {}'.format( fmt_str ) )\n",
    "    plt.ylabel( 'measured $T_m$' ) \n",
    "\n",
    "    plt.xticks( x.dropna(), ('') )\n",
    "    plt.yticks( y.dropna(), ('') )\n",
    "    \n",
    "    plt.plot( [ x.min(), x.max() ], [ 39.6, 39.6 ], color=(0,1,0,0.1), lw=8 )\n",
    "    plt.legend( [ 'WT BglB' ] )\n",
    "    plt.plot( [ my_log_value ] * 2, [ y.min(), y.max() ], color=(0,1,0,0.1), lw=8 )\n",
    "\n",
    "    plt.box( 0 ) \n",
    "    \n",
    "plt.savefig( 'tm_versus_all.png', dpi=600 ) "
   ]
  },
  {
   "cell_type": "code",
   "execution_count": null,
   "metadata": {
    "collapsed": true
   },
   "outputs": [],
   "source": [
    "my_muts = [ 'E222H', 'Q19S', 'N404C', 'W120F' ] "
   ]
  },
  {
   "cell_type": "code",
   "execution_count": null,
   "metadata": {
    "collapsed": false
   },
   "outputs": [],
   "source": [
    "# data for panel figure \n",
    "\n",
    "df[ 'delta_tm' ] = df[ 'tm' ] - 39.9 \n",
    "print df.loc[ my_muts ].sort_values( 'tm' )  "
   ]
  },
  {
   "cell_type": "code",
   "execution_count": null,
   "metadata": {
    "collapsed": false
   },
   "outputs": [],
   "source": [
    "# individual Tm plots for selected mutants \n",
    "\n",
    "assay_data = pandas.read_csv( '../data_sets/experimental_data/assay_data/corrected_assay_data.csv', index_col=0 )\n",
    "assay_data.sample( 5 ) "
   ]
  },
  {
   "cell_type": "code",
   "execution_count": null,
   "metadata": {
    "collapsed": false
   },
   "outputs": [],
   "source": [
    "df.loc[ 'BglB' ] "
   ]
  },
  {
   "cell_type": "code",
   "execution_count": null,
   "metadata": {
    "collapsed": true
   },
   "outputs": [],
   "source": [
    "plt.plot?"
   ]
  },
  {
   "cell_type": "code",
   "execution_count": null,
   "metadata": {
    "collapsed": true
   },
   "outputs": [],
   "source": [
    "# define logistic equation \n",
    "def f(x, x0, k): \n",
    "    return 1/(1+np.exp(-k*(x-x0)))"
   ]
  },
  {
   "cell_type": "code",
   "execution_count": null,
   "metadata": {
    "collapsed": false
   },
   "outputs": [],
   "source": [
    "for my_mut in my_muts:\n",
    "    plt.figure( figsize=( 4, 4 ) ) \n",
    "    \n",
    "    # assay data \n",
    "    my_data = assay_data.loc[ my_mut ].copy()\n",
    "    my_data[ 'rate' ] = my_data[ 'rate' ] / my_data['rate'].max()   \n",
    "    plt.box( 0 ) \n",
    "    plt.xticks( [] )\n",
    "    plt.yticks( [] )\n",
    "    plt.scatter( my_data.temp, my_data.rate, c='k' )\n",
    "    \n",
    "    # fit and WT values \n",
    "    my_params = df.loc[ my_mut ][ [ 'tm', 'k' ] ]  \n",
    "    x_vals = np.linspace( 30, 50, 50 ) \n",
    "    plt.plot( x_vals, f( x_vals, * my_params ), 'k--', lw=4 )\n",
    "    plt.plot( x_vals, f( x_vals, 39.93, -1.19 ), c='g', lw=2 )"
   ]
  },
  {
   "cell_type": "code",
   "execution_count": null,
   "metadata": {
    "collapsed": true
   },
   "outputs": [],
   "source": [
    "# single feature correlations"
   ]
  },
  {
   "cell_type": "code",
   "execution_count": null,
   "metadata": {
    "collapsed": true
   },
   "outputs": [],
   "source": [
    "# machine learning results "
   ]
  },
  {
   "cell_type": "code",
   "execution_count": null,
   "metadata": {
    "collapsed": false
   },
   "outputs": [],
   "source": [
    "! cp /Users/alex/Documents/bagel-benchmark/foldx_runs/pssm_app/foldx_mutants.csv ../data_sets/foldx.csv "
   ]
  },
  {
   "cell_type": "code",
   "execution_count": null,
   "metadata": {
    "collapsed": false
   },
   "outputs": [],
   "source": [
    "! ls ../data_sets/features/"
   ]
  },
  {
   "cell_type": "code",
   "execution_count": null,
   "metadata": {
    "collapsed": false
   },
   "outputs": [],
   "source": [
    "# collect all our data sets \n",
    "\n",
    "bench = pandas.read_csv( '../data_sets/features/benchmark_feature_set.csv' )\n",
    "bench = bench.groupby( 'description' ).apply( lambda x: x.sort_values( 'total_score' ).head( 10 ).mean() ) "
   ]
  },
  {
   "cell_type": "code",
   "execution_count": null,
   "metadata": {
    "collapsed": true
   },
   "outputs": [],
   "source": []
  }
 ],
 "metadata": {
  "kernelspec": {
   "display_name": "Python 2",
   "language": "python",
   "name": "python2"
  },
  "language_info": {
   "codemirror_mode": {
    "name": "ipython",
    "version": 2
   },
   "file_extension": ".py",
   "mimetype": "text/x-python",
   "name": "python",
   "nbconvert_exporter": "python",
   "pygments_lexer": "ipython2",
   "version": "2.7.11"
  }
 },
 "nbformat": 4,
 "nbformat_minor": 0
}
