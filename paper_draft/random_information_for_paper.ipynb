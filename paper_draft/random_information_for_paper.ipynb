{
 "cells": [
  {
   "cell_type": "markdown",
   "metadata": {},
   "source": [
    "## Figures for BglB thermal stability paper, and summary statistics and those that don't fit anywhere else "
   ]
  },
  {
   "cell_type": "code",
   "execution_count": 14,
   "metadata": {
    "collapsed": true
   },
   "outputs": [],
   "source": [
    "%matplotlib inline"
   ]
  },
  {
   "cell_type": "code",
   "execution_count": 15,
   "metadata": {
    "collapsed": false
   },
   "outputs": [],
   "source": [
    "import matplotlib.pyplot as plt \n",
    "import pandas\n",
    "import numpy as np "
   ]
  },
  {
   "cell_type": "code",
   "execution_count": 16,
   "metadata": {
    "collapsed": false
   },
   "outputs": [],
   "source": [
    "df = pandas.read_csv( '../data_set/targets.csv', index_col=0 )"
   ]
  },
  {
   "cell_type": "code",
   "execution_count": 17,
   "metadata": {
    "collapsed": false
   },
   "outputs": [
    {
     "name": "stderr",
     "output_type": "stream",
     "text": [
      "/usr/local/bin/anaconda3/lib/python3.5/site-packages/numpy/lib/function_base.py:3834: RuntimeWarning: Invalid value encountered in percentile\n",
      "  RuntimeWarning)\n"
     ]
    },
    {
     "data": {
      "text/html": [
       "<div>\n",
       "<table border=\"1\" class=\"dataframe\">\n",
       "  <thead>\n",
       "    <tr style=\"text-align: right;\">\n",
       "      <th></th>\n",
       "      <th>sequence_pos</th>\n",
       "      <th>expression</th>\n",
       "      <th>tm</th>\n",
       "      <th>k</th>\n",
       "      <th>err_tm</th>\n",
       "      <th>err_k</th>\n",
       "      <th>kcat</th>\n",
       "      <th>km</th>\n",
       "      <th>kcatkm</th>\n",
       "      <th>err_km</th>\n",
       "      <th>...</th>\n",
       "      <th>ki</th>\n",
       "      <th>ki_percent_err</th>\n",
       "      <th>ki_err</th>\n",
       "      <th>gel_number</th>\n",
       "      <th>target_expression</th>\n",
       "      <th>target_tm</th>\n",
       "      <th>target_kcat</th>\n",
       "      <th>target_km</th>\n",
       "      <th>target_kcatkm</th>\n",
       "      <th>conserved</th>\n",
       "    </tr>\n",
       "  </thead>\n",
       "  <tbody>\n",
       "    <tr>\n",
       "      <th>count</th>\n",
       "      <td>128.000000</td>\n",
       "      <td>129.000000</td>\n",
       "      <td>79.000000</td>\n",
       "      <td>79.000000</td>\n",
       "      <td>79.000000</td>\n",
       "      <td>79.000000</td>\n",
       "      <td>76.000000</td>\n",
       "      <td>76.000000</td>\n",
       "      <td>7.900000e+01</td>\n",
       "      <td>76.000000</td>\n",
       "      <td>...</td>\n",
       "      <td>8.000000</td>\n",
       "      <td>8.000000</td>\n",
       "      <td>8.000000</td>\n",
       "      <td>128.000000</td>\n",
       "      <td>129.000000</td>\n",
       "      <td>79.000000</td>\n",
       "      <td>76.000000</td>\n",
       "      <td>76.000000</td>\n",
       "      <td>79.000000</td>\n",
       "      <td>128.000000</td>\n",
       "    </tr>\n",
       "    <tr>\n",
       "      <th>mean</th>\n",
       "      <td>241.531250</td>\n",
       "      <td>0.713178</td>\n",
       "      <td>39.463291</td>\n",
       "      <td>-0.838354</td>\n",
       "      <td>0.268734</td>\n",
       "      <td>0.156456</td>\n",
       "      <td>539.436842</td>\n",
       "      <td>11.117895</td>\n",
       "      <td>9.236115e+04</td>\n",
       "      <td>1.000526</td>\n",
       "      <td>...</td>\n",
       "      <td>227.772500</td>\n",
       "      <td>35.595000</td>\n",
       "      <td>111.186250</td>\n",
       "      <td>10.390625</td>\n",
       "      <td>0.713178</td>\n",
       "      <td>-0.466709</td>\n",
       "      <td>-0.748108</td>\n",
       "      <td>-0.172267</td>\n",
       "      <td>-1.060987</td>\n",
       "      <td>0.499220</td>\n",
       "    </tr>\n",
       "    <tr>\n",
       "      <th>std</th>\n",
       "      <td>122.181737</td>\n",
       "      <td>0.454041</td>\n",
       "      <td>1.645206</td>\n",
       "      <td>0.374917</td>\n",
       "      <td>0.156683</td>\n",
       "      <td>0.156140</td>\n",
       "      <td>1263.384644</td>\n",
       "      <td>13.437381</td>\n",
       "      <td>1.915735e+05</td>\n",
       "      <td>1.186895</td>\n",
       "      <td>...</td>\n",
       "      <td>167.270111</td>\n",
       "      <td>22.658287</td>\n",
       "      <td>165.916493</td>\n",
       "      <td>5.749679</td>\n",
       "      <td>0.454041</td>\n",
       "      <td>1.645206</td>\n",
       "      <td>0.907249</td>\n",
       "      <td>0.390723</td>\n",
       "      <td>1.241569</td>\n",
       "      <td>0.355953</td>\n",
       "    </tr>\n",
       "    <tr>\n",
       "      <th>min</th>\n",
       "      <td>12.000000</td>\n",
       "      <td>0.000000</td>\n",
       "      <td>34.910000</td>\n",
       "      <td>-1.730000</td>\n",
       "      <td>0.040000</td>\n",
       "      <td>0.020000</td>\n",
       "      <td>0.200000</td>\n",
       "      <td>0.400000</td>\n",
       "      <td>1.100000e+01</td>\n",
       "      <td>0.020000</td>\n",
       "      <td>...</td>\n",
       "      <td>95.240000</td>\n",
       "      <td>13.700000</td>\n",
       "      <td>13.050000</td>\n",
       "      <td>1.000000</td>\n",
       "      <td>0.000000</td>\n",
       "      <td>-5.020000</td>\n",
       "      <td>-3.643453</td>\n",
       "      <td>-1.251297</td>\n",
       "      <td>-4.199157</td>\n",
       "      <td>0.001263</td>\n",
       "    </tr>\n",
       "    <tr>\n",
       "      <th>25%</th>\n",
       "      <td>NaN</td>\n",
       "      <td>0.000000</td>\n",
       "      <td>NaN</td>\n",
       "      <td>NaN</td>\n",
       "      <td>NaN</td>\n",
       "      <td>NaN</td>\n",
       "      <td>NaN</td>\n",
       "      <td>NaN</td>\n",
       "      <td>NaN</td>\n",
       "      <td>NaN</td>\n",
       "      <td>...</td>\n",
       "      <td>NaN</td>\n",
       "      <td>NaN</td>\n",
       "      <td>NaN</td>\n",
       "      <td>NaN</td>\n",
       "      <td>0.000000</td>\n",
       "      <td>NaN</td>\n",
       "      <td>NaN</td>\n",
       "      <td>NaN</td>\n",
       "      <td>NaN</td>\n",
       "      <td>NaN</td>\n",
       "    </tr>\n",
       "    <tr>\n",
       "      <th>50%</th>\n",
       "      <td>NaN</td>\n",
       "      <td>1.000000</td>\n",
       "      <td>NaN</td>\n",
       "      <td>NaN</td>\n",
       "      <td>NaN</td>\n",
       "      <td>NaN</td>\n",
       "      <td>NaN</td>\n",
       "      <td>NaN</td>\n",
       "      <td>NaN</td>\n",
       "      <td>NaN</td>\n",
       "      <td>...</td>\n",
       "      <td>NaN</td>\n",
       "      <td>NaN</td>\n",
       "      <td>NaN</td>\n",
       "      <td>NaN</td>\n",
       "      <td>1.000000</td>\n",
       "      <td>NaN</td>\n",
       "      <td>NaN</td>\n",
       "      <td>NaN</td>\n",
       "      <td>NaN</td>\n",
       "      <td>NaN</td>\n",
       "    </tr>\n",
       "    <tr>\n",
       "      <th>75%</th>\n",
       "      <td>NaN</td>\n",
       "      <td>1.000000</td>\n",
       "      <td>NaN</td>\n",
       "      <td>NaN</td>\n",
       "      <td>NaN</td>\n",
       "      <td>NaN</td>\n",
       "      <td>NaN</td>\n",
       "      <td>NaN</td>\n",
       "      <td>NaN</td>\n",
       "      <td>NaN</td>\n",
       "      <td>...</td>\n",
       "      <td>NaN</td>\n",
       "      <td>NaN</td>\n",
       "      <td>NaN</td>\n",
       "      <td>NaN</td>\n",
       "      <td>1.000000</td>\n",
       "      <td>NaN</td>\n",
       "      <td>NaN</td>\n",
       "      <td>NaN</td>\n",
       "      <td>NaN</td>\n",
       "      <td>NaN</td>\n",
       "    </tr>\n",
       "    <tr>\n",
       "      <th>max</th>\n",
       "      <td>423.000000</td>\n",
       "      <td>1.000000</td>\n",
       "      <td>45.990000</td>\n",
       "      <td>-0.260000</td>\n",
       "      <td>0.790000</td>\n",
       "      <td>0.860000</td>\n",
       "      <td>11011.000000</td>\n",
       "      <td>89.180000</td>\n",
       "      <td>1.570000e+06</td>\n",
       "      <td>5.890000</td>\n",
       "      <td>...</td>\n",
       "      <td>590.710000</td>\n",
       "      <td>86.560000</td>\n",
       "      <td>511.320000</td>\n",
       "      <td>21.000000</td>\n",
       "      <td>1.000000</td>\n",
       "      <td>6.060000</td>\n",
       "      <td>1.097344</td>\n",
       "      <td>1.096910</td>\n",
       "      <td>0.955350</td>\n",
       "      <td>1.000000</td>\n",
       "    </tr>\n",
       "  </tbody>\n",
       "</table>\n",
       "<p>8 rows × 22 columns</p>\n",
       "</div>"
      ],
      "text/plain": [
       "       sequence_pos  expression         tm          k     err_tm      err_k  \\\n",
       "count    128.000000  129.000000  79.000000  79.000000  79.000000  79.000000   \n",
       "mean     241.531250    0.713178  39.463291  -0.838354   0.268734   0.156456   \n",
       "std      122.181737    0.454041   1.645206   0.374917   0.156683   0.156140   \n",
       "min       12.000000    0.000000  34.910000  -1.730000   0.040000   0.020000   \n",
       "25%             NaN    0.000000        NaN        NaN        NaN        NaN   \n",
       "50%             NaN    1.000000        NaN        NaN        NaN        NaN   \n",
       "75%             NaN    1.000000        NaN        NaN        NaN        NaN   \n",
       "max      423.000000    1.000000  45.990000  -0.260000   0.790000   0.860000   \n",
       "\n",
       "               kcat         km        kcatkm     err_km     ...      \\\n",
       "count     76.000000  76.000000  7.900000e+01  76.000000     ...       \n",
       "mean     539.436842  11.117895  9.236115e+04   1.000526     ...       \n",
       "std     1263.384644  13.437381  1.915735e+05   1.186895     ...       \n",
       "min        0.200000   0.400000  1.100000e+01   0.020000     ...       \n",
       "25%             NaN        NaN           NaN        NaN     ...       \n",
       "50%             NaN        NaN           NaN        NaN     ...       \n",
       "75%             NaN        NaN           NaN        NaN     ...       \n",
       "max    11011.000000  89.180000  1.570000e+06   5.890000     ...       \n",
       "\n",
       "               ki  ki_percent_err      ki_err  gel_number  target_expression  \\\n",
       "count    8.000000        8.000000    8.000000  128.000000         129.000000   \n",
       "mean   227.772500       35.595000  111.186250   10.390625           0.713178   \n",
       "std    167.270111       22.658287  165.916493    5.749679           0.454041   \n",
       "min     95.240000       13.700000   13.050000    1.000000           0.000000   \n",
       "25%           NaN             NaN         NaN         NaN           0.000000   \n",
       "50%           NaN             NaN         NaN         NaN           1.000000   \n",
       "75%           NaN             NaN         NaN         NaN           1.000000   \n",
       "max    590.710000       86.560000  511.320000   21.000000           1.000000   \n",
       "\n",
       "       target_tm  target_kcat  target_km  target_kcatkm   conserved  \n",
       "count  79.000000    76.000000  76.000000      79.000000  128.000000  \n",
       "mean   -0.466709    -0.748108  -0.172267      -1.060987    0.499220  \n",
       "std     1.645206     0.907249   0.390723       1.241569    0.355953  \n",
       "min    -5.020000    -3.643453  -1.251297      -4.199157    0.001263  \n",
       "25%          NaN          NaN        NaN            NaN         NaN  \n",
       "50%          NaN          NaN        NaN            NaN         NaN  \n",
       "75%          NaN          NaN        NaN            NaN         NaN  \n",
       "max     6.060000     1.097344   1.096910       0.955350    1.000000  \n",
       "\n",
       "[8 rows x 22 columns]"
      ]
     },
     "execution_count": 17,
     "metadata": {},
     "output_type": "execute_result"
    }
   ],
   "source": [
    "df.describe()"
   ]
  },
  {
   "cell_type": "code",
   "execution_count": 6,
   "metadata": {
    "collapsed": false
   },
   "outputs": [
    {
     "data": {
      "text/html": [
       "<div>\n",
       "<table border=\"1\" class=\"dataframe\">\n",
       "  <thead>\n",
       "    <tr style=\"text-align: right;\">\n",
       "      <th></th>\n",
       "      <th>sequence_pos</th>\n",
       "      <th>expression</th>\n",
       "      <th>tm</th>\n",
       "      <th>k</th>\n",
       "      <th>err_tm</th>\n",
       "      <th>err_k</th>\n",
       "      <th>kcat</th>\n",
       "      <th>km</th>\n",
       "      <th>kcatkm</th>\n",
       "      <th>err_km</th>\n",
       "      <th>...</th>\n",
       "      <th>ki</th>\n",
       "      <th>ki_percent_err</th>\n",
       "      <th>ki_err</th>\n",
       "      <th>gel_number</th>\n",
       "      <th>target_expression</th>\n",
       "      <th>target_tm</th>\n",
       "      <th>target_kcat</th>\n",
       "      <th>target_km</th>\n",
       "      <th>target_kcatkm</th>\n",
       "      <th>conserved</th>\n",
       "    </tr>\n",
       "    <tr>\n",
       "      <th>mutant</th>\n",
       "      <th></th>\n",
       "      <th></th>\n",
       "      <th></th>\n",
       "      <th></th>\n",
       "      <th></th>\n",
       "      <th></th>\n",
       "      <th></th>\n",
       "      <th></th>\n",
       "      <th></th>\n",
       "      <th></th>\n",
       "      <th></th>\n",
       "      <th></th>\n",
       "      <th></th>\n",
       "      <th></th>\n",
       "      <th></th>\n",
       "      <th></th>\n",
       "      <th></th>\n",
       "      <th></th>\n",
       "      <th></th>\n",
       "      <th></th>\n",
       "      <th></th>\n",
       "    </tr>\n",
       "  </thead>\n",
       "  <tbody>\n",
       "    <tr>\n",
       "      <th>C167A</th>\n",
       "      <td>167.0</td>\n",
       "      <td>1</td>\n",
       "      <td>39.84</td>\n",
       "      <td>-1.47</td>\n",
       "      <td>0.54</td>\n",
       "      <td>0.58</td>\n",
       "      <td>479.0</td>\n",
       "      <td>14.56</td>\n",
       "      <td>32884.0</td>\n",
       "      <td>1.27</td>\n",
       "      <td>...</td>\n",
       "      <td>NaN</td>\n",
       "      <td>NaN</td>\n",
       "      <td>NaN</td>\n",
       "      <td>11.0</td>\n",
       "      <td>1</td>\n",
       "      <td>-0.09</td>\n",
       "      <td>-0.264147</td>\n",
       "      <td>-0.464191</td>\n",
       "      <td>-0.723565</td>\n",
       "      <td>0.161332</td>\n",
       "    </tr>\n",
       "    <tr>\n",
       "      <th>T175R</th>\n",
       "      <td>175.0</td>\n",
       "      <td>1</td>\n",
       "      <td>38.06</td>\n",
       "      <td>-0.54</td>\n",
       "      <td>0.11</td>\n",
       "      <td>0.03</td>\n",
       "      <td>801.0</td>\n",
       "      <td>3.59</td>\n",
       "      <td>223033.0</td>\n",
       "      <td>0.15</td>\n",
       "      <td>...</td>\n",
       "      <td>NaN</td>\n",
       "      <td>NaN</td>\n",
       "      <td>NaN</td>\n",
       "      <td>7.0</td>\n",
       "      <td>1</td>\n",
       "      <td>-1.87</td>\n",
       "      <td>-0.040850</td>\n",
       "      <td>0.143876</td>\n",
       "      <td>0.107820</td>\n",
       "      <td>0.088621</td>\n",
       "    </tr>\n",
       "    <tr>\n",
       "      <th>E177A</th>\n",
       "      <td>177.0</td>\n",
       "      <td>1</td>\n",
       "      <td>37.54</td>\n",
       "      <td>-0.52</td>\n",
       "      <td>0.24</td>\n",
       "      <td>0.06</td>\n",
       "      <td>986.0</td>\n",
       "      <td>5.98</td>\n",
       "      <td>164804.0</td>\n",
       "      <td>0.22</td>\n",
       "      <td>...</td>\n",
       "      <td>NaN</td>\n",
       "      <td>NaN</td>\n",
       "      <td>NaN</td>\n",
       "      <td>14.0</td>\n",
       "      <td>1</td>\n",
       "      <td>-2.39</td>\n",
       "      <td>0.049394</td>\n",
       "      <td>-0.077731</td>\n",
       "      <td>-0.023581</td>\n",
       "      <td>0.106996</td>\n",
       "    </tr>\n",
       "  </tbody>\n",
       "</table>\n",
       "<p>3 rows × 22 columns</p>\n",
       "</div>"
      ],
      "text/plain": [
       "        sequence_pos  expression     tm     k  err_tm  err_k   kcat     km  \\\n",
       "mutant                                                                       \n",
       "C167A          167.0           1  39.84 -1.47    0.54   0.58  479.0  14.56   \n",
       "T175R          175.0           1  38.06 -0.54    0.11   0.03  801.0   3.59   \n",
       "E177A          177.0           1  37.54 -0.52    0.24   0.06  986.0   5.98   \n",
       "\n",
       "          kcatkm  err_km    ...      ki  ki_percent_err  ki_err  gel_number  \\\n",
       "mutant                      ...                                               \n",
       "C167A    32884.0    1.27    ...     NaN             NaN     NaN        11.0   \n",
       "T175R   223033.0    0.15    ...     NaN             NaN     NaN         7.0   \n",
       "E177A   164804.0    0.22    ...     NaN             NaN     NaN        14.0   \n",
       "\n",
       "        target_expression  target_tm  target_kcat  target_km  target_kcatkm  \\\n",
       "mutant                                                                        \n",
       "C167A                   1      -0.09    -0.264147  -0.464191      -0.723565   \n",
       "T175R                   1      -1.87    -0.040850   0.143876       0.107820   \n",
       "E177A                   1      -2.39     0.049394  -0.077731      -0.023581   \n",
       "\n",
       "        conserved  \n",
       "mutant             \n",
       "C167A    0.161332  \n",
       "T175R    0.088621  \n",
       "E177A    0.106996  \n",
       "\n",
       "[3 rows x 22 columns]"
      ]
     },
     "execution_count": 6,
     "metadata": {},
     "output_type": "execute_result"
    }
   ],
   "source": [
    "df.sample( 3 )"
   ]
  },
  {
   "cell_type": "markdown",
   "metadata": {},
   "source": [
    "### Number of positions mutated, PyMOL selection, list of not expressed\n",
    "\n",
    "Number of sequence positions mutated:"
   ]
  },
  {
   "cell_type": "code",
   "execution_count": 7,
   "metadata": {
    "collapsed": false
   },
   "outputs": [
    {
     "data": {
      "text/plain": [
       "68"
      ]
     },
     "execution_count": 7,
     "metadata": {},
     "output_type": "execute_result"
    }
   ],
   "source": [
    "len( df.sequence_pos.unique() ) "
   ]
  },
  {
   "cell_type": "markdown",
   "metadata": {},
   "source": [
    "How could you quickly select them in PyMOL? You could use: "
   ]
  },
  {
   "cell_type": "code",
   "execution_count": 8,
   "metadata": {
    "collapsed": false
   },
   "outputs": [
    {
     "name": "stdout",
     "output_type": "stream",
     "text": [
      "select all_mutants, resi 12+14+15+16+16+17+17+18+19+19+19+19+32+34+52+72+76+91+101+119+119+119+120+120+120+121+154+163+163+163+163+163+164+164+164+166+167+167+171+171+175+177+177+177+178+178+192+218+220+220+220+220+220+221+222+222+222+222+222+222+236+240+240+240+240+244+244+249+261+293+293+293+293+293+294+294+294+295+295+296+296+298+300+313+315+315+323+323+325+325+325+325+325+325+329+331+341+343+352+353+354+355+358+362+373+379+379+399+399+399+399+399+400+403+404+404+406+406+407+407+407+407+407+407+409+415+415+423\n"
     ]
    }
   ],
   "source": [
    "s = '+'.join( [ i for i in df.sequence_pos.dropna().astype( int ).astype( str ) ] ) \n",
    "print( 'select all_mutants, resi', s )"
   ]
  },
  {
   "cell_type": "markdown",
   "metadata": {},
   "source": [
    "List of mutants that do not express:"
   ]
  },
  {
   "cell_type": "code",
   "execution_count": 9,
   "metadata": {
    "collapsed": false
   },
   "outputs": [
    {
     "data": {
      "text/plain": [
       "Index(['G12N', 'S16N', 'Q19P', 'S32L', 'W34A', 'R76A', 'H119E', 'W120A',\n",
       "       'D121F', 'N163E', 'N163K', 'E164G', 'E164R', 'Y166P', 'H178R', 'A236E',\n",
       "       'R240E', 'A249E', 'M261D', 'N293D', 'N293K', 'Y294L', 'T296A', 'T296E',\n",
       "       'H315N', 'M323K', 'W325G', 'P329N', 'F343S', 'G355A', 'H379T', 'D403A',\n",
       "       'W407G', 'W407K', 'W407Q', 'W407R', 'W407Y'],\n",
       "      dtype='object', name='mutant')"
      ]
     },
     "execution_count": 9,
     "metadata": {},
     "output_type": "execute_result"
    }
   ],
   "source": [
    "df[( df.expression == 0 )].index"
   ]
  },
  {
   "cell_type": "markdown",
   "metadata": {},
   "source": [
    "### How many with a T$_m$ within 1 degree of WT?"
   ]
  },
  {
   "cell_type": "code",
   "execution_count": 10,
   "metadata": {
    "collapsed": false
   },
   "outputs": [
    {
     "name": "stdout",
     "output_type": "stream",
     "text": [
      "43 26 10\n"
     ]
    }
   ],
   "source": [
    "within = lower = higher = 0\n",
    "for tm in df.tm:\n",
    "    if abs( 39.9 - tm ) < 1:\n",
    "        within += 1 \n",
    "    elif tm > ( 39.9 + 1 ):\n",
    "        higher += 1\n",
    "    elif tm > 0 and tm < 38.9:\n",
    "        lower += 1\n",
    "        \n",
    "print( within, lower, higher ) "
   ]
  },
  {
   "cell_type": "code",
   "execution_count": 11,
   "metadata": {
    "collapsed": false
   },
   "outputs": [
    {
     "name": "stdout",
     "output_type": "stream",
     "text": [
      "G12N 0.0\n",
      "V52G 1.0\n",
      "E164G 0.0\n",
      "N220G 1.0\n",
      "Y295G 1.0\n",
      "W325G 0.0\n",
      "G355A 0.0\n",
      "W399G 1.0\n",
      "W407G 0.0\n"
     ]
    }
   ],
   "source": [
    "# to and from G mutants, and whether expressed \n",
    "for nm in df.index:\n",
    "    if nm[0] == 'G' or nm[-1] == 'G':\n",
    "        print( nm, df.loc[ nm ].expression ) "
   ]
  },
  {
   "cell_type": "markdown",
   "metadata": {},
   "source": [
    "# Conservation along BglB sequence \n",
    "\n",
    "Alignment of 1554 Pfam sequences that we trimmed by hand to have catalytic residues as in previous paper \n",
    "\n"
   ]
  },
  {
   "cell_type": "code",
   "execution_count": 12,
   "metadata": {
    "collapsed": false
   },
   "outputs": [
    {
     "ename": "OSError",
     "evalue": "File b'old_stuff/alignment/logo-data-bagel-aligned.txt' does not exist",
     "output_type": "error",
     "traceback": [
      "\u001b[0;31m---------------------------------------------------------------------------\u001b[0m",
      "\u001b[0;31mOSError\u001b[0m                                   Traceback (most recent call last)",
      "\u001b[0;32m<ipython-input-12-ce1a13682e8a>\u001b[0m in \u001b[0;36m<module>\u001b[0;34m()\u001b[0m\n\u001b[0;32m----> 1\u001b[0;31m \u001b[0mdat\u001b[0m \u001b[0;34m=\u001b[0m \u001b[0mpandas\u001b[0m\u001b[0;34m.\u001b[0m\u001b[0mread_csv\u001b[0m\u001b[0;34m(\u001b[0m \u001b[0;34m'old_stuff/alignment/logo-data-bagel-aligned.txt'\u001b[0m\u001b[0;34m,\u001b[0m \u001b[0msep\u001b[0m\u001b[0;34m=\u001b[0m\u001b[0;34m'\\s+'\u001b[0m \u001b[0;34m)\u001b[0m\u001b[0;34m\u001b[0m\u001b[0m\n\u001b[0m\u001b[1;32m      2\u001b[0m \u001b[0mdat\u001b[0m\u001b[0;34m[\u001b[0m\u001b[0;34m'sequence_pos'\u001b[0m\u001b[0;34m]\u001b[0m \u001b[0;34m=\u001b[0m \u001b[0mdat\u001b[0m\u001b[0;34m.\u001b[0m\u001b[0mindex\u001b[0m \u001b[0;34m+\u001b[0m \u001b[0;36m1\u001b[0m\u001b[0;34m\u001b[0m\u001b[0m\n\u001b[1;32m      3\u001b[0m \u001b[0mprint\u001b[0m\u001b[0;34m(\u001b[0m \u001b[0mlen\u001b[0m\u001b[0;34m(\u001b[0m \u001b[0mdat\u001b[0m \u001b[0;34m)\u001b[0m \u001b[0;34m)\u001b[0m\u001b[0;34m\u001b[0m\u001b[0m\n\u001b[1;32m      4\u001b[0m \u001b[0;34m\u001b[0m\u001b[0m\n\u001b[1;32m      5\u001b[0m \u001b[0maas\u001b[0m \u001b[0;34m=\u001b[0m \u001b[0;34m[\u001b[0m \u001b[0;34mu'A'\u001b[0m\u001b[0;34m,\u001b[0m \u001b[0;34mu'C'\u001b[0m\u001b[0;34m,\u001b[0m \u001b[0;34mu'D'\u001b[0m\u001b[0;34m,\u001b[0m \u001b[0;34mu'E'\u001b[0m\u001b[0;34m,\u001b[0m \u001b[0;34mu'F'\u001b[0m\u001b[0;34m,\u001b[0m \u001b[0;34mu'G'\u001b[0m\u001b[0;34m,\u001b[0m \u001b[0;34mu'H'\u001b[0m\u001b[0;34m,\u001b[0m \u001b[0;34mu'I'\u001b[0m\u001b[0;34m,\u001b[0m \u001b[0;34mu'K'\u001b[0m\u001b[0;34m,\u001b[0m \u001b[0;34mu'L'\u001b[0m\u001b[0;34m,\u001b[0m \u001b[0;34mu'M'\u001b[0m\u001b[0;34m,\u001b[0m \u001b[0;34mu'N'\u001b[0m\u001b[0;34m,\u001b[0m \u001b[0;34mu'P'\u001b[0m\u001b[0;34m,\u001b[0m \u001b[0;34mu'Q'\u001b[0m\u001b[0;34m,\u001b[0m \u001b[0;34mu'R'\u001b[0m\u001b[0;34m,\u001b[0m \u001b[0;34mu'S'\u001b[0m\u001b[0;34m,\u001b[0m \u001b[0;34mu'T'\u001b[0m\u001b[0;34m,\u001b[0m \u001b[0;34mu'V'\u001b[0m\u001b[0;34m,\u001b[0m \u001b[0;34mu'W'\u001b[0m\u001b[0;34m,\u001b[0m \u001b[0;34mu'Y'\u001b[0m \u001b[0;34m]\u001b[0m\u001b[0;34m\u001b[0m\u001b[0m\n",
      "\u001b[0;32m/usr/local/bin/anaconda3/lib/python3.5/site-packages/pandas/io/parsers.py\u001b[0m in \u001b[0;36mparser_f\u001b[0;34m(filepath_or_buffer, sep, delimiter, header, names, index_col, usecols, squeeze, prefix, mangle_dupe_cols, dtype, engine, converters, true_values, false_values, skipinitialspace, skiprows, skipfooter, nrows, na_values, keep_default_na, na_filter, verbose, skip_blank_lines, parse_dates, infer_datetime_format, keep_date_col, date_parser, dayfirst, iterator, chunksize, compression, thousands, decimal, lineterminator, quotechar, quoting, escapechar, comment, encoding, dialect, tupleize_cols, error_bad_lines, warn_bad_lines, skip_footer, doublequote, delim_whitespace, as_recarray, compact_ints, use_unsigned, low_memory, buffer_lines, memory_map, float_precision)\u001b[0m\n\u001b[1;32m    560\u001b[0m                     skip_blank_lines=skip_blank_lines)\n\u001b[1;32m    561\u001b[0m \u001b[0;34m\u001b[0m\u001b[0m\n\u001b[0;32m--> 562\u001b[0;31m         \u001b[0;32mreturn\u001b[0m \u001b[0m_read\u001b[0m\u001b[0;34m(\u001b[0m\u001b[0mfilepath_or_buffer\u001b[0m\u001b[0;34m,\u001b[0m \u001b[0mkwds\u001b[0m\u001b[0;34m)\u001b[0m\u001b[0;34m\u001b[0m\u001b[0m\n\u001b[0m\u001b[1;32m    563\u001b[0m \u001b[0;34m\u001b[0m\u001b[0m\n\u001b[1;32m    564\u001b[0m     \u001b[0mparser_f\u001b[0m\u001b[0;34m.\u001b[0m\u001b[0m__name__\u001b[0m \u001b[0;34m=\u001b[0m \u001b[0mname\u001b[0m\u001b[0;34m\u001b[0m\u001b[0m\n",
      "\u001b[0;32m/usr/local/bin/anaconda3/lib/python3.5/site-packages/pandas/io/parsers.py\u001b[0m in \u001b[0;36m_read\u001b[0;34m(filepath_or_buffer, kwds)\u001b[0m\n\u001b[1;32m    313\u001b[0m \u001b[0;34m\u001b[0m\u001b[0m\n\u001b[1;32m    314\u001b[0m     \u001b[0;31m# Create the parser.\u001b[0m\u001b[0;34m\u001b[0m\u001b[0;34m\u001b[0m\u001b[0m\n\u001b[0;32m--> 315\u001b[0;31m     \u001b[0mparser\u001b[0m \u001b[0;34m=\u001b[0m \u001b[0mTextFileReader\u001b[0m\u001b[0;34m(\u001b[0m\u001b[0mfilepath_or_buffer\u001b[0m\u001b[0;34m,\u001b[0m \u001b[0;34m**\u001b[0m\u001b[0mkwds\u001b[0m\u001b[0;34m)\u001b[0m\u001b[0;34m\u001b[0m\u001b[0m\n\u001b[0m\u001b[1;32m    316\u001b[0m \u001b[0;34m\u001b[0m\u001b[0m\n\u001b[1;32m    317\u001b[0m     \u001b[0;32mif\u001b[0m \u001b[0;34m(\u001b[0m\u001b[0mnrows\u001b[0m \u001b[0;32mis\u001b[0m \u001b[0;32mnot\u001b[0m \u001b[0;32mNone\u001b[0m\u001b[0;34m)\u001b[0m \u001b[0;32mand\u001b[0m \u001b[0;34m(\u001b[0m\u001b[0mchunksize\u001b[0m \u001b[0;32mis\u001b[0m \u001b[0;32mnot\u001b[0m \u001b[0;32mNone\u001b[0m\u001b[0;34m)\u001b[0m\u001b[0;34m:\u001b[0m\u001b[0;34m\u001b[0m\u001b[0m\n",
      "\u001b[0;32m/usr/local/bin/anaconda3/lib/python3.5/site-packages/pandas/io/parsers.py\u001b[0m in \u001b[0;36m__init__\u001b[0;34m(self, f, engine, **kwds)\u001b[0m\n\u001b[1;32m    643\u001b[0m             \u001b[0mself\u001b[0m\u001b[0;34m.\u001b[0m\u001b[0moptions\u001b[0m\u001b[0;34m[\u001b[0m\u001b[0;34m'has_index_names'\u001b[0m\u001b[0;34m]\u001b[0m \u001b[0;34m=\u001b[0m \u001b[0mkwds\u001b[0m\u001b[0;34m[\u001b[0m\u001b[0;34m'has_index_names'\u001b[0m\u001b[0;34m]\u001b[0m\u001b[0;34m\u001b[0m\u001b[0m\n\u001b[1;32m    644\u001b[0m \u001b[0;34m\u001b[0m\u001b[0m\n\u001b[0;32m--> 645\u001b[0;31m         \u001b[0mself\u001b[0m\u001b[0;34m.\u001b[0m\u001b[0m_make_engine\u001b[0m\u001b[0;34m(\u001b[0m\u001b[0mself\u001b[0m\u001b[0;34m.\u001b[0m\u001b[0mengine\u001b[0m\u001b[0;34m)\u001b[0m\u001b[0;34m\u001b[0m\u001b[0m\n\u001b[0m\u001b[1;32m    646\u001b[0m \u001b[0;34m\u001b[0m\u001b[0m\n\u001b[1;32m    647\u001b[0m     \u001b[0;32mdef\u001b[0m \u001b[0mclose\u001b[0m\u001b[0;34m(\u001b[0m\u001b[0mself\u001b[0m\u001b[0;34m)\u001b[0m\u001b[0;34m:\u001b[0m\u001b[0;34m\u001b[0m\u001b[0m\n",
      "\u001b[0;32m/usr/local/bin/anaconda3/lib/python3.5/site-packages/pandas/io/parsers.py\u001b[0m in \u001b[0;36m_make_engine\u001b[0;34m(self, engine)\u001b[0m\n\u001b[1;32m    797\u001b[0m     \u001b[0;32mdef\u001b[0m \u001b[0m_make_engine\u001b[0m\u001b[0;34m(\u001b[0m\u001b[0mself\u001b[0m\u001b[0;34m,\u001b[0m \u001b[0mengine\u001b[0m\u001b[0;34m=\u001b[0m\u001b[0;34m'c'\u001b[0m\u001b[0;34m)\u001b[0m\u001b[0;34m:\u001b[0m\u001b[0;34m\u001b[0m\u001b[0m\n\u001b[1;32m    798\u001b[0m         \u001b[0;32mif\u001b[0m \u001b[0mengine\u001b[0m \u001b[0;34m==\u001b[0m \u001b[0;34m'c'\u001b[0m\u001b[0;34m:\u001b[0m\u001b[0;34m\u001b[0m\u001b[0m\n\u001b[0;32m--> 799\u001b[0;31m             \u001b[0mself\u001b[0m\u001b[0;34m.\u001b[0m\u001b[0m_engine\u001b[0m \u001b[0;34m=\u001b[0m \u001b[0mCParserWrapper\u001b[0m\u001b[0;34m(\u001b[0m\u001b[0mself\u001b[0m\u001b[0;34m.\u001b[0m\u001b[0mf\u001b[0m\u001b[0;34m,\u001b[0m \u001b[0;34m**\u001b[0m\u001b[0mself\u001b[0m\u001b[0;34m.\u001b[0m\u001b[0moptions\u001b[0m\u001b[0;34m)\u001b[0m\u001b[0;34m\u001b[0m\u001b[0m\n\u001b[0m\u001b[1;32m    800\u001b[0m         \u001b[0;32melse\u001b[0m\u001b[0;34m:\u001b[0m\u001b[0;34m\u001b[0m\u001b[0m\n\u001b[1;32m    801\u001b[0m             \u001b[0;32mif\u001b[0m \u001b[0mengine\u001b[0m \u001b[0;34m==\u001b[0m \u001b[0;34m'python'\u001b[0m\u001b[0;34m:\u001b[0m\u001b[0;34m\u001b[0m\u001b[0m\n",
      "\u001b[0;32m/usr/local/bin/anaconda3/lib/python3.5/site-packages/pandas/io/parsers.py\u001b[0m in \u001b[0;36m__init__\u001b[0;34m(self, src, **kwds)\u001b[0m\n\u001b[1;32m   1211\u001b[0m         \u001b[0mkwds\u001b[0m\u001b[0;34m[\u001b[0m\u001b[0;34m'allow_leading_cols'\u001b[0m\u001b[0;34m]\u001b[0m \u001b[0;34m=\u001b[0m \u001b[0mself\u001b[0m\u001b[0;34m.\u001b[0m\u001b[0mindex_col\u001b[0m \u001b[0;32mis\u001b[0m \u001b[0;32mnot\u001b[0m \u001b[0;32mFalse\u001b[0m\u001b[0;34m\u001b[0m\u001b[0m\n\u001b[1;32m   1212\u001b[0m \u001b[0;34m\u001b[0m\u001b[0m\n\u001b[0;32m-> 1213\u001b[0;31m         \u001b[0mself\u001b[0m\u001b[0;34m.\u001b[0m\u001b[0m_reader\u001b[0m \u001b[0;34m=\u001b[0m \u001b[0m_parser\u001b[0m\u001b[0;34m.\u001b[0m\u001b[0mTextReader\u001b[0m\u001b[0;34m(\u001b[0m\u001b[0msrc\u001b[0m\u001b[0;34m,\u001b[0m \u001b[0;34m**\u001b[0m\u001b[0mkwds\u001b[0m\u001b[0;34m)\u001b[0m\u001b[0;34m\u001b[0m\u001b[0m\n\u001b[0m\u001b[1;32m   1214\u001b[0m \u001b[0;34m\u001b[0m\u001b[0m\n\u001b[1;32m   1215\u001b[0m         \u001b[0;31m# XXX\u001b[0m\u001b[0;34m\u001b[0m\u001b[0;34m\u001b[0m\u001b[0m\n",
      "\u001b[0;32mpandas/parser.pyx\u001b[0m in \u001b[0;36mpandas.parser.TextReader.__cinit__ (pandas/parser.c:3427)\u001b[0;34m()\u001b[0m\n",
      "\u001b[0;32mpandas/parser.pyx\u001b[0m in \u001b[0;36mpandas.parser.TextReader._setup_parser_source (pandas/parser.c:6861)\u001b[0;34m()\u001b[0m\n",
      "\u001b[0;31mOSError\u001b[0m: File b'old_stuff/alignment/logo-data-bagel-aligned.txt' does not exist"
     ]
    }
   ],
   "source": [
    "dat = pandas.read_csv( 'old_stuff/alignment/logo-data-bagel-aligned.txt', sep='\\s+' ) \n",
    "dat['sequence_pos'] = dat.index + 1 \n",
    "print( len( dat ) )\n",
    "\n",
    "aas = [ u'A', u'C', u'D', u'E', u'F', u'G', u'H', u'I', u'K', u'L', u'M', u'N', u'P', u'Q', u'R', u'S', u'T', u'V', u'W', u'Y' ]\n",
    "\n",
    "clean_dat = dat[ aas ].copy()\n",
    "clean_dat.index = dat.amino_acid \n",
    "\n",
    "percents = []\n",
    "for idx, row in clean_dat.iterrows():\n",
    "    percents.append( row[ idx.upper() ].astype( float ) / row.sum()  )\n",
    "    \n",
    "clean_dat['percents'] = percents\n",
    "clean_dat['sequence_pos'] = range( 1, 446 ) \n",
    "clean_dat[ 'entropy' ] = dat.Entropy\n",
    "\n",
    "print( len( clean_dat ) )\n",
    "clean_dat.sample( 5 ) "
   ]
  },
  {
   "cell_type": "code",
   "execution_count": null,
   "metadata": {
    "collapsed": true
   },
   "outputs": [],
   "source": [
    "# sorry, the above is a terrible hack"
   ]
  },
  {
   "cell_type": "code",
   "execution_count": null,
   "metadata": {
    "collapsed": false
   },
   "outputs": [],
   "source": [
    "plt.figure( figsize=( 30, 3 ) ) \n",
    "#plt.bar( dat.sequence_pos, ( dat.Entropy / dat.Entropy.max()) , lw=0, color='teal', label='Entropy' )\n",
    "plt.plot( dat.sequence_pos, ( dat.Entropy / dat.Entropy.max()) , color='teal' )\n",
    "\n",
    "# plt.xlim( 0, 446 ); plt.ylim( 0, 1.2 ) \n",
    "plt.xticks( [ 100, 200, 300, 400 ] ) \n",
    "plt.ylabel( 'Percent conservation' )\n",
    "plt.xlabel( 'Position along BglB sequence' ) \n",
    "plt.tick_params( length=0 ) \n",
    "plt.yticks( [ 0.3, .6, 1 ] ) \n",
    "#plt.box(0)\n",
    "plt.show()"
   ]
  },
  {
   "cell_type": "code",
   "execution_count": null,
   "metadata": {
    "collapsed": true
   },
   "outputs": [],
   "source": []
  }
 ],
 "metadata": {
  "anaconda-cloud": {},
  "kernelspec": {
   "display_name": "Python [default]",
   "language": "python",
   "name": "python3"
  },
  "language_info": {
   "codemirror_mode": {
    "name": "ipython",
    "version": 3
   },
   "file_extension": ".py",
   "mimetype": "text/x-python",
   "name": "python",
   "nbconvert_exporter": "python",
   "pygments_lexer": "ipython3",
   "version": "3.5.2"
  }
 },
 "nbformat": 4,
 "nbformat_minor": 0
}
