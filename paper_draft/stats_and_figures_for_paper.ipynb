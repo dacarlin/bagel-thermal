{
 "cells": [
  {
   "cell_type": "code",
   "execution_count": 1,
   "metadata": {
    "collapsed": false
   },
   "outputs": [],
   "source": [
    "%matplotlib inline \n",
    "\n",
    "import pandas \n",
    "import matplotlib.pyplot as plt"
   ]
  },
  {
   "cell_type": "code",
   "execution_count": 2,
   "metadata": {
    "collapsed": true
   },
   "outputs": [],
   "source": [
    "df = pandas.read_csv( '../data_sets/experimental_data/thermo_paper_data_set.csv', index_col=0 )\n",
    "\n",
    "# keep and drop wild type \n",
    "wt = df.loc[ 'BglB' ]\n",
    "df.drop( 'BglB', inplace=True ) "
   ]
  },
  {
   "cell_type": "code",
   "execution_count": 3,
   "metadata": {
    "collapsed": false
   },
   "outputs": [
    {
     "name": "stderr",
     "output_type": "stream",
     "text": [
      "/usr/local/bin/anaconda/lib/python2.7/site-packages/numpy-1.10.1-py2.7-macosx-10.5-x86_64.egg/numpy/lib/function_base.py:3403: RuntimeWarning: Invalid value encountered in median\n",
      "  RuntimeWarning)\n"
     ]
    },
    {
     "data": {
      "text/html": [
       "<div>\n",
       "<table border=\"1\" class=\"dataframe\">\n",
       "  <thead>\n",
       "    <tr style=\"text-align: right;\">\n",
       "      <th></th>\n",
       "      <th>sequence_pos</th>\n",
       "      <th>tm</th>\n",
       "      <th>kcat</th>\n",
       "      <th>ekcat</th>\n",
       "      <th>km</th>\n",
       "      <th>ekm</th>\n",
       "      <th>ki</th>\n",
       "      <th>eki</th>\n",
       "      <th>kcatkm</th>\n",
       "      <th>ekcatkm</th>\n",
       "      <th>in_plos_paper</th>\n",
       "      <th>added_later</th>\n",
       "      <th>expression</th>\n",
       "    </tr>\n",
       "  </thead>\n",
       "  <tbody>\n",
       "    <tr>\n",
       "      <th>count</th>\n",
       "      <td>128.000000</td>\n",
       "      <td>61.000000</td>\n",
       "      <td>79.000000</td>\n",
       "      <td>78.000000</td>\n",
       "      <td>79.000000</td>\n",
       "      <td>78.000000</td>\n",
       "      <td>10.000000</td>\n",
       "      <td>10.000000</td>\n",
       "      <td>80.000000</td>\n",
       "      <td>79.000000</td>\n",
       "      <td>128.000000</td>\n",
       "      <td>128.000000</td>\n",
       "      <td>128.000000</td>\n",
       "    </tr>\n",
       "    <tr>\n",
       "      <th>mean</th>\n",
       "      <td>241.531250</td>\n",
       "      <td>39.075410</td>\n",
       "      <td>504.774684</td>\n",
       "      <td>11.727436</td>\n",
       "      <td>11.114304</td>\n",
       "      <td>2.186538</td>\n",
       "      <td>205.988000</td>\n",
       "      <td>32.361000</td>\n",
       "      <td>61502.462500</td>\n",
       "      <td>5171.202532</td>\n",
       "      <td>0.710938</td>\n",
       "      <td>0.171875</td>\n",
       "      <td>0.664062</td>\n",
       "    </tr>\n",
       "    <tr>\n",
       "      <th>std</th>\n",
       "      <td>122.181737</td>\n",
       "      <td>1.691021</td>\n",
       "      <td>1245.075000</td>\n",
       "      <td>30.928460</td>\n",
       "      <td>13.352085</td>\n",
       "      <td>3.906758</td>\n",
       "      <td>154.912171</td>\n",
       "      <td>21.558901</td>\n",
       "      <td>87561.103595</td>\n",
       "      <td>9225.136982</td>\n",
       "      <td>0.455108</td>\n",
       "      <td>0.454364</td>\n",
       "      <td>0.474173</td>\n",
       "    </tr>\n",
       "    <tr>\n",
       "      <th>min</th>\n",
       "      <td>12.000000</td>\n",
       "      <td>32.900000</td>\n",
       "      <td>0.000000</td>\n",
       "      <td>0.000000</td>\n",
       "      <td>0.050000</td>\n",
       "      <td>0.050000</td>\n",
       "      <td>94.950000</td>\n",
       "      <td>10.180000</td>\n",
       "      <td>10.000000</td>\n",
       "      <td>0.000000</td>\n",
       "      <td>0.000000</td>\n",
       "      <td>0.000000</td>\n",
       "      <td>0.000000</td>\n",
       "    </tr>\n",
       "    <tr>\n",
       "      <th>25%</th>\n",
       "      <td>163.750000</td>\n",
       "      <td>NaN</td>\n",
       "      <td>NaN</td>\n",
       "      <td>NaN</td>\n",
       "      <td>NaN</td>\n",
       "      <td>NaN</td>\n",
       "      <td>NaN</td>\n",
       "      <td>NaN</td>\n",
       "      <td>NaN</td>\n",
       "      <td>NaN</td>\n",
       "      <td>0.000000</td>\n",
       "      <td>0.000000</td>\n",
       "      <td>0.000000</td>\n",
       "    </tr>\n",
       "    <tr>\n",
       "      <th>50%</th>\n",
       "      <td>240.000000</td>\n",
       "      <td>NaN</td>\n",
       "      <td>NaN</td>\n",
       "      <td>NaN</td>\n",
       "      <td>NaN</td>\n",
       "      <td>NaN</td>\n",
       "      <td>NaN</td>\n",
       "      <td>NaN</td>\n",
       "      <td>NaN</td>\n",
       "      <td>NaN</td>\n",
       "      <td>1.000000</td>\n",
       "      <td>0.000000</td>\n",
       "      <td>1.000000</td>\n",
       "    </tr>\n",
       "    <tr>\n",
       "      <th>75%</th>\n",
       "      <td>333.500000</td>\n",
       "      <td>NaN</td>\n",
       "      <td>NaN</td>\n",
       "      <td>NaN</td>\n",
       "      <td>NaN</td>\n",
       "      <td>NaN</td>\n",
       "      <td>NaN</td>\n",
       "      <td>NaN</td>\n",
       "      <td>NaN</td>\n",
       "      <td>NaN</td>\n",
       "      <td>1.000000</td>\n",
       "      <td>0.000000</td>\n",
       "      <td>1.000000</td>\n",
       "    </tr>\n",
       "    <tr>\n",
       "      <th>max</th>\n",
       "      <td>423.000000</td>\n",
       "      <td>42.600000</td>\n",
       "      <td>11011.000000</td>\n",
       "      <td>258.000000</td>\n",
       "      <td>89.180000</td>\n",
       "      <td>26.200000</td>\n",
       "      <td>590.710000</td>\n",
       "      <td>86.560000</td>\n",
       "      <td>565763.000000</td>\n",
       "      <td>57175.000000</td>\n",
       "      <td>1.000000</td>\n",
       "      <td>2.000000</td>\n",
       "      <td>1.000000</td>\n",
       "    </tr>\n",
       "  </tbody>\n",
       "</table>\n",
       "</div>"
      ],
      "text/plain": [
       "       sequence_pos         tm          kcat       ekcat         km  \\\n",
       "count    128.000000  61.000000     79.000000   78.000000  79.000000   \n",
       "mean     241.531250  39.075410    504.774684   11.727436  11.114304   \n",
       "std      122.181737   1.691021   1245.075000   30.928460  13.352085   \n",
       "min       12.000000  32.900000      0.000000    0.000000   0.050000   \n",
       "25%      163.750000        NaN           NaN         NaN        NaN   \n",
       "50%      240.000000        NaN           NaN         NaN        NaN   \n",
       "75%      333.500000        NaN           NaN         NaN        NaN   \n",
       "max      423.000000  42.600000  11011.000000  258.000000  89.180000   \n",
       "\n",
       "             ekm          ki        eki         kcatkm       ekcatkm  \\\n",
       "count  78.000000   10.000000  10.000000      80.000000     79.000000   \n",
       "mean    2.186538  205.988000  32.361000   61502.462500   5171.202532   \n",
       "std     3.906758  154.912171  21.558901   87561.103595   9225.136982   \n",
       "min     0.050000   94.950000  10.180000      10.000000      0.000000   \n",
       "25%          NaN         NaN        NaN            NaN           NaN   \n",
       "50%          NaN         NaN        NaN            NaN           NaN   \n",
       "75%          NaN         NaN        NaN            NaN           NaN   \n",
       "max    26.200000  590.710000  86.560000  565763.000000  57175.000000   \n",
       "\n",
       "       in_plos_paper  added_later  expression  \n",
       "count     128.000000   128.000000  128.000000  \n",
       "mean        0.710938     0.171875    0.664062  \n",
       "std         0.455108     0.454364    0.474173  \n",
       "min         0.000000     0.000000    0.000000  \n",
       "25%         0.000000     0.000000    0.000000  \n",
       "50%         1.000000     0.000000    1.000000  \n",
       "75%         1.000000     0.000000    1.000000  \n",
       "max         1.000000     2.000000    1.000000  "
      ]
     },
     "execution_count": 3,
     "metadata": {},
     "output_type": "execute_result"
    }
   ],
   "source": [
    "df.describe()"
   ]
  },
  {
   "cell_type": "code",
   "execution_count": 12,
   "metadata": {
    "collapsed": false
   },
   "outputs": [
    {
     "data": {
      "text/plain": [
       "<matplotlib.text.Text at 0x115fc3610>"
      ]
     },
     "execution_count": 12,
     "metadata": {},
     "output_type": "execute_result"
    },
    {
     "data": {
      "image/png": "[encoded data removed]",
      "text/plain": [
       "<matplotlib.figure.Figure at 0x115c919d0>"
      ]
     },
     "metadata": {},
     "output_type": "display_data"
    }
   ],
   "source": [
    "#statistical independence of Tm and kcat, KM, and kcat/KM \n",
    "\n",
    "import numpy as np \n",
    "\n",
    "plt.figure( figsize=( 12, 3 ) )\n",
    "\n",
    "plt.subplot( 1, 3, 1 ) \n",
    "plt.scatter( np.log10( df.kcat ), df.tm, c='k' ) \n",
    "plt.xlabel( 'log $k_{cat}$' )\n",
    "plt.ylabel( '$T_m$' )\n",
    "#plt.title( '$T_m$, PCC={:2.2f}'.format( my_r ) )\n",
    "\n",
    "plt.subplot( 1, 3, 2 ) \n",
    "plt.scatter( np.log10( df.km ), df.tm, color='k' ) \n",
    "plt.xlabel( 'log $K_M$' )\n",
    "#plt.title( 'log $K_M$' )\n",
    "\n",
    "plt.subplot( 1, 3, 3 ) \n",
    "plt.scatter( np.log10( df.kcatkm ), df.tm, c='k' ) \n",
    "plt.xlabel( 'log $k_{cat}/K_M$' )\n",
    "#plt.title( 'log $k_{cat}/K_M$' ) "
   ]
  },
  {
   "cell_type": "code",
   "execution_count": 31,
   "metadata": {
    "collapsed": false,
    "scrolled": false
   },
   "outputs": [
    {
     "name": "stdout",
     "output_type": "stream",
     "text": [
      "67 positions total\n",
      "QA19a,FA343a,MA323a,TA352a,PA329a,HA379a,SA32a,SA17a,TA15a,AA236a,SA14a,IA91a,WA120a,EA154a,MA261a,YA295a,LA362a,RA76a,KA341a,EA177a,WA325a,SA298a,YA166a,EA222a,WA409a,AA249a,HA178a,EA406a,GA12a,FA415a,HA119a,DA121a,LA171a,EA423a,IA300a,NA404a,RA240a,GA355a,MA221a,SA16a,AA192a,CA167a,NA163a,WA407a,TA296a,QA313a,HA315a,NA293a,DA403a,TA218a,SA331a,YA18a,EA164a,HA101a,NA354a,TA175a,FA72a,HA373a,YA294a,SA400a,NA220a,VA52a,MA358a,WA399a,IA244a,EA353a,WA34a\n"
     ]
    }
   ],
   "source": [
    "# all positions mutated \n",
    "\n",
    "# generate FoldX-style mutant names \n",
    "\n",
    "print len( df.sequence_pos.unique() ), 'positions total'\n",
    "my_pos = list( set( [ '{}A{}a'.format( x[0], x[1:-1] ) for x in df.index ] ) )\n",
    "print ','.join( my_pos ) "
   ]
  },
  {
   "cell_type": "code",
   "execution_count": null,
   "metadata": {
    "collapsed": true
   },
   "outputs": [],
   "source": []
  }
 ],
 "metadata": {
  "kernelspec": {
   "display_name": "Python 2",
   "language": "python",
   "name": "python2"
  },
  "language_info": {
   "codemirror_mode": {
    "name": "ipython",
    "version": 2
   },
   "file_extension": ".py",
   "mimetype": "text/x-python",
   "name": "python",
   "nbconvert_exporter": "python",
   "pygments_lexer": "ipython2",
   "version": "2.7.11"
  }
 },
 "nbformat": 4,
 "nbformat_minor": 0
}
