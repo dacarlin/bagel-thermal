{
 "cells": [
  {
   "cell_type": "markdown",
   "metadata": {},
   "source": [
    "# `correlations`\n",
    "\n",
    "Here, we investigate the correlations between experimentally-determined $T_m$ values, Michaelis-Menten constants, and conservation within Pfam GH01"
   ]
  },
  {
   "cell_type": "code",
   "execution_count": 47,
   "metadata": {
    "collapsed": false
   },
   "outputs": [],
   "source": [
    "%matplotlib inline\n",
    "import pandas \n",
    "import matplotlib.pyplot as plt\n",
    "import numpy as np \n",
    "from matplotlib import rc \n",
    "\n",
    "rc( 'font', family='Source Sans Pro' )\n",
    "plt.style.use( 'bmh' ) "
   ]
  },
  {
   "cell_type": "code",
   "execution_count": 48,
   "metadata": {
    "collapsed": false,
    "scrolled": true
   },
   "outputs": [
    {
     "data": {
      "text/html": [
       "<div>\n",
       "<table border=\"1\" class=\"dataframe\">\n",
       "  <thead>\n",
       "    <tr style=\"text-align: right;\">\n",
       "      <th></th>\n",
       "      <th>sequence_pos</th>\n",
       "      <th>expression</th>\n",
       "      <th>tm</th>\n",
       "      <th>k</th>\n",
       "      <th>err_tm</th>\n",
       "      <th>err_k</th>\n",
       "      <th>kcat</th>\n",
       "      <th>err_kcat</th>\n",
       "      <th>km</th>\n",
       "      <th>err_km</th>\n",
       "      <th>...</th>\n",
       "      <th>ki</th>\n",
       "      <th>ki_percent_err</th>\n",
       "      <th>ki_err</th>\n",
       "      <th>gel_number</th>\n",
       "      <th>target_expression</th>\n",
       "      <th>target_tm</th>\n",
       "      <th>target_kcat</th>\n",
       "      <th>target_km</th>\n",
       "      <th>target_kcatkm</th>\n",
       "      <th>conserved</th>\n",
       "    </tr>\n",
       "    <tr>\n",
       "      <th>mutant</th>\n",
       "      <th></th>\n",
       "      <th></th>\n",
       "      <th></th>\n",
       "      <th></th>\n",
       "      <th></th>\n",
       "      <th></th>\n",
       "      <th></th>\n",
       "      <th></th>\n",
       "      <th></th>\n",
       "      <th></th>\n",
       "      <th></th>\n",
       "      <th></th>\n",
       "      <th></th>\n",
       "      <th></th>\n",
       "      <th></th>\n",
       "      <th></th>\n",
       "      <th></th>\n",
       "      <th></th>\n",
       "      <th></th>\n",
       "      <th></th>\n",
       "      <th></th>\n",
       "    </tr>\n",
       "  </thead>\n",
       "  <tbody>\n",
       "    <tr>\n",
       "      <th>G12N</th>\n",
       "      <td>12.0</td>\n",
       "      <td>0</td>\n",
       "      <td>NaN</td>\n",
       "      <td>NaN</td>\n",
       "      <td>NaN</td>\n",
       "      <td>NaN</td>\n",
       "      <td>NaN</td>\n",
       "      <td>NaN</td>\n",
       "      <td>NaN</td>\n",
       "      <td>NaN</td>\n",
       "      <td>...</td>\n",
       "      <td>NaN</td>\n",
       "      <td>NaN</td>\n",
       "      <td>NaN</td>\n",
       "      <td>16.0</td>\n",
       "      <td>0</td>\n",
       "      <td>NaN</td>\n",
       "      <td>NaN</td>\n",
       "      <td>NaN</td>\n",
       "      <td>NaN</td>\n",
       "      <td>0.962179</td>\n",
       "    </tr>\n",
       "    <tr>\n",
       "      <th>S14A</th>\n",
       "      <td>14.0</td>\n",
       "      <td>1</td>\n",
       "      <td>40.16</td>\n",
       "      <td>-1.72</td>\n",
       "      <td>0.30</td>\n",
       "      <td>0.37</td>\n",
       "      <td>320.0</td>\n",
       "      <td>11.0</td>\n",
       "      <td>8.25</td>\n",
       "      <td>1.02</td>\n",
       "      <td>...</td>\n",
       "      <td>NaN</td>\n",
       "      <td>NaN</td>\n",
       "      <td>NaN</td>\n",
       "      <td>9.0</td>\n",
       "      <td>1</td>\n",
       "      <td>0.23</td>\n",
       "      <td>-0.439333</td>\n",
       "      <td>-0.217484</td>\n",
       "      <td>-0.651460</td>\n",
       "      <td>0.157390</td>\n",
       "    </tr>\n",
       "    <tr>\n",
       "      <th>T15A</th>\n",
       "      <td>15.0</td>\n",
       "      <td>1</td>\n",
       "      <td>39.17</td>\n",
       "      <td>-0.58</td>\n",
       "      <td>0.23</td>\n",
       "      <td>0.07</td>\n",
       "      <td>614.0</td>\n",
       "      <td>14.7</td>\n",
       "      <td>5.30</td>\n",
       "      <td>0.48</td>\n",
       "      <td>...</td>\n",
       "      <td>NaN</td>\n",
       "      <td>NaN</td>\n",
       "      <td>NaN</td>\n",
       "      <td>2.0</td>\n",
       "      <td>1</td>\n",
       "      <td>-0.76</td>\n",
       "      <td>-0.156314</td>\n",
       "      <td>-0.025306</td>\n",
       "      <td>-0.176657</td>\n",
       "      <td>0.615834</td>\n",
       "    </tr>\n",
       "    <tr>\n",
       "      <th>S16A</th>\n",
       "      <td>16.0</td>\n",
       "      <td>1</td>\n",
       "      <td>39.41</td>\n",
       "      <td>-0.83</td>\n",
       "      <td>0.27</td>\n",
       "      <td>0.16</td>\n",
       "      <td>154.0</td>\n",
       "      <td>1.0</td>\n",
       "      <td>14.01</td>\n",
       "      <td>0.40</td>\n",
       "      <td>...</td>\n",
       "      <td>NaN</td>\n",
       "      <td>NaN</td>\n",
       "      <td>NaN</td>\n",
       "      <td>5.0</td>\n",
       "      <td>1</td>\n",
       "      <td>-0.52</td>\n",
       "      <td>-0.756962</td>\n",
       "      <td>-0.447468</td>\n",
       "      <td>-1.199275</td>\n",
       "      <td>0.402336</td>\n",
       "    </tr>\n",
       "    <tr>\n",
       "      <th>S16N</th>\n",
       "      <td>16.0</td>\n",
       "      <td>0</td>\n",
       "      <td>NaN</td>\n",
       "      <td>NaN</td>\n",
       "      <td>NaN</td>\n",
       "      <td>NaN</td>\n",
       "      <td>NaN</td>\n",
       "      <td>NaN</td>\n",
       "      <td>NaN</td>\n",
       "      <td>NaN</td>\n",
       "      <td>...</td>\n",
       "      <td>NaN</td>\n",
       "      <td>NaN</td>\n",
       "      <td>NaN</td>\n",
       "      <td>8.0</td>\n",
       "      <td>0</td>\n",
       "      <td>NaN</td>\n",
       "      <td>NaN</td>\n",
       "      <td>NaN</td>\n",
       "      <td>NaN</td>\n",
       "      <td>0.402336</td>\n",
       "    </tr>\n",
       "  </tbody>\n",
       "</table>\n",
       "<p>5 rows × 22 columns</p>\n",
       "</div>"
      ],
      "text/plain": [
       "        sequence_pos  expression     tm     k  err_tm  err_k   kcat  err_kcat  \\\n",
       "mutant                                                                          \n",
       "G12N            12.0           0    NaN   NaN     NaN    NaN    NaN       NaN   \n",
       "S14A            14.0           1  40.16 -1.72    0.30   0.37  320.0      11.0   \n",
       "T15A            15.0           1  39.17 -0.58    0.23   0.07  614.0      14.7   \n",
       "S16A            16.0           1  39.41 -0.83    0.27   0.16  154.0       1.0   \n",
       "S16N            16.0           0    NaN   NaN     NaN    NaN    NaN       NaN   \n",
       "\n",
       "           km  err_km    ...      ki  ki_percent_err  ki_err  gel_number  \\\n",
       "mutant                   ...                                               \n",
       "G12N      NaN     NaN    ...     NaN             NaN     NaN        16.0   \n",
       "S14A     8.25    1.02    ...     NaN             NaN     NaN         9.0   \n",
       "T15A     5.30    0.48    ...     NaN             NaN     NaN         2.0   \n",
       "S16A    14.01    0.40    ...     NaN             NaN     NaN         5.0   \n",
       "S16N      NaN     NaN    ...     NaN             NaN     NaN         8.0   \n",
       "\n",
       "        target_expression  target_tm  target_kcat  target_km  target_kcatkm  \\\n",
       "mutant                                                                        \n",
       "G12N                    0        NaN          NaN        NaN            NaN   \n",
       "S14A                    1       0.23    -0.439333  -0.217484      -0.651460   \n",
       "T15A                    1      -0.76    -0.156314  -0.025306      -0.176657   \n",
       "S16A                    1      -0.52    -0.756962  -0.447468      -1.199275   \n",
       "S16N                    0        NaN          NaN        NaN            NaN   \n",
       "\n",
       "        conserved  \n",
       "mutant             \n",
       "G12N     0.962179  \n",
       "S14A     0.157390  \n",
       "T15A     0.615834  \n",
       "S16A     0.402336  \n",
       "S16N     0.402336  \n",
       "\n",
       "[5 rows x 22 columns]"
      ]
     },
     "execution_count": 48,
     "metadata": {},
     "output_type": "execute_result"
    }
   ],
   "source": [
    "df = pandas.read_csv( 'data_set/targets.csv', index_col=0 ) \n",
    "df.head()"
   ]
  },
  {
   "cell_type": "markdown",
   "metadata": {},
   "source": [
    "## Correlation between thermal stability and Michaelis-Menten parameters\n",
    "\n",
    "First, let's visualize the changes that occur for each mutation"
   ]
  },
  {
   "cell_type": "code",
   "execution_count": 49,
   "metadata": {
    "collapsed": false
   },
   "outputs": [
    {
     "data": {
      "text/plain": [
       "target_kcat     -0.206373\n",
       "target_km       -0.057911\n",
       "target_kcatkm   -0.204243\n",
       "Name: target_tm, dtype: float64"
      ]
     },
     "execution_count": 49,
     "metadata": {},
     "output_type": "execute_result"
    }
   ],
   "source": [
    "df.corr()[ 'target_tm' ][ [ 'target_kcat', 'target_km', 'target_kcatkm' ] ] "
   ]
  },
  {
   "cell_type": "code",
   "execution_count": 50,
   "metadata": {
    "collapsed": false,
    "scrolled": false
   },
   "outputs": [
    {
     "name": "stderr",
     "output_type": "stream",
     "text": [
      "/Users/alex/Applications/anaconda3/lib/python3.6/site-packages/matplotlib/font_manager.py:1297: UserWarning: findfont: Font family ['Source Sans Pro'] not found. Falling back to DejaVu Sans\n",
      "  (prop.get_family(), self.defaultFamily[fontext]))\n"
     ]
    },
    {
     "data": {
      "image/png": "[encoded data removed]",
      "text/plain": [
       "<matplotlib.figure.Figure at 0x126272c18>"
      ]
     },
     "metadata": {},
     "output_type": "display_data"
    }
   ],
   "source": [
    "fig, ax = plt.subplots( nrows=1, ncols=3, figsize=(9,3.6), sharey=True )\n",
    "\n",
    "ax[0].scatter( df.target_kcat, df.target_tm, color='teal' )\n",
    "ax[0].set_xlabel( r'$\\Delta \\; \\mathrm{log} \\; k_{\\mathrm{cat}}$' ) \n",
    "ax[0].set_ylabel( r'$\\Delta \\; T_m$' ) \n",
    "ax[0].set_title( 'Pearson correlation -0.27', fontsize='medium' )\n",
    "\n",
    "ax[1].scatter( df.target_km, df.target_tm, color='orange' )\n",
    "ax[1].set_xlabel( r'$\\Delta \\; \\mathrm{log} \\; 1/K_M$' )\n",
    "ax[1].set_title( 'Pearson correlation -0.07' , fontsize='medium' )\n",
    "\n",
    "ax[2].scatter( df.target_kcatkm, df.target_tm, color='purple' )\n",
    "ax[2].set_xlabel( r'$\\Delta \\; \\mathrm{log} \\; k_\\mathrm{{cat}}/K_M$' )\n",
    "ax[2].set_title( 'Pearson correlation -0.24', fontsize='medium' )\n",
    "\n",
    "fig.tight_layout()\n",
    "fig.savefig( 'paper_draft/fig/fig_4_tm_versus_kinetic_constants.png', dpi=600 ) "
   ]
  },
  {
   "cell_type": "markdown",
   "metadata": {},
   "source": [
    "## Correlations between experimental data and conservation \n",
    "\n",
    "Is the percent conservation of each residue correlated to the change in thermal stability or functional parameters? "
   ]
  },
  {
   "cell_type": "code",
   "execution_count": 51,
   "metadata": {
    "collapsed": false
   },
   "outputs": [
    {
     "data": {
      "text/plain": [
       "target_kcat     -0.706684\n",
       "target_km       -0.162052\n",
       "target_kcatkm   -0.694276\n",
       "target_tm        0.302978\n",
       "Name: conserved, dtype: float64"
      ]
     },
     "execution_count": 51,
     "metadata": {},
     "output_type": "execute_result"
    }
   ],
   "source": [
    "df.corr()[ 'conserved' ][ [ 'target_kcat', 'target_km', 'target_kcatkm', 'target_tm' ] ] "
   ]
  },
  {
   "cell_type": "code",
   "execution_count": 52,
   "metadata": {
    "collapsed": false,
    "scrolled": false
   },
   "outputs": [
    {
     "name": "stderr",
     "output_type": "stream",
     "text": [
      "/Users/alex/Applications/anaconda3/lib/python3.6/site-packages/matplotlib/font_manager.py:1297: UserWarning: findfont: Font family ['Source Sans Pro'] not found. Falling back to DejaVu Sans\n",
      "  (prop.get_family(), self.defaultFamily[fontext]))\n"
     ]
    },
    {
     "data": {
      "image/png": "[encoded data removed]",
      "text/plain": [
       "<matplotlib.figure.Figure at 0x125f5c438>"
      ]
     },
     "metadata": {},
     "output_type": "display_data"
    }
   ],
   "source": [
    "fig, ax = plt.subplots( nrows=1, ncols=4, figsize=(12,3.6), sharey=True )\n",
    "\n",
    "ax[0].scatter( df.target_kcat, df.conserved, color='teal' )\n",
    "ax[0].set_xlabel( r'$\\Delta \\; \\mathrm{log} \\; k_{\\mathrm{cat}}$' ) \n",
    "ax[0].set_ylabel( 'Conserved in PFAM GH01', fontsize='large' )\n",
    "ax[0].set_yticks( [ 0, .25, .50, .75, 1 ] )\n",
    "ax[0].set_yticklabels( [ '0', '25', '50', '75', '100%' ] )\n",
    "ax[0].set_title( 'Pearson correlation -0.70', fontsize='medium' )\n",
    "\n",
    "ax[1].scatter( df.target_km, df.conserved, color='orange' )\n",
    "ax[1].set_xlabel( r'$\\Delta \\; \\mathrm{log} \\; 1/K_M$' ) \n",
    "ax[1].set_title( 'Pearson correlation -0.16' , fontsize='medium' )\n",
    "\n",
    "ax[2].scatter( df.target_kcatkm, df.conserved, color='purple' )\n",
    "ax[2].set_xlabel( r'$\\Delta \\; \\mathrm{log} \\; k_\\mathrm{{cat}}/K_M$' )\n",
    "ax[2].set_title( 'Pearson correlation = -0.69', fontsize='medium' )\n",
    "\n",
    "ax[3].scatter( df.target_tm, df.conserved, color='navy' )\n",
    "ax[3].set_xlabel( r'$\\Delta \\; T_m$' )\n",
    "ax[3].set_title( 'Pearson correlation 0.30', fontsize='medium' )\n",
    "\n",
    "fig.tight_layout()\n",
    "fig.savefig( 'paper_draft/fig/fig_5_percent_conserved_versus_all.png', dpi=600 ) "
   ]
  },
  {
   "cell_type": "markdown",
   "metadata": {
    "collapsed": true
   },
   "source": [
    "# `tradeoffs`\n",
    "\n",
    "Mutants that reveal tradeoffs"
   ]
  },
  {
   "cell_type": "code",
   "execution_count": 53,
   "metadata": {
    "collapsed": false
   },
   "outputs": [
    {
     "name": "stdout",
     "output_type": "stream",
     "text": [
      "[[4, 24], [14, 22], [6, 25]]\n"
     ]
    }
   ],
   "source": [
    "# mutations that reveal tradeoffs\n",
    "cc = [ 'kcat', 'km', 'kcatkm' ] \n",
    "collect = []\n",
    "for c in cc:\n",
    "    collect.append( [\n",
    "            len( df[ ( df.target_tm < 0 ) & ( df['target_{}'.format(c)] > 0 ) ] ), \n",
    "            len( df[ ( df.target_tm > 0 ) & ( df['target_{}'.format(c)] < 0 ) ] ), \n",
    "        ] )\n",
    "    \n",
    "print( collect ) "
   ]
  }
 ],
 "metadata": {
  "anaconda-cloud": {},
  "kernelspec": {
   "display_name": "Python 3",
   "language": "python",
   "name": "python3"
  },
  "language_info": {
   "codemirror_mode": {
    "name": "ipython",
    "version": 3
   },
   "file_extension": ".py",
   "mimetype": "text/x-python",
   "name": "python",
   "nbconvert_exporter": "python",
   "pygments_lexer": "ipython3",
   "version": "3.6.0"
  }
 },
 "nbformat": 4,
 "nbformat_minor": 1
}
