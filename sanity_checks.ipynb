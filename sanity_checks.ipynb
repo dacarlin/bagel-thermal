{
 "cells": [
  {
   "cell_type": "markdown",
   "metadata": {},
   "source": [
    "# `sanity_checks`\n",
    "\n",
    "Data consistency checks for BglB data set"
   ]
  },
  {
   "cell_type": "code",
   "execution_count": 1,
   "metadata": {
    "collapsed": false
   },
   "outputs": [],
   "source": [
    "from skbio import Protein \n",
    "import pandas\n",
    "import numpy as np "
   ]
  },
  {
   "cell_type": "markdown",
   "metadata": {},
   "source": [
    "Collect data sets"
   ]
  },
  {
   "cell_type": "code",
   "execution_count": 2,
   "metadata": {
    "collapsed": true
   },
   "outputs": [],
   "source": [
    "df = pandas.read_csv( 'data_sets/data_set.csv', index_col=0 )\n",
    "plos = pandas.read_csv( '/Users/alex/Documents/bagel-benchmark/data_sets/experimental/plos_2016.csv', index_col=0 )"
   ]
  },
  {
   "cell_type": "markdown",
   "metadata": {},
   "source": [
    "### Basic sanity checks \n",
    "\n",
    "First, we check that the named residue is in fact the native BglB residue. "
   ]
  },
  {
   "cell_type": "code",
   "execution_count": 3,
   "metadata": {
    "collapsed": false
   },
   "outputs": [],
   "source": [
    "#collector\n",
    "#func_list = []\n",
    "#def sanity_check( func ):\n",
    "#    func_list.append( func )\n",
    "    \n",
    "#sanity check functions \n",
    "#@sanity_check \n",
    "def check_name( dat ):\n",
    "    '''\n",
    "    As in all these functions, \n",
    "    \n",
    "    Input: \n",
    "        `dat`\n",
    "        pandas Series with kcat, km, etc. params \n",
    "        \n",
    "    Returns:\n",
    "        True \n",
    "        if name checks out \n",
    "        \n",
    "        False\n",
    "        if the given native amino acid doesn't match the \n",
    "        amino acid in the native BglB sequence \n",
    "    '''\n",
    "    \n",
    "    pos = int( dat.name[1:-1] )\n",
    "    \n",
    "    protein = Protein.read( './data_sets/reference/bglb.pep' )\n",
    "    nat = str( protein[pos-1] )\n",
    "    \n",
    "    if nat == dat.name[0]:\n",
    "        return True \n",
    "    else:\n",
    "        return False \n",
    "    \n",
    "def true_check( dat ):\n",
    "    return True\n",
    "\n",
    "def false_check( dat ):\n",
    "    return False"
   ]
  },
  {
   "cell_type": "code",
   "execution_count": 4,
   "metadata": {
    "collapsed": true
   },
   "outputs": [],
   "source": [
    "def translate_boolean_to_emoji( boo ):\n",
    "    if boo == True:\n",
    "        return '✔️' #✅\n",
    "    elif boo == False:\n",
    "        return '❌'"
   ]
  },
  {
   "cell_type": "code",
   "execution_count": 5,
   "metadata": {
    "collapsed": true
   },
   "outputs": [],
   "source": [
    "func_list = [\n",
    "    true_check, \n",
    "    false_check, \n",
    "    check_name,\n",
    "]"
   ]
  },
  {
   "cell_type": "code",
   "execution_count": 6,
   "metadata": {
    "collapsed": false,
    "scrolled": false
   },
   "outputs": [],
   "source": [
    "def run_tests():\n",
    "    print('Mutant\\t' + '\\t'.join( [ i.__name__ for i in func_list ] ))\n",
    "    for mutant_name, dat in df.iterrows():\n",
    "        if mutant_name != 'BglB':\n",
    "            print( mutant_name, end='\\t' ) \n",
    "            for f in func_list:\n",
    "                print( translate_boolean_to_emoji(f(dat)), end='\\t' )\n",
    "            print()"
   ]
  },
  {
   "cell_type": "markdown",
   "metadata": {},
   "source": [
    "### Results of sanity checks\n",
    "\n",
    "### Discussion \n",
    "\n",
    "Wilson's idea, automate justin's thought process/questions as algorithm"
   ]
  },
  {
   "cell_type": "code",
   "execution_count": 7,
   "metadata": {
    "collapsed": false,
    "scrolled": false
   },
   "outputs": [
    {
     "name": "stdout",
     "output_type": "stream",
     "text": [
      "Mutant\ttrue_check\tfalse_check\tcheck_name\n",
      "G12N\t✔️\t❌\t✔️\t\n",
      "S14A\t✔️\t❌\t✔️\t\n",
      "T15A\t✔️\t❌\t✔️\t\n",
      "S16N\t✔️\t❌\t✔️\t\n",
      "S16A\t✔️\t❌\t✔️\t\n",
      "S17A\t✔️\t❌\t✔️\t\n",
      "S17E\t✔️\t❌\t✔️\t\n",
      "Y18A\t✔️\t❌\t✔️\t\n",
      "Q19P\t✔️\t❌\t✔️\t\n",
      "Q19C\t✔️\t❌\t✔️\t\n",
      "Q19A\t✔️\t❌\t✔️\t\n",
      "Q19S\t✔️\t❌\t✔️\t\n",
      "S32L\t✔️\t❌\t✔️\t\n",
      "W34A\t✔️\t❌\t✔️\t\n",
      "V52G\t✔️\t❌\t✔️\t\n",
      "F72A\t✔️\t❌\t✔️\t\n",
      "R76A\t✔️\t❌\t✔️\t\n",
      "I91E\t✔️\t❌\t✔️\t\n",
      "H101R\t✔️\t❌\t✔️\t\n",
      "H119E\t✔️\t❌\t✔️\t\n",
      "H119N\t✔️\t❌\t✔️\t\n",
      "H119A\t✔️\t❌\t✔️\t\n",
      "W120A\t✔️\t❌\t✔️\t\n",
      "W120H\t✔️\t❌\t✔️\t\n",
      "W120F\t✔️\t❌\t✔️\t\n",
      "D121F\t✔️\t❌\t✔️\t\n",
      "E154D\t✔️\t❌\t✔️\t\n",
      "N163K\t✔️\t❌\t✔️\t\n",
      "N163E\t✔️\t❌\t✔️\t\n",
      "N163A\t✔️\t❌\t✔️\t\n",
      "N163D\t✔️\t❌\t✔️\t\n",
      "N163C\t✔️\t❌\t✔️\t\n",
      "E164G\t✔️\t❌\t✔️\t\n",
      "E164R\t✔️\t❌\t✔️\t\n",
      "E164A\t✔️\t❌\t✔️\t\n",
      "Y166P\t✔️\t❌\t✔️\t\n",
      "C167A\t✔️\t❌\t✔️\t\n",
      "C167Q\t✔️\t❌\t✔️\t\n",
      "L171A\t✔️\t❌\t✔️\t\n",
      "L171R\t✔️\t❌\t✔️\t\n",
      "T175R\t✔️\t❌\t✔️\t\n",
      "E177L\t✔️\t❌\t✔️\t\n",
      "E177K\t✔️\t❌\t✔️\t\n",
      "E177A\t✔️\t❌\t✔️\t\n",
      "H178R\t✔️\t❌\t✔️\t\n",
      "H178A\t✔️\t❌\t✔️\t\n",
      "A192S\t✔️\t❌\t✔️\t\n",
      "T218A\t✔️\t❌\t✔️\t\n",
      "N220R\t✔️\t❌\t✔️\t\n",
      "N220G\t✔️\t❌\t✔️\t\n",
      "N220H\t✔️\t❌\t✔️\t\n",
      "N220A\t✔️\t❌\t✔️\t\n",
      "N220Y\t✔️\t❌\t✔️\t\n",
      "M221A\t✔️\t❌\t✔️\t\n",
      "E222Y\t✔️\t❌\t✔️\t\n",
      "E222K\t✔️\t❌\t✔️\t\n",
      "E222R\t✔️\t❌\t✔️\t\n",
      "E222H\t✔️\t❌\t✔️\t\n",
      "E222Q\t✔️\t❌\t✔️\t\n",
      "E222A\t✔️\t❌\t✔️\t\n",
      "A236E\t✔️\t❌\t✔️\t\n",
      "R240E\t✔️\t❌\t✔️\t\n",
      "R240D\t✔️\t❌\t✔️\t\n",
      "R240K\t✔️\t❌\t✔️\t\n",
      "R240A\t✔️\t❌\t✔️\t\n",
      "I244E\t✔️\t❌\t✔️\t\n",
      "I244N\t✔️\t❌\t✔️\t\n",
      "A249E\t✔️\t❌\t✔️\t\n",
      "M261D\t✔️\t❌\t✔️\t\n",
      "N293K\t✔️\t❌\t✔️\t\n",
      "N293D\t✔️\t❌\t✔️\t\n",
      "N293Q\t✔️\t❌\t✔️\t\n",
      "N293C\t✔️\t❌\t✔️\t\n",
      "N293A\t✔️\t❌\t✔️\t\n",
      "Y294L\t✔️\t❌\t✔️\t\n",
      "Y294A\t✔️\t❌\t✔️\t\n",
      "Y294F\t✔️\t❌\t✔️\t\n",
      "Y295G\t✔️\t❌\t✔️\t\n",
      "Y295A\t✔️\t❌\t✔️\t\n",
      "T296A\t✔️\t❌\t✔️\t\n",
      "T296E\t✔️\t❌\t✔️\t\n",
      "S298E\t✔️\t❌\t✔️\t\n",
      "I300N\t✔️\t❌\t✔️\t\n",
      "Q313R\t✔️\t❌\t✔️\t\n",
      "H315N\t✔️\t❌\t✔️\t\n",
      "H315E\t✔️\t❌\t✔️\t\n",
      "M323K\t✔️\t❌\t✔️\t\n",
      "M323A\t✔️\t❌\t✔️\t\n",
      "W325G\t✔️\t❌\t✔️\t\n",
      "W325R\t✔️\t❌\t✔️\t\n",
      "W325C\t✔️\t❌\t✔️\t\n",
      "W325H\t✔️\t❌\t✔️\t\n",
      "W325A\t✔️\t❌\t✔️\t\n",
      "W325L\t✔️\t❌\t✔️\t\n",
      "P329N\t✔️\t❌\t✔️\t\n",
      "S331A\t✔️\t❌\t✔️\t\n",
      "K341A\t✔️\t❌\t✔️\t\n",
      "F343S\t✔️\t❌\t✔️\t\n",
      "T352A\t✔️\t❌\t✔️\t\n",
      "E353A\t✔️\t❌\t✔️\t\n",
      "N354A\t✔️\t❌\t✔️\t\n",
      "G355A\t✔️\t❌\t✔️\t\n",
      "M358T\t✔️\t❌\t✔️\t\n",
      "L362M\t✔️\t❌\t✔️\t\n",
      "H373R\t✔️\t❌\t✔️\t\n",
      "H379T\t✔️\t❌\t✔️\t\n",
      "H379R\t✔️\t❌\t✔️\t\n",
      "W399G\t✔️\t❌\t✔️\t\n",
      "W399S\t✔️\t❌\t✔️\t\n",
      "W399R\t✔️\t❌\t✔️\t\n",
      "W399A\t✔️\t❌\t✔️\t\n",
      "W399C\t✔️\t❌\t✔️\t\n",
      "S400A\t✔️\t❌\t✔️\t\n",
      "D403A\t✔️\t❌\t✔️\t\n",
      "N404A\t✔️\t❌\t✔️\t\n",
      "N404C\t✔️\t❌\t✔️\t\n",
      "E406A\t✔️\t❌\t✔️\t\n",
      "E406D\t✔️\t❌\t✔️\t\n",
      "W407Y\t✔️\t❌\t✔️\t\n",
      "W407Q\t✔️\t❌\t✔️\t\n",
      "W407R\t✔️\t❌\t✔️\t\n",
      "W407K\t✔️\t❌\t✔️\t\n",
      "W407G\t✔️\t❌\t✔️\t\n",
      "W407A\t✔️\t❌\t✔️\t\n",
      "W409Y\t✔️\t❌\t✔️\t\n",
      "F415N\t✔️\t❌\t✔️\t\n",
      "F415A\t✔️\t❌\t✔️\t\n",
      "E423S\t✔️\t❌\t✔️\t\n"
     ]
    }
   ],
   "source": [
    "run_tests()"
   ]
  },
  {
   "cell_type": "code",
   "execution_count": null,
   "metadata": {
    "collapsed": true
   },
   "outputs": [],
   "source": []
  }
 ],
 "metadata": {
  "anaconda-cloud": {},
  "kernelspec": {
   "display_name": "Python [conda root]",
   "language": "python",
   "name": "conda-root-py"
  },
  "language_info": {
   "codemirror_mode": {
    "name": "ipython",
    "version": 3
   },
   "file_extension": ".py",
   "mimetype": "text/x-python",
   "name": "python",
   "nbconvert_exporter": "python",
   "pygments_lexer": "ipython3",
   "version": "3.5.2"
  }
 },
 "nbformat": 4,
 "nbformat_minor": 1
}
