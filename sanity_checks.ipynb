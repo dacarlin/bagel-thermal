{
 "cells": [
  {
   "cell_type": "markdown",
   "metadata": {},
   "source": [
    "# `sanity_checks`\n",
    "\n",
    "Data consistency checks for BglB data set"
   ]
  },
  {
   "cell_type": "code",
   "execution_count": 1,
   "metadata": {
    "collapsed": false
   },
   "outputs": [],
   "source": [
    "from skbio import Protein \n",
    "import pandas\n",
    "import numpy as np "
   ]
  },
  {
   "cell_type": "markdown",
   "metadata": {},
   "source": [
    "Collect data sets"
   ]
  },
  {
   "cell_type": "code",
   "execution_count": 3,
   "metadata": {
    "collapsed": false
   },
   "outputs": [],
   "source": [
    "df = pandas.read_csv( 'data_set/targets.csv', index_col=0 )\n",
    "plos = pandas.read_csv( '/Users/alex/Documents/bagel-benchmark/data_sets/experimental/plos_2016.csv', index_col=0 )"
   ]
  },
  {
   "cell_type": "code",
   "execution_count": 5,
   "metadata": {
    "collapsed": false
   },
   "outputs": [],
   "source": [
    "kinetics = pandas.read_csv( 'data_set/assay_data/pub/kinetics.csv' )\n",
    "thermal = pandas.read_csv( 'data_set/assay_data/pub/thermal.csv' )"
   ]
  },
  {
   "cell_type": "code",
   "execution_count": 6,
   "metadata": {
    "collapsed": false
   },
   "outputs": [
    {
     "data": {
      "text/html": [
       "<div>\n",
       "<table border=\"1\" class=\"dataframe\">\n",
       "  <thead>\n",
       "    <tr style=\"text-align: right;\">\n",
       "      <th></th>\n",
       "      <th>Unnamed: 0</th>\n",
       "      <th>well</th>\n",
       "      <th>rate</th>\n",
       "      <th>mutant</th>\n",
       "      <th>temp</th>\n",
       "    </tr>\n",
       "  </thead>\n",
       "  <tbody>\n",
       "    <tr>\n",
       "      <th>0</th>\n",
       "      <td>0</td>\n",
       "      <td>A4</td>\n",
       "      <td>0.00013</td>\n",
       "      <td>A192S</td>\n",
       "      <td>50.00</td>\n",
       "    </tr>\n",
       "    <tr>\n",
       "      <th>1</th>\n",
       "      <td>1</td>\n",
       "      <td>B4</td>\n",
       "      <td>0.00008</td>\n",
       "      <td>A192S</td>\n",
       "      <td>47.15</td>\n",
       "    </tr>\n",
       "    <tr>\n",
       "      <th>2</th>\n",
       "      <td>2</td>\n",
       "      <td>C4</td>\n",
       "      <td>0.00021</td>\n",
       "      <td>A192S</td>\n",
       "      <td>44.30</td>\n",
       "    </tr>\n",
       "    <tr>\n",
       "      <th>3</th>\n",
       "      <td>3</td>\n",
       "      <td>D4</td>\n",
       "      <td>0.00407</td>\n",
       "      <td>A192S</td>\n",
       "      <td>41.45</td>\n",
       "    </tr>\n",
       "    <tr>\n",
       "      <th>4</th>\n",
       "      <td>4</td>\n",
       "      <td>E4</td>\n",
       "      <td>0.11400</td>\n",
       "      <td>A192S</td>\n",
       "      <td>38.60</td>\n",
       "    </tr>\n",
       "  </tbody>\n",
       "</table>\n",
       "</div>"
      ],
      "text/plain": [
       "   Unnamed: 0 well     rate mutant   temp\n",
       "0           0   A4  0.00013  A192S  50.00\n",
       "1           1   B4  0.00008  A192S  47.15\n",
       "2           2   C4  0.00021  A192S  44.30\n",
       "3           3   D4  0.00407  A192S  41.45\n",
       "4           4   E4  0.11400  A192S  38.60"
      ]
     },
     "execution_count": 6,
     "metadata": {},
     "output_type": "execute_result"
    }
   ],
   "source": [
    "kinetics.head()\n",
    "thermal.head()"
   ]
  },
  {
   "cell_type": "markdown",
   "metadata": {},
   "source": [
    "### Basic sanity checks \n",
    "\n",
    "First, we check that the named residue is in fact the native BglB residue. "
   ]
  },
  {
   "cell_type": "code",
   "execution_count": 13,
   "metadata": {
    "collapsed": false
   },
   "outputs": [],
   "source": [
    "#collector\n",
    "#func_list = []\n",
    "#def sanity_check( func ):\n",
    "#    func_list.append( func )\n",
    "    \n",
    "#sanity check functions \n",
    "#@sanity_check \n",
    "def check_name( dat ):\n",
    "    '''\n",
    "    As in all these functions, \n",
    "    \n",
    "    Input: \n",
    "        `dat`\n",
    "        pandas Series with kcat, km, etc. params \n",
    "        \n",
    "    Returns:\n",
    "        True \n",
    "        if name checks out \n",
    "        \n",
    "        False\n",
    "        if the given native amino acid doesn't match the \n",
    "        amino acid in the native BglB sequence \n",
    "    '''\n",
    "    \n",
    "    pos = int( dat.name[1:-1] )\n",
    "    protein = Protein.read( 'data_set/reference/bglb.pep' )\n",
    "    nat = str( protein[pos-1] )\n",
    "    \n",
    "    if nat == dat.name[0]:\n",
    "        return True \n",
    "    else:\n",
    "        return False "
   ]
  },
  {
   "cell_type": "code",
   "execution_count": 14,
   "metadata": {
    "collapsed": false
   },
   "outputs": [
    {
     "data": {
      "text/plain": [
       "True"
      ]
     },
     "execution_count": 14,
     "metadata": {},
     "output_type": "execute_result"
    }
   ],
   "source": [
    "'W409Y' in kinetics.mutant.values"
   ]
  },
  {
   "cell_type": "code",
   "execution_count": 15,
   "metadata": {
    "collapsed": false
   },
   "outputs": [],
   "source": [
    "def has_kinetic_data( dat ):\n",
    "    if dat.name in kinetics.mutant.values:\n",
    "        return True\n",
    "    else:\n",
    "        return False \n",
    "    \n",
    "def has_thermal_data( dat ):\n",
    "    if dat.name in thermal.mutant.values:\n",
    "        return True\n",
    "    else:\n",
    "        return False \n",
    "    \n",
    "def thermal_fit_matches_data( dat ):\n",
    "    \n",
    "    if dat.name in thermal.mutant.values:\n",
    "        return True\n",
    "    else:\n",
    "        return False "
   ]
  },
  {
   "cell_type": "code",
   "execution_count": 16,
   "metadata": {
    "collapsed": true
   },
   "outputs": [],
   "source": [
    "func_list = [\n",
    "    #true_check, \n",
    "    #false_check, \n",
    "    check_name,\n",
    "    has_kinetic_data,\n",
    "    has_thermal_data, \n",
    "]"
   ]
  },
  {
   "cell_type": "code",
   "execution_count": 17,
   "metadata": {
    "collapsed": false,
    "scrolled": false
   },
   "outputs": [],
   "source": [
    "def run_tests():\n",
    "    print('Mutant\\t' + '\\t'.join( [ i.__name__ for i in func_list ] ))\n",
    "    for mutant_name, dat in df.iterrows():\n",
    "        if mutant_name != 'BglB':\n",
    "            print( mutant_name, end='\\t' ) \n",
    "            for f in func_list:\n",
    "                print( f(dat), end='\\t' )\n",
    "            print()"
   ]
  },
  {
   "cell_type": "markdown",
   "metadata": {},
   "source": [
    "### Results of sanity checks\n",
    "\n",
    "### Discussion \n",
    "\n",
    "Wilson's idea, automate justin's thought process/questions as algorithm"
   ]
  },
  {
   "cell_type": "code",
   "execution_count": 18,
   "metadata": {
    "collapsed": false,
    "scrolled": false
   },
   "outputs": [
    {
     "name": "stdout",
     "output_type": "stream",
     "text": [
      "Mutant\tcheck_name\thas_kinetic_data\thas_thermal_data\n",
      "G12N\tTrue\tFalse\tFalse\t\n",
      "S14A\tTrue\tFalse\tTrue\t\n",
      "T15A\tTrue\tTrue\tTrue\t\n",
      "S16A\tTrue\tFalse\tTrue\t\n",
      "S16N\tTrue\tFalse\tFalse\t\n",
      "S17A\tTrue\tFalse\tTrue\t\n",
      "S17E\tTrue\tFalse\tTrue\t\n",
      "Y18A\tTrue\tFalse\tTrue\t\n",
      "Q19S\tTrue\tFalse\tTrue\t\n",
      "Q19A\tTrue\tFalse\tFalse\t\n",
      "Q19C\tTrue\tFalse\tFalse\t\n",
      "Q19P\tTrue\tFalse\tFalse\t\n",
      "S32L\tTrue\tFalse\tFalse\t\n",
      "W34A\tTrue\tFalse\tFalse\t\n",
      "V52G\tTrue\tFalse\tTrue\t\n",
      "F72A\tTrue\tFalse\tTrue\t\n",
      "R76A\tTrue\tFalse\tFalse\t\n",
      "I91E\tTrue\tFalse\tTrue\t\n",
      "H101R\tTrue\tFalse\tTrue\t\n",
      "H119N\tTrue\tFalse\tTrue\t\n",
      "H119A\tTrue\tFalse\tTrue\t\n",
      "H119E\tTrue\tFalse\tFalse\t\n",
      "W120H\tTrue\tFalse\tTrue\t\n",
      "W120F\tTrue\tFalse\tTrue\t\n",
      "W120A\tTrue\tFalse\tFalse\t\n",
      "D121F\tTrue\tFalse\tFalse\t\n",
      "E154D\tTrue\tFalse\tTrue\t\n",
      "N163A\tTrue\tFalse\tTrue\t\n",
      "N163D\tTrue\tFalse\tTrue\t\n",
      "N163C\tTrue\tFalse\tTrue\t\n",
      "N163E\tTrue\tFalse\tFalse\t\n",
      "N163K\tTrue\tFalse\tFalse\t\n",
      "E164A\tTrue\tFalse\tTrue\t\n",
      "E164G\tTrue\tFalse\tFalse\t\n",
      "E164R\tTrue\tFalse\tFalse\t\n",
      "Y166P\tTrue\tFalse\tFalse\t\n",
      "C167A\tTrue\tFalse\tTrue\t\n",
      "C167Q\tTrue\tFalse\tTrue\t\n",
      "L171A\tTrue\tFalse\tTrue\t\n",
      "L171R\tTrue\tFalse\tTrue\t\n",
      "T175R\tTrue\tFalse\tTrue\t\n",
      "E177L\tTrue\tFalse\tTrue\t\n",
      "E177K\tTrue\tFalse\tTrue\t\n",
      "E177A\tTrue\tFalse\tTrue\t\n",
      "H178A\tTrue\tFalse\tTrue\t\n",
      "H178R\tTrue\tFalse\tFalse\t\n",
      "A192S\tTrue\tFalse\tTrue\t\n",
      "T218A\tTrue\tFalse\tTrue\t\n",
      "N220R\tTrue\tTrue\tTrue\t\n",
      "N220G\tTrue\tTrue\tTrue\t\n",
      "N220H\tTrue\tFalse\tTrue\t\n",
      "N220A\tTrue\tFalse\tTrue\t\n",
      "N220Y\tTrue\tTrue\tTrue\t\n",
      "M221A\tTrue\tFalse\tTrue\t\n",
      "E222Y\tTrue\tFalse\tTrue\t\n",
      "E222K\tTrue\tFalse\tTrue\t\n",
      "E222R\tTrue\tFalse\tTrue\t\n",
      "E222H\tTrue\tFalse\tTrue\t\n",
      "E222Q\tTrue\tFalse\tTrue\t\n",
      "E222A\tTrue\tFalse\tTrue\t\n",
      "A236E\tTrue\tFalse\tFalse\t\n",
      "R240D\tTrue\tFalse\tTrue\t\n",
      "R240K\tTrue\tFalse\tTrue\t\n",
      "R240A\tTrue\tFalse\tTrue\t\n",
      "R240E\tTrue\tFalse\tFalse\t\n",
      "I244E\tTrue\tFalse\tTrue\t\n",
      "I244N\tTrue\tFalse\tTrue\t\n",
      "A249E\tTrue\tFalse\tFalse\t\n",
      "M261D\tTrue\tFalse\tFalse\t\n",
      "N293C\tTrue\tTrue\tTrue\t\n",
      "N293A\tTrue\tFalse\tTrue\t\n",
      "N293Q\tTrue\tFalse\tFalse\t\n",
      "N293D\tTrue\tFalse\tFalse\t\n",
      "N293K\tTrue\tFalse\tFalse\t\n",
      "Y294A\tTrue\tFalse\tTrue\t\n",
      "Y294F\tTrue\tFalse\tTrue\t\n",
      "Y294L\tTrue\tFalse\tFalse\t\n",
      "Y295A\tTrue\tFalse\tFalse\t\n",
      "Y295G\tTrue\tFalse\tFalse\t\n",
      "T296A\tTrue\tFalse\tFalse\t\n",
      "T296E\tTrue\tFalse\tFalse\t\n",
      "S298E\tTrue\tFalse\tTrue\t\n",
      "I300N\tTrue\tFalse\tTrue\t\n",
      "Q313R\tTrue\tFalse\tTrue\t\n",
      "H315E\tTrue\tFalse\tFalse\t\n",
      "H315N\tTrue\tFalse\tFalse\t\n",
      "M323A\tTrue\tFalse\tTrue\t\n",
      "M323K\tTrue\tFalse\tFalse\t\n",
      "W325R\tTrue\tFalse\tTrue\t\n",
      "W325C\tTrue\tFalse\tTrue\t\n",
      "W325H\tTrue\tFalse\tTrue\t\n",
      "W325A\tTrue\tFalse\tTrue\t\n",
      "W325L\tTrue\tFalse\tTrue\t\n",
      "W325G\tTrue\tFalse\tFalse\t\n",
      "P329N\tTrue\tFalse\tFalse\t\n",
      "S331A\tTrue\tFalse\tTrue\t\n",
      "K341A\tTrue\tFalse\tTrue\t\n",
      "F343S\tTrue\tFalse\tFalse\t\n",
      "T352A\tTrue\tFalse\tTrue\t\n",
      "E353A\tTrue\tFalse\tFalse\t\n",
      "N354A\tTrue\tFalse\tTrue\t\n",
      "G355A\tTrue\tFalse\tFalse\t\n",
      "M358T\tTrue\tFalse\tTrue\t\n",
      "L362M\tTrue\tTrue\tTrue\t\n",
      "H373R\tTrue\tFalse\tTrue\t\n",
      "H379R\tTrue\tFalse\tFalse\t\n",
      "H379T\tTrue\tFalse\tFalse\t\n",
      "W399R\tTrue\tTrue\tTrue\t\n",
      "W399C\tTrue\tFalse\tTrue\t\n",
      "W399A\tTrue\tFalse\tFalse\t\n",
      "W399G\tTrue\tFalse\tFalse\t\n",
      "W399S\tTrue\tFalse\tFalse\t\n",
      "S400A\tTrue\tFalse\tTrue\t\n",
      "D403A\tTrue\tFalse\tFalse\t\n",
      "N404A\tTrue\tFalse\tTrue\t\n",
      "N404C\tTrue\tTrue\tTrue\t\n",
      "E406A\tTrue\tFalse\tTrue\t\n",
      "E406D\tTrue\tFalse\tTrue\t\n",
      "W407A\tTrue\tFalse\tFalse\t\n",
      "W407G\tTrue\tFalse\tFalse\t\n",
      "W407K\tTrue\tFalse\tFalse\t\n",
      "W407Q\tTrue\tFalse\tFalse\t\n",
      "W407R\tTrue\tFalse\tFalse\t\n",
      "W407Y\tTrue\tFalse\tFalse\t\n",
      "W409Y\tTrue\tTrue\tTrue\t\n",
      "F415A\tTrue\tFalse\tTrue\t\n",
      "F415N\tTrue\tTrue\tFalse\t\n",
      "E423S\tTrue\tFalse\tTrue\t\n"
     ]
    }
   ],
   "source": [
    "run_tests()"
   ]
  },
  {
   "cell_type": "code",
   "execution_count": null,
   "metadata": {
    "collapsed": true
   },
   "outputs": [],
   "source": []
  },
  {
   "cell_type": "code",
   "execution_count": null,
   "metadata": {
    "collapsed": true
   },
   "outputs": [],
   "source": []
  }
 ],
 "metadata": {
  "anaconda-cloud": {},
  "kernelspec": {
   "display_name": "Python [conda root]",
   "language": "python",
   "name": "conda-root-py"
  },
  "language_info": {
   "codemirror_mode": {
    "name": "ipython",
    "version": 3
   },
   "file_extension": ".py",
   "mimetype": "text/x-python",
   "name": "python",
   "nbconvert_exporter": "python",
   "pygments_lexer": "ipython3",
   "version": "3.5.2"
  }
 },
 "nbformat": 4,
 "nbformat_minor": 1
}
